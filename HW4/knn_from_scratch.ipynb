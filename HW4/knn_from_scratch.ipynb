{
  "cells": [
    {
      "cell_type": "markdown",
      "metadata": {
        "id": "calft2ZEIg_b"
      },
      "source": [
        "# Practicel ML - KNN"
      ]
    },
    {
      "cell_type": "markdown",
      "metadata": {
        "id": "kvE1TbJvIg_e"
      },
      "source": [
        "### Full Name : mohamad hosein mehdikhani\n",
        "### Student Number : 400102039"
      ]
    },
    {
      "cell_type": "markdown",
      "metadata": {
        "id": "SblZ0hspIg_f"
      },
      "source": [
        "In this Notebook, we will implement KNN for the given dataset. This notebook has 3 phases, in the first phase we explore dataset, in the second phase we preprocess the dataset and in the last phase we implement KNN from scratch and also with sklearn and train it on the dataset."
      ]
    },
    {
      "cell_type": "code",
      "execution_count": null,
      "metadata": {
        "id": "vE2zTAFzIg_g"
      },
      "outputs": [],
      "source": [
        "import numpy as np\n",
        "import pandas as pd\n",
        "import matplotlib.pyplot as plt\n",
        "import seaborn as sns\n",
        "from sklearn.model_selection import train_test_split\n",
        "from sklearn.preprocessing import LabelEncoder"
      ]
    },
    {
      "cell_type": "markdown",
      "metadata": {
        "id": "UzVUkYvAIg_j"
      },
      "source": [
        "Inspect the first rows of the dataframe"
      ]
    },
    {
      "cell_type": "code",
      "execution_count": null,
      "metadata": {
        "colab": {
          "base_uri": "https://localhost:8080/"
        },
        "id": "t-c48ZcuIg_k",
        "outputId": "99f1938e-f20e-4dc0-b6f1-124fdacebce1"
      },
      "outputs": [
        {
          "output_type": "stream",
          "name": "stdout",
          "text": [
            "   Age Attrition BusinessTravel  DailyRate              Department  \\\n",
            "0   29        No  Travel_Rarely        592  Research & Development   \n",
            "1   36        No  Travel_Rarely        884                   Sales   \n",
            "2   34        No  Travel_Rarely       1326                   Sales   \n",
            "3   27        No  Travel_Rarely        954                   Sales   \n",
            "4   32        No  Travel_Rarely        929                   Sales   \n",
            "\n",
            "   DistanceFromHome  Education EducationField  EmployeeCount  EmployeeNumber  \\\n",
            "0                 7          3  Life Sciences              1            1883   \n",
            "1                 1          4  Life Sciences              1            1585   \n",
            "2                 3          3          Other              1            1478   \n",
            "3                 9          3      Marketing              1            1965   \n",
            "4                10          3      Marketing              1             722   \n",
            "\n",
            "   ...  RelationshipSatisfaction StandardHours  StockOptionLevel  \\\n",
            "0  ...                         2            80                 0   \n",
            "1  ...                         1            80                 0   \n",
            "2  ...                         4            80                 0   \n",
            "3  ...                         1            80                 0   \n",
            "4  ...                         4            80                 0   \n",
            "\n",
            "   TotalWorkingYears  TrainingTimesLastYear WorkLifeBalance  YearsAtCompany  \\\n",
            "0                 11                      2               3               3   \n",
            "1                 15                      5               3               1   \n",
            "2                 15                      2               3              13   \n",
            "3                  7                      5               3               7   \n",
            "4                 10                      2               2              10   \n",
            "\n",
            "  YearsInCurrentRole  YearsSinceLastPromotion  YearsWithCurrManager  \n",
            "0                  2                        1                     2  \n",
            "1                  0                        0                     0  \n",
            "2                  9                        3                    12  \n",
            "3                  7                        0                     7  \n",
            "4                  7                        0                     8  \n",
            "\n",
            "[5 rows x 35 columns]\n"
          ]
        }
      ],
      "source": [
        "dataset = pd.read_csv('train.csv')\n",
        "\n",
        "\n",
        "print(dataset.head())"
      ]
    },
    {
      "cell_type": "markdown",
      "metadata": {
        "id": "7EBUsERLIg_l"
      },
      "source": [
        "Calculate the number of samples"
      ]
    },
    {
      "cell_type": "code",
      "execution_count": null,
      "metadata": {
        "colab": {
          "base_uri": "https://localhost:8080/"
        },
        "id": "Fope3giOIg_m",
        "outputId": "a027a69a-604c-439e-b6a1-68ae6214f88b"
      },
      "outputs": [
        {
          "output_type": "stream",
          "name": "stdout",
          "text": [
            "Number of samples: 1103\n"
          ]
        }
      ],
      "source": [
        "num_samples = dataset.shape[0]\n",
        "print(\"Number of samples:\", num_samples+1)"
      ]
    },
    {
      "cell_type": "markdown",
      "metadata": {
        "id": "N1TCsiwTIg_o"
      },
      "source": [
        "Measure the number of unique values for each column. Note that Attrition is the target column."
      ]
    },
    {
      "cell_type": "code",
      "execution_count": 31,
      "metadata": {
        "colab": {
          "base_uri": "https://localhost:8080/"
        },
        "id": "w6rK90kzIg_q",
        "outputId": "a079eecd-5426-458f-8233-bbf471f860eb"
      },
      "outputs": [
        {
          "output_type": "stream",
          "name": "stdout",
          "text": [
            "Age                           43\n",
            "Attrition                      2\n",
            "BusinessTravel                 3\n",
            "DailyRate                    736\n",
            "Department                     3\n",
            "DistanceFromHome              29\n",
            "Education                      5\n",
            "EducationField                 6\n",
            "EmployeeCount                  1\n",
            "EmployeeNumber              1102\n",
            "EnvironmentSatisfaction        4\n",
            "Gender                         2\n",
            "HourlyRate                    71\n",
            "JobInvolvement                 4\n",
            "JobLevel                       5\n",
            "JobRole                        9\n",
            "JobSatisfaction                4\n",
            "MaritalStatus                  3\n",
            "MonthlyIncome               1027\n",
            "MonthlyRate                 1082\n",
            "NumCompaniesWorked            10\n",
            "Over18                         1\n",
            "OverTime                       2\n",
            "PercentSalaryHike             15\n",
            "PerformanceRating              2\n",
            "RelationshipSatisfaction       4\n",
            "StandardHours                  1\n",
            "StockOptionLevel               4\n",
            "TotalWorkingYears             40\n",
            "TrainingTimesLastYear          7\n",
            "WorkLifeBalance                4\n",
            "YearsAtCompany                34\n",
            "YearsInCurrentRole            19\n",
            "YearsSinceLastPromotion       16\n",
            "YearsWithCurrManager          17\n",
            "dtype: int64\n"
          ]
        }
      ],
      "source": [
        "\n",
        "unique_values = dataset.nunique()\n",
        "print(unique_values)"
      ]
    },
    {
      "cell_type": "markdown",
      "metadata": {
        "id": "m8Tip9dIIg_r"
      },
      "source": [
        "Check if there is a column with less than two unique values. If such a columns exists, remove it!"
      ]
    },
    {
      "cell_type": "code",
      "execution_count": null,
      "metadata": {
        "colab": {
          "base_uri": "https://localhost:8080/"
        },
        "id": "xgF1hIJVIg_r",
        "outputId": "2cabf7dc-15c4-42c2-a11c-2feca7a61778"
      },
      "outputs": [
        {
          "output_type": "stream",
          "name": "stdout",
          "text": [
            "Columns removed: Index(['EmployeeCount', 'Over18', 'StandardHours'], dtype='object')\n",
            "Dataset shape after removing columns with less than two unique values: (1102, 32)\n"
          ]
        }
      ],
      "source": [
        "\n",
        "columns_to_remove = unique_values[unique_values < 2].index\n",
        "dataset_cleaned = dataset.drop(columns=columns_to_remove)\n",
        "\n",
        "print(\"Columns removed:\", columns_to_remove)\n",
        "print(\"Dataset shape after removing columns with less than two unique values:\", dataset_cleaned.shape)\n"
      ]
    },
    {
      "cell_type": "markdown",
      "metadata": {
        "id": "ei14EEx2Ig_t"
      },
      "source": [
        "Plot Mean BusinessTravel against Age. Note: Since the BusinessTravel column is categorical, you should first consider another column corresponding to each unique value BusinessTravel takes. For instance, you may assume that if someone does not travel, the value of the column for this person is 0."
      ]
    },
    {
      "cell_type": "code",
      "execution_count": null,
      "metadata": {
        "id": "ESbf_rkFIg_t"
      },
      "outputs": [],
      "source": [
        "# handle uniqueness\n",
        "\n",
        "# TODO"
      ]
    },
    {
      "cell_type": "code",
      "execution_count": null,
      "metadata": {
        "id": "kCRxfakHIg_t",
        "colab": {
          "base_uri": "https://localhost:8080/"
        },
        "outputId": "b40a7499-e7b8-46a2-ac0e-478b1029637c"
      },
      "outputs": [
        {
          "output_type": "stream",
          "name": "stdout",
          "text": [
            "      BusinessTravel        Age\n",
            "0         Non-Travel  35.971698\n",
            "1  Travel_Frequently  36.539906\n",
            "2      Travel_Rarely  37.065134\n"
          ]
        }
      ],
      "source": [
        "\n",
        "business_travel_encoded = pd.get_dummies(dataset_cleaned['BusinessTravel'], prefix='BusinessTravel')\n",
        "\n",
        "\n",
        "dataset_encoded = pd.concat([dataset_cleaned, business_travel_encoded], axis=1)\n",
        "\n",
        "\n",
        "mean_age_by_travel = dataset_encoded.groupby('BusinessTravel')[['Age']].mean().reset_index()\n",
        "print(mean_age_by_travel,)"
      ]
    },
    {
      "cell_type": "code",
      "execution_count": null,
      "metadata": {
        "colab": {
          "base_uri": "https://localhost:8080/",
          "height": 584
        },
        "id": "Tc0P0JB5Ig_v",
        "outputId": "91bfae32-302c-44de-fc27-481a7c2eb1b4"
      },
      "outputs": [
        {
          "output_type": "display_data",
          "data": {
            "text/plain": [
              "<Figure size 1000x600 with 1 Axes>"
            ],
            "image/png": "[encoded data removed]"
          },
          "metadata": {}
        }
      ],
      "source": [
        "\n",
        "plt.figure(figsize=(10, 6))\n",
        "sns.barplot(data=mean_age_by_travel, x='BusinessTravel', y='Age')\n",
        "plt.xlabel('Business Travel Category')\n",
        "plt.ylabel('Mean Age')\n",
        "plt.title('Mean Age for Each Business Travel Category')\n",
        "plt.show()"
      ]
    },
    {
      "cell_type": "markdown",
      "metadata": {
        "id": "ro44PWk_Ig_v"
      },
      "source": [
        "Check if there seems to be a meaningful relationship between people's age and the years they have worked with their current manager. Your result should be a plot."
      ]
    },
    {
      "cell_type": "code",
      "execution_count": null,
      "metadata": {
        "colab": {
          "base_uri": "https://localhost:8080/",
          "height": 584
        },
        "id": "4MmyakuqIg_v",
        "outputId": "ccd5e93d-5d11-4a98-9dec-97dc61974efd"
      },
      "outputs": [
        {
          "output_type": "display_data",
          "data": {
            "text/plain": [
              "<Figure size 1000x600 with 1 Axes>"
            ],
            "image/png": "[encoded data removed]"
          },
          "metadata": {}
        }
      ],
      "source": [
        "\n",
        "\n",
        "if 'Age' in dataset_cleaned.columns and 'YearsWithCurrManager' in dataset_cleaned.columns:\n",
        "\n",
        "    plt.figure(figsize=(10, 6))\n",
        "    sns.scatterplot(data=dataset_cleaned, x='Age', y='YearsWithCurrManager')\n",
        "    plt.xlabel('Age')\n",
        "    plt.ylabel('Years with Current Manager')\n",
        "    plt.title('Relationship between Age and Years with Current Manager')\n",
        "    plt.show()\n",
        "else:\n",
        "    print(\"'Age' or 'YearsWithCurrManager' column not found in the dataset.\")"
      ]
    },
    {
      "cell_type": "markdown",
      "source": [
        "It seems that old are more likely to change their manager.the plot should be y=x+b for every age=b so for bigger b's we have more lost points in the plot so they have quit or retired already. (added by the 400102039 mohamad hosein mehdikhani)"
      ],
      "metadata": {
        "id": "jMcJIhBRDxYz"
      }
    },
    {
      "cell_type": "markdown",
      "metadata": {
        "id": "lYOoZ9UdIg_v"
      },
      "source": [
        "Plot the average MonthlyIncome against the YearsAtCompany."
      ]
    },
    {
      "cell_type": "code",
      "execution_count": null,
      "metadata": {
        "colab": {
          "base_uri": "https://localhost:8080/",
          "height": 584
        },
        "id": "8c_RyDAbIg_v",
        "outputId": "3fd71bfc-a985-42de-b8aa-c66e5002ed75"
      },
      "outputs": [
        {
          "output_type": "display_data",
          "data": {
            "text/plain": [
              "<Figure size 1000x600 with 1 Axes>"
            ],
            "image/png": "[encoded data removed]"
          },
          "metadata": {}
        }
      ],
      "source": [
        "\n",
        "if 'MonthlyIncome' in dataset_cleaned.columns and 'YearsAtCompany' in dataset_cleaned.columns:\n",
        "\n",
        "    mean_income_by_years = dataset_cleaned.groupby('YearsAtCompany')['MonthlyIncome'].mean().reset_index()\n",
        "\n",
        "\n",
        "    plt.figure(figsize=(10, 6))\n",
        "    sns.barplot(data=mean_income_by_years, x='YearsAtCompany', y='MonthlyIncome')\n",
        "    plt.xlabel('Years at Company')\n",
        "    plt.ylabel('Average Monthly Income')\n",
        "    plt.title('Average Monthly Income by Years at Company')\n",
        "    plt.show()\n",
        "else:\n",
        "    print(\"'MonthlyIncome' or 'YearsAtCompany' column not found in the dataset.\")"
      ]
    },
    {
      "cell_type": "markdown",
      "metadata": {
        "id": "XmhbJURMIg_x"
      },
      "source": [
        "## Preprocessing"
      ]
    },
    {
      "cell_type": "markdown",
      "metadata": {
        "id": "mhEsLYE0Ig_x"
      },
      "source": [
        "Label encode all categorical columns and split the data into train and test parts. The training part will further splitted into train and validation parts."
      ]
    },
    {
      "cell_type": "code",
      "execution_count": 32,
      "metadata": {
        "id": "-KE6PS42Ig_x"
      },
      "outputs": [],
      "source": [
        "\n",
        "label_encoders = {}\n",
        "for column in dataset_cleaned.select_dtypes(include=['object']).columns:\n",
        "    le = LabelEncoder()\n",
        "    dataset_cleaned[column] = le.fit_transform(dataset_cleaned[column])\n",
        "    label_encoders[column] = le\n"
      ]
    },
    {
      "cell_type": "code",
      "execution_count": null,
      "metadata": {
        "id": "50dteXKqIg_x",
        "colab": {
          "base_uri": "https://localhost:8080/"
        },
        "outputId": "0fd3fd4a-c118-4e69-ab37-a1ea88e266e0"
      },
      "outputs": [
        {
          "output_type": "stream",
          "name": "stdout",
          "text": [
            "Training set shape: (704, 31)\n",
            "Validation set shape: (177, 31)\n",
            "Test set shape: (221, 31)\n"
          ]
        }
      ],
      "source": [
        "\n",
        "target_column = 'Attrition'\n",
        "X = dataset_cleaned.drop(columns=target_column)\n",
        "y = dataset_cleaned[target_column]\n",
        "\n",
        "\n",
        "X_train, X_test, y_train, y_test = train_test_split(X, y, test_size=0.2, random_state=42, stratify=y)\n",
        "\n",
        "\n",
        "X_train, X_val, y_train, y_val = train_test_split(X_train, y_train, test_size=0.2, random_state=42, stratify=y_train)\n",
        "\n",
        "print(\"Training set shape:\", X_train.shape)\n",
        "print(\"Validation set shape:\", X_val.shape)\n",
        "print(\"Test set shape:\", X_test.shape)"
      ]
    },
    {
      "cell_type": "code",
      "execution_count": null,
      "metadata": {
        "id": "TsOwC2THIg_x",
        "colab": {
          "base_uri": "https://localhost:8080/"
        },
        "outputId": "7f1ac378-a29d-4384-b769-d22a76b06529"
      },
      "outputs": [
        {
          "output_type": "stream",
          "name": "stdout",
          "text": [
            "Length of training set (X_train): 704\n",
            "Length of validation set (X_val): 177\n",
            "Length of training labels (y_train): 704\n",
            "Length of validation labels (y_val): 177\n"
          ]
        }
      ],
      "source": [
        "\n",
        "print(\"Length of training set (X_train):\", len(X_train))\n",
        "print(\"Length of validation set (X_val):\", len(X_val))\n",
        "print(\"Length of training labels (y_train):\", len(y_train))\n",
        "print(\"Length of validation labels (y_val):\", len(y_val))"
      ]
    },
    {
      "cell_type": "markdown",
      "metadata": {
        "id": "gGM5cUikIg_x"
      },
      "source": [
        "Split the test and validation dataframe into feature and label part, Attrition columns is the target columns and rest of the columns should be treated as features. (Note that win_or_defeat column is the target column)"
      ]
    },
    {
      "cell_type": "code",
      "execution_count": 33,
      "metadata": {
        "id": "-vqe4zotIg_y",
        "colab": {
          "base_uri": "https://localhost:8080/"
        },
        "outputId": "e72d4ee0-35ef-479c-9c66-eed862b12f54"
      },
      "outputs": [
        {
          "output_type": "stream",
          "name": "stdout",
          "text": [
            "Validation features shape: (177, 31)\n",
            "Validation labels shape: (177,)\n",
            "Test features shape: (221, 31)\n",
            "Test labels shape: (221,)\n"
          ]
        }
      ],
      "source": [
        "\n",
        "X_val_features = X_val.copy()\n",
        "y_val_labels = y_val.copy()\n",
        "\n",
        "\n",
        "X_test_features = X_test.copy()\n",
        "y_test_labels = y_test.copy()\n",
        "\n",
        "print(\"Validation features shape:\", X_val_features.shape)\n",
        "print(\"Validation labels shape:\", y_val_labels.shape)\n",
        "print(\"Test features shape:\", X_test_features.shape)\n",
        "print(\"Test labels shape:\", y_test_labels.shape)"
      ]
    },
    {
      "cell_type": "markdown",
      "metadata": {
        "id": "vbWH7ohwIg_y"
      },
      "source": [
        "\n",
        "# Model Implementation From Scratch\n",
        "  "
      ]
    },
    {
      "cell_type": "markdown",
      "metadata": {
        "id": "aWfHEFrfIg_y"
      },
      "source": [
        "\n",
        "\n",
        "## How the algorithm works\n",
        "\n",
        "**We calculate the euclidean distance between a new sample and all points**\n",
        "\n",
        "**We determine the label of the sample based on the majority vote**\n",
        "\n",
        "## Key Points:\n",
        "\n",
        "### Euclidean Distance\n",
        "**Euclidean distance is defined as the distance between two points**\n",
        "\n",
        "**Where it's represented by this equation :\n",
        "$$\\sqrt{\\sum\\limits_{i = 0}^{m-1} (x - y)^2}$$**\n"
      ]
    },
    {
      "cell_type": "code",
      "execution_count": null,
      "metadata": {
        "colab": {
          "base_uri": "https://localhost:8080/"
        },
        "id": "w2EE0xjCIg_y",
        "outputId": "fbddbea1-f292-41a9-853c-60f9a3d326aa"
      },
      "outputs": [
        {
          "output_type": "stream",
          "name": "stdout",
          "text": [
            "[0 0 0 0 0 1 0 0 1 0 0 0 0 0 0 0 0 0 0 0 0 0 1 0 0 0 0 0 0 1 0 0 0 1 0 0 0\n",
            " 0 0 0 0 0 1 0 0 0 0 1 0 1 0 0 0 0 1 0 0 0 1 0 0 1 0 0 0 0 0 0 0 0 0 0 0 0\n",
            " 0 0 0 0 0 0 0 0 0 0 0 0 0 0 0 0 0 0 0 0 0 0 0 0 0 0 0 0 0 1 0 0 0 0 0 1 0\n",
            " 0 1 0 0 0 0 0 1 0 0 0 0 0 0 0 0 0 0 0 0 0 0 0 0 0 0 0 0 0 0 0 0 0 0 0 0 0\n",
            " 0 0 0 0 1 0 0 0 0 0 0 0 0 0 1 0 0 0 0 0 0 0 0 0 0 0 0 0 0]\n"
          ]
        }
      ],
      "source": [
        "class KNN:\n",
        "    def __init__(self, k=3):\n",
        "        \"\"\"\n",
        "        Initialize the KNN classifier.\n",
        "\n",
        "        Parameters:\n",
        "        - k (int): Number of neighbors to consider.\n",
        "        \"\"\"\n",
        "        self.k = k\n",
        "\n",
        "    def fit(self, X_train, y_train):\n",
        "        \"\"\"\n",
        "        Fit the KNN classifier to the training data.\n",
        "\n",
        "        Parameters:\n",
        "        - X_train (numpy array): Training feature vectors.\n",
        "        - y_train (numpy array): Training labels.\n",
        "        \"\"\"\n",
        "        self.X_train = X_train\n",
        "        self.y_train = y_train\n",
        "\n",
        "    def euclidean_distance(self, x1, x2):\n",
        "        \"\"\"\n",
        "        Calculate the distance between two data points.\n",
        "\n",
        "        Parameters:\n",
        "        - x1 (numpy array): First data point.\n",
        "        - x2 (numpy array): Second data point.\n",
        "\n",
        "        Returns:\n",
        "        - float: Distance between x1 and x2.\n",
        "        \"\"\"\n",
        "        return np.sqrt(np.sum((x1 - x2) ** 2))\n",
        "\n",
        "    def predict(self, X_test):\n",
        "        \"\"\"\n",
        "        Predict labels for test data.\n",
        "\n",
        "        Parameters:\n",
        "        - X_test (numpy array): Test feature vectors.\n",
        "\n",
        "        Returns:\n",
        "        - numpy array: Predicted labels.\n",
        "        \"\"\"\n",
        "        predicted_labels = [self._predict(x) for x in X_test]\n",
        "        return np.array(predicted_labels)\n",
        "\n",
        "    def _predict(self, x):\n",
        "        \"\"\"\n",
        "        Predict label for a single data point.\n",
        "\n",
        "        Parameters:\n",
        "        - x (numpy array): Test data point.\n",
        "\n",
        "        Returns:\n",
        "        - int: Predicted label.\n",
        "        \"\"\"\n",
        "\n",
        "        distances = [self.euclidean_distance(x, x_train) for x_train in self.X_train]\n",
        "\n",
        "\n",
        "        k_indices = np.argsort(distances)[:self.k]\n",
        "\n",
        "\n",
        "        k_nearest_labels = [self.y_train[i] for i in k_indices]\n",
        "\n",
        "\n",
        "        most_common = Counter(k_nearest_labels).most_common(1)\n",
        "        return most_common[0][0]\n",
        "\n",
        "\n",
        "knn = KNN(k=3)\n",
        "\n",
        "\n",
        "knn.fit(X_train.values, y_train.values)\n",
        "\n",
        "predictions = knn.predict(X_val.values)\n",
        "\n",
        "\n",
        "print(predictions)\n"
      ]
    },
    {
      "cell_type": "markdown",
      "metadata": {
        "id": "6mKNZL8fIg_z"
      },
      "source": [
        "\n",
        "# Evaluation\n",
        "  "
      ]
    },
    {
      "cell_type": "markdown",
      "metadata": {
        "id": "48IQH0dWIg_z"
      },
      "source": [
        "Define the model and train it."
      ]
    },
    {
      "cell_type": "code",
      "execution_count": 34,
      "metadata": {
        "colab": {
          "base_uri": "https://localhost:8080/"
        },
        "id": "RwsV8AQhIg_z",
        "outputId": "da4d19af-dd2b-48fe-a0df-3938b57a0b56"
      },
      "outputs": [
        {
          "output_type": "stream",
          "name": "stdout",
          "text": [
            "Validation Accuracy: 76.84%\n",
            "Test Accuracy: 79.19%\n"
          ]
        }
      ],
      "source": [
        "\n",
        "knn = KNN(k=3)\n",
        "\n",
        "\n",
        "knn.fit(X_train.values, y_train.values)\n",
        "\n",
        "\n",
        "val_predictions = knn.predict(X_val.values)\n",
        "\n",
        "\n",
        "val_accuracy = np.mean(val_predictions == y_val.values)\n",
        "print(f'Validation Accuracy: {val_accuracy * 100:.2f}%')\n",
        "\n",
        "\n",
        "test_predictions = knn.predict(X_test.values)\n",
        "\n",
        "\n",
        "test_accuracy = np.mean(test_predictions == y_test.values)\n",
        "print(f'Test Accuracy: {test_accuracy * 100:.2f}%')"
      ]
    },
    {
      "cell_type": "markdown",
      "metadata": {
        "id": "D0CSlTyoIg_0"
      },
      "source": [
        "Predict the y_train and y_test values."
      ]
    },
    {
      "cell_type": "code",
      "execution_count": 35,
      "metadata": {
        "execution": {
          "iopub.execute_input": "2024-05-03T18:25:54.258208Z",
          "iopub.status.busy": "2024-05-03T18:25:54.257748Z",
          "iopub.status.idle": "2024-05-03T18:26:07.523176Z",
          "shell.execute_reply": "2024-05-03T18:26:07.522071Z",
          "shell.execute_reply.started": "2024-05-03T18:25:54.258172Z"
        },
        "colab": {
          "base_uri": "https://localhost:8080/"
        },
        "id": "VUcfJyQQIg_1",
        "outputId": "d6931c3c-cf3b-43cd-e1fe-d878b1359fef"
      },
      "outputs": [
        {
          "output_type": "stream",
          "name": "stdout",
          "text": [
            "Predicted labels for training set: [0 0 0 0 0 0 0 0 0 1 0 0 0 0 0 0 0 0 0 0 0 0 0 0 0 0 0 0 0 0 0 0 0 0 1 0 0\n",
            " 0 0 0 0 0 0 0 0 0 0 0 0 0 0 0 0 0 0 0 0 0 0 1 0 0 0 0 1 0 0 1 0 0 0 0 0 0\n",
            " 0 0 0 0 0 0 0 0 0 0 0 1 0 0 0 0 0 0 0 0 0 0 0 0 0 0 0 0 0 0 0 0 0 0 1 1 1\n",
            " 0 0 0 0 0 0 0 0 0 0 1 0 0 0 0 0 1 0 0 0 0 0 0 0 0 0 1 0 0 0 0 0 0 0 0 0 0\n",
            " 1 0 0 0 0 0 0 0 0 0 0 0 0 0 0 0 0 1 0 0 0 0 0 0 0 1 0 1 0 0 0 0 0 0 1 0 0\n",
            " 0 0 0 0 0 0 0 0 0 0 0 0 0 0 0 0 0 0 0 0 0 0 0 0 0 0 0 0 0 0 0 0 0 0 0 1 0\n",
            " 0 0 1 0 0 0 0 1 0 0 0 0 1 0 0 0 0 0 0 0 0 0 0 0 0 1 0 0 0 0 0 0 0 0 0 0 0\n",
            " 0 0 1 1 0 1 0 0 0 0 0 0 0 0 0 0 0 0 0 0 0 0 0 0 1 0 0 1 0 0 0 0 0 0 0 0 1\n",
            " 0 0 0 0 0 0 0 0 0 0 0 0 0 0 0 0 0 0 0 0 0 1 0 1 0 0 0 0 0 0 0 0 0 0 0 0 0\n",
            " 0 0 0 0 0 0 0 0 0 0 0 0 0 0 0 0 0 0 0 0 0 0 1 0 0 0 0 0 0 0 0 0 0 0 1 1 0\n",
            " 0 0 0 0 0 0 0 0 0 0 0 0 0 1 0 0 0 0 0 0 0 0 0 0 0 0 0 0 0 0 0 0 0 0 0 0 0\n",
            " 0 0 0 0 0 0 0 0 0 0 0 0 0 0 0 0 0 0 1 0 0 0 0 0 0 0 0 0 0 0 0 0 0 0 0 0 0\n",
            " 0 1 0 0 1 0 0 0 0 0 0 0 0 0 0 0 1 0 0 0 0 0 0 0 0 0 0 0 1 0 0 0 0 1 0 0 1\n",
            " 0 1 0 0 0 1 0 0 0 0 0 0 0 0 0 0 0 1 0 0 0 0 0 0 0 0 0 0 0 0 0 0 0 1 0 0 0\n",
            " 0 0 0 1 0 0 0 0 0 0 0 0 0 0 0 0 0 0 0 0 0 0 0 0 0 0 0 0 0 0 0 0 0 0 0 0 0\n",
            " 0 0 0 1 0 0 0 0 0 1 0 0 0 0 0 0 0 1 0 0 0 1 0 0 0 0 0 0 0 0 0 0 0 0 0 0 0\n",
            " 1 0 0 0 0 0 1 0 0 0 0 0 0 1 0 0 1 0 0 0 0 1 0 0 0 1 0 0 0 1 0 1 0 1 0 0 1\n",
            " 0 0 0 0 0 0 0 0 0 0 0 0 0 0 0 0 0 1 0 0 1 0 0 0 0 0 0 0 0 0 1 0 1 0 0 0 0\n",
            " 0 0 0 0 0 0 0 0 0 1 0 0 0 0 1 0 0 0 1 0 0 0 0 0 0 0 0 0 1 0 0 1 0 1 0 0 0\n",
            " 0]\n",
            "Predicted labels for test set: [0 0 0 0 0 0 0 0 0 0 0 0 0 0 0 0 0 0 0 0 0 0 0 0 0 0 1 0 0 0 0 0 0 0 1 0 0\n",
            " 0 0 0 0 0 0 1 0 0 0 0 0 0 0 0 0 0 0 0 0 0 0 0 0 0 0 0 1 0 0 0 0 0 0 0 0 1\n",
            " 1 0 0 0 0 0 0 0 1 0 0 0 0 0 1 0 0 0 0 0 0 1 0 0 0 0 0 0 0 0 0 0 0 0 0 0 0\n",
            " 0 0 0 0 0 0 1 0 0 0 0 0 0 0 0 0 0 0 0 0 0 0 1 0 0 0 0 0 0 0 0 0 1 0 0 0 0\n",
            " 0 0 0 1 1 0 0 0 0 0 0 0 0 0 0 0 0 0 0 0 0 0 0 0 0 0 0 0 0 0 0 0 1 0 0 0 0\n",
            " 0 0 0 0 0 0 0 0 0 0 0 0 0 1 0 0 0 0 0 0 0 0 0 0 0 0 0 0 0 0 0 0 0 0 0 0]\n"
          ]
        }
      ],
      "source": [
        "\n",
        "train_predictions = knn.predict(X_train.values)\n",
        "\n",
        "\n",
        "test_predictions = knn.predict(X_test.values)\n",
        "\n",
        "\n",
        "print(\"Predicted labels for training set:\", train_predictions)\n",
        "print(\"Predicted labels for test set:\", test_predictions)"
      ]
    },
    {
      "cell_type": "markdown",
      "metadata": {
        "id": "8eaXokibIg_1"
      },
      "source": [
        "# Sklearn Implementation\n",
        "  "
      ]
    },
    {
      "cell_type": "markdown",
      "metadata": {
        "id": "T5_Og7PSIg_1"
      },
      "source": [
        "Define the sklearn knn model and fit to the training data"
      ]
    },
    {
      "cell_type": "code",
      "execution_count": 36,
      "metadata": {
        "id": "OHMYEqN4Ig_1",
        "colab": {
          "base_uri": "https://localhost:8080/"
        },
        "outputId": "b69917b9-74c6-45a2-f406-fc2f6a934569"
      },
      "outputs": [
        {
          "output_type": "stream",
          "name": "stdout",
          "text": [
            "KNN Model trained successfully with sklearn!\n",
            "Predicted labels for training set (sklearn): [0 0 0 0 0 0 0 0 0 1 0 0 0 0 0 0 0 0 0 0 0 0 0 0 0 0 0 0 0 0 0 0 0 0 1 0 0\n",
            " 0 0 0 0 0 0 0 0 0 0 0 0 0 0 0 0 0 0 0 0 0 0 1 0 0 0 0 1 0 0 1 0 0 0 0 0 0\n",
            " 0 0 0 0 0 0 0 0 0 0 0 1 0 0 0 0 0 0 0 0 0 0 0 0 0 0 0 0 0 0 0 0 0 0 1 1 1\n",
            " 0 0 0 0 0 0 0 0 0 0 1 0 0 0 0 0 1 0 0 0 0 0 0 0 0 0 1 0 0 0 0 0 0 0 0 0 0\n",
            " 1 0 0 0 0 0 0 0 0 0 0 0 0 0 0 0 0 1 0 0 0 0 0 0 0 1 0 1 0 0 0 0 0 0 1 0 0\n",
            " 0 0 0 0 0 0 0 0 0 0 0 0 0 0 0 0 0 0 0 0 0 0 0 0 0 0 0 0 0 0 0 0 0 0 0 1 0\n",
            " 0 0 1 0 0 0 0 1 0 0 0 0 1 0 0 0 0 0 0 0 0 0 0 0 0 1 0 0 0 0 0 0 0 0 0 0 0\n",
            " 0 0 1 1 0 1 0 0 0 0 0 0 0 0 0 0 0 0 0 0 0 0 0 0 1 0 0 1 0 0 0 0 0 0 0 0 1\n",
            " 0 0 0 0 0 0 0 0 0 0 0 0 0 0 0 0 0 0 0 0 0 1 0 1 0 0 0 0 0 0 0 0 0 0 0 0 0\n",
            " 0 0 0 0 0 0 0 0 0 0 0 0 0 0 0 0 0 0 0 0 0 0 1 0 0 0 0 0 0 0 0 0 0 0 1 1 0\n",
            " 0 0 0 0 0 0 0 0 0 0 0 0 0 1 0 0 0 0 0 0 0 0 0 0 0 0 0 0 0 0 0 0 0 0 0 0 0\n",
            " 0 0 0 0 0 0 0 0 0 0 0 0 0 0 0 0 0 0 1 0 0 0 0 0 0 0 0 0 0 0 0 0 0 0 0 0 0\n",
            " 0 1 0 0 1 0 0 0 0 0 0 0 0 0 0 0 1 0 0 0 0 0 0 0 0 0 0 0 1 0 0 0 0 1 0 0 1\n",
            " 0 1 0 0 0 1 0 0 0 0 0 0 0 0 0 0 0 1 0 0 0 0 0 0 0 0 0 0 0 0 0 0 0 1 0 0 0\n",
            " 0 0 0 1 0 0 0 0 0 0 0 0 0 0 0 0 0 0 0 0 0 0 0 0 0 0 0 0 0 0 0 0 0 0 0 0 0\n",
            " 0 0 0 1 0 0 0 0 0 1 0 0 0 0 0 0 0 1 0 0 0 1 0 0 0 0 0 0 0 0 0 0 0 0 0 0 0\n",
            " 1 0 0 0 0 0 1 0 0 0 0 0 0 1 0 0 1 0 0 0 0 1 0 0 0 1 0 0 0 1 0 1 0 1 0 0 1\n",
            " 0 0 0 0 0 0 0 0 0 0 0 0 0 0 0 0 0 1 0 0 1 0 0 0 0 0 0 0 0 0 1 0 1 0 0 0 0\n",
            " 0 0 0 0 0 0 0 0 0 1 0 0 0 0 1 0 0 0 1 0 0 0 0 0 0 0 0 0 1 0 0 1 0 1 0 0 0\n",
            " 0]\n",
            "Predicted labels for test set (sklearn): [0 0 0 0 0 0 0 0 0 0 0 0 0 0 0 0 0 0 0 0 0 0 0 0 0 0 1 0 0 0 0 0 0 0 1 0 0\n",
            " 0 0 0 0 0 0 1 0 0 0 0 0 0 0 0 0 0 0 0 0 0 0 0 0 0 0 0 1 0 0 0 0 0 0 0 0 1\n",
            " 1 0 0 0 0 0 0 0 1 0 0 0 0 0 1 0 0 0 0 0 0 1 0 0 0 0 0 0 0 0 0 0 0 0 0 0 0\n",
            " 0 0 0 0 0 0 1 0 0 0 0 0 0 0 0 0 0 0 0 0 0 0 1 0 0 0 0 0 0 0 0 0 1 0 0 0 0\n",
            " 0 0 0 1 1 0 0 0 0 0 0 0 0 0 0 0 0 0 0 0 0 0 0 0 0 0 0 0 0 0 0 0 1 0 0 0 0\n",
            " 0 0 0 0 0 0 0 0 0 0 0 0 0 1 0 0 0 0 0 0 0 0 0 0 0 0 0 0 0 0 0 0 0 0 0 0]\n",
            "Sklearn Training Accuracy: 88.21%\n",
            "Sklearn Test Accuracy: 79.19%\n"
          ]
        }
      ],
      "source": [
        "\n",
        "from sklearn.neighbors import KNeighborsClassifier\n",
        "\n",
        "\n",
        "k = 3\n",
        "knn_model = KNeighborsClassifier(n_neighbors=k)\n",
        "\n",
        "\n",
        "knn_model.fit(X_train, y_train)\n",
        "\n",
        "\n",
        "print(\"KNN Model trained successfully with sklearn!\")\n",
        "\n",
        "\n",
        "train_predictions_sklearn = knn_model.predict(X_train)\n",
        "\n",
        "\n",
        "test_predictions_sklearn = knn_model.predict(X_test)\n",
        "\n",
        "\n",
        "print(\"Predicted labels for training set (sklearn):\", train_predictions_sklearn)\n",
        "print(\"Predicted labels for test set (sklearn):\", test_predictions_sklearn)\n",
        "\n",
        "train_accuracy_sklearn = np.mean(train_predictions_sklearn == y_train)\n",
        "print(f'Sklearn Training Accuracy: {train_accuracy_sklearn * 100:.2f}%')\n",
        "\n",
        "\n",
        "test_accuracy_sklearn = np.mean(test_predictions_sklearn == y_test)\n",
        "print(f'Sklearn Test Accuracy: {test_accuracy_sklearn * 100:.2f}%')"
      ]
    },
    {
      "cell_type": "markdown",
      "metadata": {
        "id": "0VLx3E0RIg_1"
      },
      "source": [
        "Now predict the defined model on test data and return the accuracy"
      ]
    },
    {
      "cell_type": "code",
      "execution_count": null,
      "metadata": {
        "execution": {
          "iopub.execute_input": "2024-05-03T18:20:24.367606Z",
          "iopub.status.busy": "2024-05-03T18:20:24.367183Z",
          "iopub.status.idle": "2024-05-03T18:20:24.409309Z",
          "shell.execute_reply": "2024-05-03T18:20:24.407468Z",
          "shell.execute_reply.started": "2024-05-03T18:20:24.367572Z"
        },
        "id": "GMSayzC-Ig_1",
        "outputId": "3897213e-0f68-4a8c-e275-a614ebba5093",
        "colab": {
          "base_uri": "https://localhost:8080/"
        }
      },
      "outputs": [
        {
          "output_type": "stream",
          "name": "stdout",
          "text": [
            "Accuracy: 0.7918552036199095\n"
          ]
        }
      ],
      "source": [
        "\n",
        "from sklearn.metrics import accuracy_score\n",
        "\n",
        "\n",
        "y_pred = knn_model.predict(X_test)\n",
        "\n",
        "\n",
        "accuracy = accuracy_score(y_test, y_pred)\n",
        "print(\"Accuracy:\", accuracy)\n"
      ]
    },
    {
      "cell_type": "markdown",
      "metadata": {
        "id": "_O0gbdtQIg_2"
      },
      "source": [
        "# Thank You\n",
        "\n",
        "\n",
        "**Thank you for taking your time going through this notebook**\n",
        "\n",
        "**If you have any feedback please let me know**"
      ]
    }
  ],
  "metadata": {
    "kaggle": {
      "accelerator": "none",
      "dataSources": [
        {
          "datasetId": 4932532,
          "sourceId": 8302851,
          "sourceType": "datasetVersion"
        }
      ],
      "dockerImageVersionId": 30260,
      "isGpuEnabled": false,
      "isInternetEnabled": true,
      "language": "python",
      "sourceType": "notebook"
    },
    "kernelspec": {
      "display_name": "Python 3 (ipykernel)",
      "language": "python",
      "name": "python3"
    },
    "language_info": {
      "codemirror_mode": {
        "name": "ipython",
        "version": 3
      },
      "file_extension": ".py",
      "mimetype": "text/x-python",
      "name": "python",
      "nbconvert_exporter": "python",
      "pygments_lexer": "ipython3",
      "version": "3.11.0"
    },
    "colab": {
      "provenance": []
    }
  },
  "nbformat": 4,
  "nbformat_minor": 0
}