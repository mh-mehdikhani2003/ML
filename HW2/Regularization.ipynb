{
  "nbformat": 4,
  "nbformat_minor": 0,
  "metadata": {
    "colab": {
      "provenance": [],
      "gpuType": "T4",
      "toc_visible": true
    },
    "kernelspec": {
      "name": "python3",
      "display_name": "Python 3"
    },
    "language_info": {
      "name": "python"
    }
  },
  "cells": [
    {
      "cell_type": "markdown",
      "source": [
        "# **Introduction**"
      ],
      "metadata": {
        "id": "6Y2oAz-bELlu"
      }
    },
    {
      "cell_type": "markdown",
      "source": [
        "In this assignment, you will work with a dataset that includes The Boston housing data was collected in 1978 and each of the 506 entries represent aggregated data about 14 features for homes from various suburbs in Boston, Massachusetts. The target variable of interest in this dataset is the median value of owner-occupied homes (MEDV), which serves as a proxy for the house prices.\n",
        "First, you will start by fitting a basic regression model using scikit-learn (sklearn) to establish a baseline for comparison. This basic regression model will serve as a reference point for evaluating the performance of more sophisticated models incorporating regularization techniques.\n",
        "\n",
        "Furthermore, you will apply L1 (Lasso) and L2 (Ridge) regularization techniques to refine your predictions and evaluate the impact of these methods on the accuracy of your results. Regularization is a technique used to prevent overfitting by adding a penalty term to the loss function, encouraging simpler models with smaller coefficients. L1 regularization (Lasso) encourages sparsity by penalizing the absolute values of coefficients, while L2 regularization (Ridge) penalizes the square of coefficients. By incorporating these regularization techniques, you aim to improve the generalization performance of your regression models and obtain more robust predictions of house prices in the Boston area."
      ],
      "metadata": {
        "id": "333JCswHnbQp"
      }
    },
    {
      "cell_type": "markdown",
      "source": [
        "## Imports"
      ],
      "metadata": {
        "id": "sDDdf9AAoYXt"
      }
    },
    {
      "cell_type": "code",
      "source": [
        "import os\n",
        "import pandas\n",
        "from sklearn.linear_model import LinearRegression, Lasso, Ridge\n",
        "from sklearn.metrics import mean_squared_error, r2_score\n",
        "from sklearn.model_selection import train_test_split\n",
        "from sklearn.preprocessing import StandardScaler, PolynomialFeatures\n",
        "import numpy as np\n",
        "import pandas as pd\n",
        "import seaborn as sns\n",
        "from joblib import dump, load\n",
        "from matplotlib import pyplot as plt\n",
        "\n",
        "!wget -O /HousingData.csv \"https://www.dropbox.com/scl/fi/j3rxgrd8l7fgczzhiedlp/new.csv?rlkey=yngaf57gumhtmm3hxffk20qll&dl=0\""
      ],
      "metadata": {
        "id": "kkjrbInyoRyN",
        "colab": {
          "base_uri": "https://localhost:8080/"
        },
        "outputId": "d7270792-0d2b-408d-c967-898d9b62ab94"
      },
      "execution_count": null,
      "outputs": [
        {
          "output_type": "stream",
          "name": "stdout",
          "text": [
            "--2024-04-04 14:46:14--  https://www.dropbox.com/scl/fi/j3rxgrd8l7fgczzhiedlp/new.csv?rlkey=yngaf57gumhtmm3hxffk20qll&dl=0\n",
            "Resolving www.dropbox.com (www.dropbox.com)... 162.125.2.18, 2620:100:6022:18::a27d:4212\n",
            "Connecting to www.dropbox.com (www.dropbox.com)|162.125.2.18|:443... connected.\n",
            "HTTP request sent, awaiting response... 302 Found\n",
            "Location: https://ucaf97cf649a446f1c6a76a56ced.dl.dropboxusercontent.com/cd/0/inline/CQacMaVFUE-Llg4AYOpwtbwJblDtBPadSM94PjX2logrYPDblV1ZnYuyzQxwwyd60x_JqG7Ruy3GM4kieotlWSvjBfFF7nW3mk4Yoi9AMEERH2DpdXMUDzepPn08MMCczisuCZpdSDJ1s1hP3ZWco-G3/file# [following]\n",
            "--2024-04-04 14:46:14--  https://ucaf97cf649a446f1c6a76a56ced.dl.dropboxusercontent.com/cd/0/inline/CQacMaVFUE-Llg4AYOpwtbwJblDtBPadSM94PjX2logrYPDblV1ZnYuyzQxwwyd60x_JqG7Ruy3GM4kieotlWSvjBfFF7nW3mk4Yoi9AMEERH2DpdXMUDzepPn08MMCczisuCZpdSDJ1s1hP3ZWco-G3/file\n",
            "Resolving ucaf97cf649a446f1c6a76a56ced.dl.dropboxusercontent.com (ucaf97cf649a446f1c6a76a56ced.dl.dropboxusercontent.com)... 162.125.2.15, 2620:100:6017:15::a27d:20f\n",
            "Connecting to ucaf97cf649a446f1c6a76a56ced.dl.dropboxusercontent.com (ucaf97cf649a446f1c6a76a56ced.dl.dropboxusercontent.com)|162.125.2.15|:443... connected.\n",
            "HTTP request sent, awaiting response... 200 OK\n",
            "Length: 37599 (37K) [text/plain]\n",
            "Saving to: ‘/HousingData.csv’\n",
            "\n",
            "/HousingData.csv    100%[===================>]  36.72K  --.-KB/s    in 0.009s  \n",
            "\n",
            "2024-04-04 14:46:15 (3.92 MB/s) - ‘/HousingData.csv’ saved [37599/37599]\n",
            "\n"
          ]
        }
      ]
    },
    {
      "cell_type": "markdown",
      "source": [
        "# Load and Explore"
      ],
      "metadata": {
        "id": "jBpa9AGHEtD7"
      }
    },
    {
      "cell_type": "markdown",
      "source": [
        "Load the dataset (as a dataframe) using pandas and display the top 5 rows of the dataframe and then check for missing values and impute missing values with mean"
      ],
      "metadata": {
        "id": "MFzJZLOxoZDJ"
      }
    },
    {
      "cell_type": "code",
      "source": [
        "file_path = '/HousingData.csv'\n",
        "# TODO: Load the Dataset and Check for mising values and then impute them with the mean value\n",
        "df = pd.read_csv(file_path)\n",
        "miss = df.isnull().sum()\n",
        "print(miss)\n",
        "\n",
        "df.fillna(df.mean(), inplace=True)\n",
        "print(df.head())"
      ],
      "metadata": {
        "id": "lqhABVd2oZYV",
        "colab": {
          "base_uri": "https://localhost:8080/"
        },
        "outputId": "3c3a2684-bffb-417c-f925-e397d35911ef"
      },
      "execution_count": null,
      "outputs": [
        {
          "output_type": "stream",
          "name": "stdout",
          "text": [
            "CRIM       0\n",
            "ZN         0\n",
            "INDUS      0\n",
            "CHAS       0\n",
            "NOX        0\n",
            "RM         0\n",
            "AGE        0\n",
            "DIS        0\n",
            "TAX        0\n",
            "PTRATIO    0\n",
            "B          0\n",
            "LSTAT      0\n",
            "MEDV       0\n",
            "dtype: int64\n",
            "      CRIM    ZN  INDUS  CHAS    NOX     RM   AGE     DIS  TAX  PTRATIO  \\\n",
            "0  0.00632  18.0   2.31   0.0  0.538  6.575  65.2  4.0900  296     15.3   \n",
            "1  0.02731   0.0   7.07   0.0  0.469  6.421  78.9  4.9671  242     17.8   \n",
            "2  0.02729   0.0   7.07   0.0  0.469  7.185  61.1  4.9671  242     17.8   \n",
            "3  0.03237   0.0   2.18   0.0  0.458  6.998  45.8  6.0622  222     18.7   \n",
            "4  0.06905   0.0   2.18   0.0  0.458  7.147  54.2  6.0622  222     18.7   \n",
            "\n",
            "        B      LSTAT  MEDV  \n",
            "0  396.90   4.980000  24.0  \n",
            "1  396.90   9.140000  21.6  \n",
            "2  392.83   4.030000  34.7  \n",
            "3  394.63   2.940000  33.4  \n",
            "4  396.90  12.715432  36.2  \n"
          ]
        }
      ]
    },
    {
      "cell_type": "markdown",
      "source": [
        "Get a brief description of the dataset"
      ],
      "metadata": {
        "id": "5-Py3iuJoZwi"
      }
    },
    {
      "cell_type": "code",
      "source": [
        "print(df.info())\n",
        "print(df.describe())"
      ],
      "metadata": {
        "colab": {
          "base_uri": "https://localhost:8080/"
        },
        "id": "Wew_8-kzFjMu",
        "outputId": "8a14d92e-e3c4-4119-ea6b-b29ac9b98983"
      },
      "execution_count": null,
      "outputs": [
        {
          "output_type": "stream",
          "name": "stdout",
          "text": [
            "<class 'pandas.core.frame.DataFrame'>\n",
            "RangeIndex: 506 entries, 0 to 505\n",
            "Data columns (total 13 columns):\n",
            " #   Column   Non-Null Count  Dtype  \n",
            "---  ------   --------------  -----  \n",
            " 0   CRIM     506 non-null    float64\n",
            " 1   ZN       506 non-null    float64\n",
            " 2   INDUS    506 non-null    float64\n",
            " 3   CHAS     506 non-null    float64\n",
            " 4   NOX      506 non-null    float64\n",
            " 5   RM       506 non-null    float64\n",
            " 6   AGE      506 non-null    float64\n",
            " 7   DIS      506 non-null    float64\n",
            " 8   TAX      506 non-null    int64  \n",
            " 9   PTRATIO  506 non-null    float64\n",
            " 10  B        506 non-null    float64\n",
            " 11  LSTAT    506 non-null    float64\n",
            " 12  MEDV     506 non-null    float64\n",
            "dtypes: float64(12), int64(1)\n",
            "memory usage: 51.5 KB\n",
            "None\n",
            "             CRIM          ZN       INDUS        CHAS         NOX          RM  \\\n",
            "count  506.000000  506.000000  506.000000  506.000000  506.000000  506.000000   \n",
            "mean     3.611874   11.211934   11.083992    0.069959    0.554695    6.284634   \n",
            "std      8.545770   22.921051    6.699165    0.250233    0.115878    0.702617   \n",
            "min      0.006320    0.000000    0.460000    0.000000    0.385000    3.561000   \n",
            "25%      0.083235    0.000000    5.190000    0.000000    0.449000    5.885500   \n",
            "50%      0.290250    0.000000    9.900000    0.000000    0.538000    6.208500   \n",
            "75%      3.611874   11.211934   18.100000    0.000000    0.624000    6.623500   \n",
            "max     88.976200  100.000000   27.740000    1.000000    0.871000    8.780000   \n",
            "\n",
            "              AGE         DIS         TAX     PTRATIO           B       LSTAT  \\\n",
            "count  506.000000  506.000000  506.000000  506.000000  506.000000  506.000000   \n",
            "mean    68.518519    3.795043  408.237154   18.455534  356.674032   12.715432   \n",
            "std     27.439466    2.105710  168.537116    2.164946   91.294864    7.012739   \n",
            "min      2.900000    1.129600  187.000000   12.600000    0.320000    1.730000   \n",
            "25%     45.925000    2.100175  279.000000   17.400000  375.377500    7.230000   \n",
            "50%     74.450000    3.207450  330.000000   19.050000  391.440000   11.995000   \n",
            "75%     93.575000    5.188425  666.000000   20.200000  396.225000   16.570000   \n",
            "max    100.000000   12.126500  711.000000   22.000000  396.900000   37.970000   \n",
            "\n",
            "             MEDV  \n",
            "count  506.000000  \n",
            "mean    22.532806  \n",
            "std      9.197104  \n",
            "min      5.000000  \n",
            "25%     17.025000  \n",
            "50%     21.200000  \n",
            "75%     25.000000  \n",
            "max     50.000000  \n"
          ]
        }
      ]
    },
    {
      "cell_type": "markdown",
      "source": [
        "Extract only the features from the dataframe by removing the target column and then Convert the new dataframe into a numpy array\n",
        "</br>\n",
        "Note: **Do not remove the previous dataframe.**\n"
      ],
      "metadata": {
        "id": "gHcKVT_4oabK"
      }
    },
    {
      "cell_type": "markdown",
      "source": [
        "# Preprocessing"
      ],
      "metadata": {
        "id": "VkDUEmURE-Sx"
      }
    },
    {
      "cell_type": "code",
      "source": [
        "# TODO: drop MEDV and convert to numpy array\n",
        "df2 = df.drop(columns=['MEDV'])\n",
        "df2_arr = df2.values\n",
        "print(df2_arr)"
      ],
      "metadata": {
        "id": "FtT8kFoBoajv",
        "colab": {
          "base_uri": "https://localhost:8080/"
        },
        "outputId": "3f2111d1-63e5-48f3-f59f-d5115a1904f7"
      },
      "execution_count": null,
      "outputs": [
        {
          "output_type": "stream",
          "name": "stdout",
          "text": [
            "[[6.3200e-03 1.8000e+01 2.3100e+00 ... 1.5300e+01 3.9690e+02 4.9800e+00]\n",
            " [2.7310e-02 0.0000e+00 7.0700e+00 ... 1.7800e+01 3.9690e+02 9.1400e+00]\n",
            " [2.7290e-02 0.0000e+00 7.0700e+00 ... 1.7800e+01 3.9283e+02 4.0300e+00]\n",
            " ...\n",
            " [6.0760e-02 0.0000e+00 1.1930e+01 ... 2.1000e+01 3.9690e+02 5.6400e+00]\n",
            " [1.0959e-01 0.0000e+00 1.1930e+01 ... 2.1000e+01 3.9345e+02 6.4800e+00]\n",
            " [4.7410e-02 0.0000e+00 1.1930e+01 ... 2.1000e+01 3.9690e+02 7.8800e+00]]\n"
          ]
        }
      ]
    },
    {
      "cell_type": "markdown",
      "source": [
        "look for outliers using box plot and if There are some outliers in data, use StandardScaler can help in scaling data."
      ],
      "metadata": {
        "id": "forjBjgQHDz0"
      }
    },
    {
      "cell_type": "code",
      "source": [
        "import pandas as pd\n",
        "import seaborn as sns\n",
        "from sklearn.preprocessing import StandardScaler\n",
        "\n",
        "scaler = StandardScaler()\n",
        "sd = scaler.fit_transform(df2_arr)\n",
        "plt.figure(figsize=(10, 5))\n",
        "sns.boxplot(data=sd)\n",
        "plt.show()\n",
        "\n"
      ],
      "metadata": {
        "id": "fJVP9gGnFHbM",
        "colab": {
          "base_uri": "https://localhost:8080/",
          "height": 445
        },
        "outputId": "16a03b3a-4097-4a08-dda9-7c076add63e2"
      },
      "execution_count": null,
      "outputs": [
        {
          "output_type": "display_data",
          "data": {
            "text/plain": [
              "<Figure size 1000x500 with 1 Axes>"
            ],
            "image/png": "[encoded data removed]"
          },
          "metadata": {}
        }
      ]
    },
    {
      "cell_type": "markdown",
      "source": [
        "add polynomial features to increase model complexity!\n",
        "\n"
      ],
      "metadata": {
        "id": "mLfX6ugX3fNM"
      }
    },
    {
      "cell_type": "code",
      "source": [
        "from sklearn.preprocessing import PolynomialFeatures\n",
        "from sklearn.pipeline import make_pipeline\n",
        "\n",
        "\n",
        "pf = PolynomialFeatures(degree=2)\n",
        "scale = pf.fit_transform(sd)\n",
        "\n",
        "\n",
        "poly = pd.DataFrame(scale)\n",
        "poly.head()\n",
        "\n"
      ],
      "metadata": {
        "id": "rkEQ02jU3fXj",
        "colab": {
          "base_uri": "https://localhost:8080/",
          "height": 342
        },
        "outputId": "00c7ff6c-cdcb-42cd-e28d-b712fcd90384"
      },
      "execution_count": null,
      "outputs": [
        {
          "output_type": "execute_result",
          "data": {
            "text/plain": [
              "    0         1         2         3         4         5         6         7   \\\n",
              "0  1.0 -0.422328  0.296443 -1.311010 -0.279851 -0.144217  0.413672 -0.121059   \n",
              "1  1.0 -0.419870 -0.489639 -0.599771 -0.279851 -0.740262  0.194274  0.378716   \n",
              "2  1.0 -0.419872 -0.489639 -0.599771 -0.279851 -0.740262  1.282714 -0.270627   \n",
              "3  1.0 -0.419277 -0.489639 -1.330435 -0.279851 -0.835284  1.016303 -0.828770   \n",
              "4  1.0 -0.414981 -0.489639 -1.330435 -0.279851 -0.835284  1.228577 -0.522338   \n",
              "\n",
              "         8         9   ...        81        82        83            84  \\\n",
              "0  0.140214 -0.666608  ...  0.444367  0.972582 -0.294009  7.360327e-01   \n",
              "1  0.557160 -0.987329  ...  0.974820  0.299254 -0.435464  5.038863e-01   \n",
              "2  0.557160 -0.987329  ...  0.974820  0.299254 -0.391404  1.224040e+00   \n",
              "3  1.077737 -1.106115  ...  1.223491 -0.125027 -0.460324  1.543399e+00   \n",
              "4  1.077737 -1.106115  ...  1.223491 -0.125027 -0.487854  2.804610e-16   \n",
              "\n",
              "         85        86            87        88            89            90  \n",
              "0  2.128682 -0.643495  1.610949e+00  0.194527 -4.869857e-01  1.219138e+00  \n",
              "1  0.091866 -0.133680  1.546849e-01  0.194527 -2.250921e-01  2.604599e-01  \n",
              "2  0.091866 -0.120155  3.757603e-01  0.157154 -4.914695e-01  1.536974e+00  \n",
              "3  0.012776  0.047040 -1.577174e-01  0.173192 -5.806857e-01  1.946954e+00  \n",
              "4  0.012776  0.049853 -2.865985e-17  0.194527 -1.118309e-16  6.429012e-32  \n",
              "\n",
              "[5 rows x 91 columns]"
            ],
            "text/html": [
              "\n",
              "  <div id=\"df-49d32542-a3e9-4f7b-b1ae-dd004fbbae19\" class=\"colab-df-container\">\n",
              "    <div>\n",
              "<style scoped>\n",
              "    .dataframe tbody tr th:only-of-type {\n",
              "        vertical-align: middle;\n",
              "    }\n",
              "\n",
              "    .dataframe tbody tr th {\n",
              "        vertical-align: top;\n",
              "    }\n",
              "\n",
              "    .dataframe thead th {\n",
              "        text-align: right;\n",
              "    }\n",
              "</style>\n",
              "<table border=\"1\" class=\"dataframe\">\n",
              "  <thead>\n",
              "    <tr style=\"text-align: right;\">\n",
              "      <th></th>\n",
              "      <th>0</th>\n",
              "      <th>1</th>\n",
              "      <th>2</th>\n",
              "      <th>3</th>\n",
              "      <th>4</th>\n",
              "      <th>5</th>\n",
              "      <th>6</th>\n",
              "      <th>7</th>\n",
              "      <th>8</th>\n",
              "      <th>9</th>\n",
              "      <th>...</th>\n",
              "      <th>81</th>\n",
              "      <th>82</th>\n",
              "      <th>83</th>\n",
              "      <th>84</th>\n",
              "      <th>85</th>\n",
              "      <th>86</th>\n",
              "      <th>87</th>\n",
              "      <th>88</th>\n",
              "      <th>89</th>\n",
              "      <th>90</th>\n",
              "    </tr>\n",
              "  </thead>\n",
              "  <tbody>\n",
              "    <tr>\n",
              "      <th>0</th>\n",
              "      <td>1.0</td>\n",
              "      <td>-0.422328</td>\n",
              "      <td>0.296443</td>\n",
              "      <td>-1.311010</td>\n",
              "      <td>-0.279851</td>\n",
              "      <td>-0.144217</td>\n",
              "      <td>0.413672</td>\n",
              "      <td>-0.121059</td>\n",
              "      <td>0.140214</td>\n",
              "      <td>-0.666608</td>\n",
              "      <td>...</td>\n",
              "      <td>0.444367</td>\n",
              "      <td>0.972582</td>\n",
              "      <td>-0.294009</td>\n",
              "      <td>7.360327e-01</td>\n",
              "      <td>2.128682</td>\n",
              "      <td>-0.643495</td>\n",
              "      <td>1.610949e+00</td>\n",
              "      <td>0.194527</td>\n",
              "      <td>-4.869857e-01</td>\n",
              "      <td>1.219138e+00</td>\n",
              "    </tr>\n",
              "    <tr>\n",
              "      <th>1</th>\n",
              "      <td>1.0</td>\n",
              "      <td>-0.419870</td>\n",
              "      <td>-0.489639</td>\n",
              "      <td>-0.599771</td>\n",
              "      <td>-0.279851</td>\n",
              "      <td>-0.740262</td>\n",
              "      <td>0.194274</td>\n",
              "      <td>0.378716</td>\n",
              "      <td>0.557160</td>\n",
              "      <td>-0.987329</td>\n",
              "      <td>...</td>\n",
              "      <td>0.974820</td>\n",
              "      <td>0.299254</td>\n",
              "      <td>-0.435464</td>\n",
              "      <td>5.038863e-01</td>\n",
              "      <td>0.091866</td>\n",
              "      <td>-0.133680</td>\n",
              "      <td>1.546849e-01</td>\n",
              "      <td>0.194527</td>\n",
              "      <td>-2.250921e-01</td>\n",
              "      <td>2.604599e-01</td>\n",
              "    </tr>\n",
              "    <tr>\n",
              "      <th>2</th>\n",
              "      <td>1.0</td>\n",
              "      <td>-0.419872</td>\n",
              "      <td>-0.489639</td>\n",
              "      <td>-0.599771</td>\n",
              "      <td>-0.279851</td>\n",
              "      <td>-0.740262</td>\n",
              "      <td>1.282714</td>\n",
              "      <td>-0.270627</td>\n",
              "      <td>0.557160</td>\n",
              "      <td>-0.987329</td>\n",
              "      <td>...</td>\n",
              "      <td>0.974820</td>\n",
              "      <td>0.299254</td>\n",
              "      <td>-0.391404</td>\n",
              "      <td>1.224040e+00</td>\n",
              "      <td>0.091866</td>\n",
              "      <td>-0.120155</td>\n",
              "      <td>3.757603e-01</td>\n",
              "      <td>0.157154</td>\n",
              "      <td>-4.914695e-01</td>\n",
              "      <td>1.536974e+00</td>\n",
              "    </tr>\n",
              "    <tr>\n",
              "      <th>3</th>\n",
              "      <td>1.0</td>\n",
              "      <td>-0.419277</td>\n",
              "      <td>-0.489639</td>\n",
              "      <td>-1.330435</td>\n",
              "      <td>-0.279851</td>\n",
              "      <td>-0.835284</td>\n",
              "      <td>1.016303</td>\n",
              "      <td>-0.828770</td>\n",
              "      <td>1.077737</td>\n",
              "      <td>-1.106115</td>\n",
              "      <td>...</td>\n",
              "      <td>1.223491</td>\n",
              "      <td>-0.125027</td>\n",
              "      <td>-0.460324</td>\n",
              "      <td>1.543399e+00</td>\n",
              "      <td>0.012776</td>\n",
              "      <td>0.047040</td>\n",
              "      <td>-1.577174e-01</td>\n",
              "      <td>0.173192</td>\n",
              "      <td>-5.806857e-01</td>\n",
              "      <td>1.946954e+00</td>\n",
              "    </tr>\n",
              "    <tr>\n",
              "      <th>4</th>\n",
              "      <td>1.0</td>\n",
              "      <td>-0.414981</td>\n",
              "      <td>-0.489639</td>\n",
              "      <td>-1.330435</td>\n",
              "      <td>-0.279851</td>\n",
              "      <td>-0.835284</td>\n",
              "      <td>1.228577</td>\n",
              "      <td>-0.522338</td>\n",
              "      <td>1.077737</td>\n",
              "      <td>-1.106115</td>\n",
              "      <td>...</td>\n",
              "      <td>1.223491</td>\n",
              "      <td>-0.125027</td>\n",
              "      <td>-0.487854</td>\n",
              "      <td>2.804610e-16</td>\n",
              "      <td>0.012776</td>\n",
              "      <td>0.049853</td>\n",
              "      <td>-2.865985e-17</td>\n",
              "      <td>0.194527</td>\n",
              "      <td>-1.118309e-16</td>\n",
              "      <td>6.429012e-32</td>\n",
              "    </tr>\n",
              "  </tbody>\n",
              "</table>\n",
              "<p>5 rows × 91 columns</p>\n",
              "</div>\n",
              "    <div class=\"colab-df-buttons\">\n",
              "\n",
              "  <div class=\"colab-df-container\">\n",
              "    <button class=\"colab-df-convert\" onclick=\"convertToInteractive('df-49d32542-a3e9-4f7b-b1ae-dd004fbbae19')\"\n",
              "            title=\"Convert this dataframe to an interactive table.\"\n",
              "            style=\"display:none;\">\n",
              "\n",
              "  <svg xmlns=\"http://www.w3.org/2000/svg\" height=\"24px\" viewBox=\"0 -960 960 960\">\n",
              "    <path d=\"M120-120v-720h720v720H120Zm60-500h600v-160H180v160Zm220 220h160v-160H400v160Zm0 220h160v-160H400v160ZM180-400h160v-160H180v160Zm440 0h160v-160H620v160ZM180-180h160v-160H180v160Zm440 0h160v-160H620v160Z\"/>\n",
              "  </svg>\n",
              "    </button>\n",
              "\n",
              "  <style>\n",
              "    .colab-df-container {\n",
              "      display:flex;\n",
              "      gap: 12px;\n",
              "    }\n",
              "\n",
              "    .colab-df-convert {\n",
              "      background-color: #E8F0FE;\n",
              "      border: none;\n",
              "      border-radius: 50%;\n",
              "      cursor: pointer;\n",
              "      display: none;\n",
              "      fill: #1967D2;\n",
              "      height: 32px;\n",
              "      padding: 0 0 0 0;\n",
              "      width: 32px;\n",
              "    }\n",
              "\n",
              "    .colab-df-convert:hover {\n",
              "      background-color: #E2EBFA;\n",
              "      box-shadow: 0px 1px 2px rgba(60, 64, 67, 0.3), 0px 1px 3px 1px rgba(60, 64, 67, 0.15);\n",
              "      fill: #174EA6;\n",
              "    }\n",
              "\n",
              "    .colab-df-buttons div {\n",
              "      margin-bottom: 4px;\n",
              "    }\n",
              "\n",
              "    [theme=dark] .colab-df-convert {\n",
              "      background-color: #3B4455;\n",
              "      fill: #D2E3FC;\n",
              "    }\n",
              "\n",
              "    [theme=dark] .colab-df-convert:hover {\n",
              "      background-color: #434B5C;\n",
              "      box-shadow: 0px 1px 3px 1px rgba(0, 0, 0, 0.15);\n",
              "      filter: drop-shadow(0px 1px 2px rgba(0, 0, 0, 0.3));\n",
              "      fill: #FFFFFF;\n",
              "    }\n",
              "  </style>\n",
              "\n",
              "    <script>\n",
              "      const buttonEl =\n",
              "        document.querySelector('#df-49d32542-a3e9-4f7b-b1ae-dd004fbbae19 button.colab-df-convert');\n",
              "      buttonEl.style.display =\n",
              "        google.colab.kernel.accessAllowed ? 'block' : 'none';\n",
              "\n",
              "      async function convertToInteractive(key) {\n",
              "        const element = document.querySelector('#df-49d32542-a3e9-4f7b-b1ae-dd004fbbae19');\n",
              "        const dataTable =\n",
              "          await google.colab.kernel.invokeFunction('convertToInteractive',\n",
              "                                                    [key], {});\n",
              "        if (!dataTable) return;\n",
              "\n",
              "        const docLinkHtml = 'Like what you see? Visit the ' +\n",
              "          '<a target=\"_blank\" href=https://colab.research.google.com/notebooks/data_table.ipynb>data table notebook</a>'\n",
              "          + ' to learn more about interactive tables.';\n",
              "        element.innerHTML = '';\n",
              "        dataTable['output_type'] = 'display_data';\n",
              "        await google.colab.output.renderOutput(dataTable, element);\n",
              "        const docLink = document.createElement('div');\n",
              "        docLink.innerHTML = docLinkHtml;\n",
              "        element.appendChild(docLink);\n",
              "      }\n",
              "    </script>\n",
              "  </div>\n",
              "\n",
              "\n",
              "<div id=\"df-1cf4c97c-7001-448a-affe-11a964e12912\">\n",
              "  <button class=\"colab-df-quickchart\" onclick=\"quickchart('df-1cf4c97c-7001-448a-affe-11a964e12912')\"\n",
              "            title=\"Suggest charts\"\n",
              "            style=\"display:none;\">\n",
              "\n",
              "<svg xmlns=\"http://www.w3.org/2000/svg\" height=\"24px\"viewBox=\"0 0 24 24\"\n",
              "     width=\"24px\">\n",
              "    <g>\n",
              "        <path d=\"M19 3H5c-1.1 0-2 .9-2 2v14c0 1.1.9 2 2 2h14c1.1 0 2-.9 2-2V5c0-1.1-.9-2-2-2zM9 17H7v-7h2v7zm4 0h-2V7h2v10zm4 0h-2v-4h2v4z\"/>\n",
              "    </g>\n",
              "</svg>\n",
              "  </button>\n",
              "\n",
              "<style>\n",
              "  .colab-df-quickchart {\n",
              "      --bg-color: #E8F0FE;\n",
              "      --fill-color: #1967D2;\n",
              "      --hover-bg-color: #E2EBFA;\n",
              "      --hover-fill-color: #174EA6;\n",
              "      --disabled-fill-color: #AAA;\n",
              "      --disabled-bg-color: #DDD;\n",
              "  }\n",
              "\n",
              "  [theme=dark] .colab-df-quickchart {\n",
              "      --bg-color: #3B4455;\n",
              "      --fill-color: #D2E3FC;\n",
              "      --hover-bg-color: #434B5C;\n",
              "      --hover-fill-color: #FFFFFF;\n",
              "      --disabled-bg-color: #3B4455;\n",
              "      --disabled-fill-color: #666;\n",
              "  }\n",
              "\n",
              "  .colab-df-quickchart {\n",
              "    background-color: var(--bg-color);\n",
              "    border: none;\n",
              "    border-radius: 50%;\n",
              "    cursor: pointer;\n",
              "    display: none;\n",
              "    fill: var(--fill-color);\n",
              "    height: 32px;\n",
              "    padding: 0;\n",
              "    width: 32px;\n",
              "  }\n",
              "\n",
              "  .colab-df-quickchart:hover {\n",
              "    background-color: var(--hover-bg-color);\n",
              "    box-shadow: 0 1px 2px rgba(60, 64, 67, 0.3), 0 1px 3px 1px rgba(60, 64, 67, 0.15);\n",
              "    fill: var(--button-hover-fill-color);\n",
              "  }\n",
              "\n",
              "  .colab-df-quickchart-complete:disabled,\n",
              "  .colab-df-quickchart-complete:disabled:hover {\n",
              "    background-color: var(--disabled-bg-color);\n",
              "    fill: var(--disabled-fill-color);\n",
              "    box-shadow: none;\n",
              "  }\n",
              "\n",
              "  .colab-df-spinner {\n",
              "    border: 2px solid var(--fill-color);\n",
              "    border-color: transparent;\n",
              "    border-bottom-color: var(--fill-color);\n",
              "    animation:\n",
              "      spin 1s steps(1) infinite;\n",
              "  }\n",
              "\n",
              "  @keyframes spin {\n",
              "    0% {\n",
              "      border-color: transparent;\n",
              "      border-bottom-color: var(--fill-color);\n",
              "      border-left-color: var(--fill-color);\n",
              "    }\n",
              "    20% {\n",
              "      border-color: transparent;\n",
              "      border-left-color: var(--fill-color);\n",
              "      border-top-color: var(--fill-color);\n",
              "    }\n",
              "    30% {\n",
              "      border-color: transparent;\n",
              "      border-left-color: var(--fill-color);\n",
              "      border-top-color: var(--fill-color);\n",
              "      border-right-color: var(--fill-color);\n",
              "    }\n",
              "    40% {\n",
              "      border-color: transparent;\n",
              "      border-right-color: var(--fill-color);\n",
              "      border-top-color: var(--fill-color);\n",
              "    }\n",
              "    60% {\n",
              "      border-color: transparent;\n",
              "      border-right-color: var(--fill-color);\n",
              "    }\n",
              "    80% {\n",
              "      border-color: transparent;\n",
              "      border-right-color: var(--fill-color);\n",
              "      border-bottom-color: var(--fill-color);\n",
              "    }\n",
              "    90% {\n",
              "      border-color: transparent;\n",
              "      border-bottom-color: var(--fill-color);\n",
              "    }\n",
              "  }\n",
              "</style>\n",
              "\n",
              "  <script>\n",
              "    async function quickchart(key) {\n",
              "      const quickchartButtonEl =\n",
              "        document.querySelector('#' + key + ' button');\n",
              "      quickchartButtonEl.disabled = true;  // To prevent multiple clicks.\n",
              "      quickchartButtonEl.classList.add('colab-df-spinner');\n",
              "      try {\n",
              "        const charts = await google.colab.kernel.invokeFunction(\n",
              "            'suggestCharts', [key], {});\n",
              "      } catch (error) {\n",
              "        console.error('Error during call to suggestCharts:', error);\n",
              "      }\n",
              "      quickchartButtonEl.classList.remove('colab-df-spinner');\n",
              "      quickchartButtonEl.classList.add('colab-df-quickchart-complete');\n",
              "    }\n",
              "    (() => {\n",
              "      let quickchartButtonEl =\n",
              "        document.querySelector('#df-1cf4c97c-7001-448a-affe-11a964e12912 button');\n",
              "      quickchartButtonEl.style.display =\n",
              "        google.colab.kernel.accessAllowed ? 'block' : 'none';\n",
              "    })();\n",
              "  </script>\n",
              "</div>\n",
              "    </div>\n",
              "  </div>\n"
            ],
            "application/vnd.google.colaboratory.intrinsic+json": {
              "type": "dataframe",
              "variable_name": "poly"
            }
          },
          "metadata": {},
          "execution_count": 6
        }
      ]
    },
    {
      "cell_type": "markdown",
      "source": [
        "Extract the target column from the previously mentioned DataFrame and transform it into a new NumPy array, named y."
      ],
      "metadata": {
        "id": "8_TZ52zNoatM"
      }
    },
    {
      "cell_type": "code",
      "source": [
        "# TODO: extract the MEDV\n",
        "y = df['MEDV'].values\n",
        "print(type(y))\n",
        "\n",
        "print(y[:5])"
      ],
      "metadata": {
        "id": "lzDxTUBFoa4I",
        "colab": {
          "base_uri": "https://localhost:8080/"
        },
        "outputId": "28f5c130-a0fa-491e-c91a-e6827e657971"
      },
      "execution_count": null,
      "outputs": [
        {
          "output_type": "stream",
          "name": "stdout",
          "text": [
            "<class 'numpy.ndarray'>\n",
            "[24.  21.6 34.7 33.4 36.2]\n"
          ]
        }
      ]
    },
    {
      "cell_type": "markdown",
      "source": [
        "\n",
        "\n",
        "Split the dataset into two parts such that the training set contains 80% of the samples."
      ],
      "metadata": {
        "id": "6zVgga7tobBP"
      }
    },
    {
      "cell_type": "code",
      "source": [
        "from sklearn.model_selection import train_test_split\n",
        "\n",
        "y = df['MEDV'].values\n",
        "X = poly\n",
        "\n",
        "X_train, X_test, y_train, y_test = train_test_split(X, y, test_size=0.2, random_state=42)\n"
      ],
      "metadata": {
        "id": "2LGiy-8LobKh"
      },
      "execution_count": null,
      "outputs": []
    },
    {
      "cell_type": "markdown",
      "source": [
        "# Training"
      ],
      "metadata": {
        "id": "s-rejkt9FHTj"
      }
    },
    {
      "cell_type": "markdown",
      "source": [
        "\n",
        "Fit a linear regressor to the data. (Use sklearn)\n"
      ],
      "metadata": {
        "id": "_qoiRXLOv25z"
      }
    },
    {
      "cell_type": "code",
      "source": [
        "from sklearn.linear_model import LinearRegression\n",
        "lr = LinearRegression()\n",
        "lr.fit(X_train, y_train)\n",
        "\n",
        "print(\"Coefficients:\", lr.coef_[1:])\n"
      ],
      "metadata": {
        "id": "jWvwdl-Iv3FF",
        "colab": {
          "base_uri": "https://localhost:8080/"
        },
        "outputId": "2e5ed03c-1cb5-4795-fea9-6929e33539b4"
      },
      "execution_count": null,
      "outputs": [
        {
          "output_type": "stream",
          "name": "stdout",
          "text": [
            "Coefficients: [ 2.6154321   0.82393716  0.27136263 -3.48211983 -1.29409137  3.44585661\n",
            " -1.21943076 -1.81707978 -1.35705037 -0.76272409  0.09412848 -3.26790109\n",
            "  0.18881553 -2.12293611  3.27201664  2.99592944 -2.33583776  0.34763137\n",
            "  0.20874183  2.21883471 -2.3332244  -2.04447912  0.00741757  1.1932215\n",
            " -0.0841126   0.10138591  0.27470966 -2.78021092 -0.15279813  0.76158833\n",
            " -1.08630659  2.9712488  -0.26864023 -3.02213841 -1.60704564  1.31321171\n",
            " -0.31101422 -0.51019783  1.28252455  1.32809034  1.38205448 -0.65090506\n",
            " -1.06080996  0.7722254  -0.50635113  1.37177961 -1.08949576 -0.95013821\n",
            " -0.44543729 -1.69626905  0.54715814 -0.18858163  0.00691852 -0.47122609\n",
            " -0.37917028 -1.24093403  0.37674064  3.63408849  1.95669949 -2.07628197\n",
            " -0.48758374  0.5331536   0.73480488 -0.47672061  0.14479989 -2.03085847\n",
            " -1.1821997  -0.46294466  0.69666166  0.06214453  0.43530299 -0.67289245\n",
            "  0.37224018 -1.12519132 -1.17650773  2.24180978 -2.15987726 -0.53315683\n",
            "  0.44254117  0.74073985 -0.11801545  4.20887909 -1.01095438 -2.4866206\n",
            " -0.48651899  0.10489085  0.07616319 -0.32974278  0.16316054  1.4025542 ]\n"
          ]
        }
      ]
    },
    {
      "cell_type": "markdown",
      "source": [
        "Get the coefficients of the variables and visualize it"
      ],
      "metadata": {
        "id": "8ytvTJ60v3Oq"
      }
    },
    {
      "cell_type": "code",
      "source": [
        "import matplotlib.pyplot as plt\n",
        "import numpy as np\n",
        "\n",
        "\n",
        "plt.figure(figsize=(15, 5))\n",
        "plt.bar(range(len(lr.coef_[1:])), lr.coef_[1:])\n",
        "\n",
        "plt.xlabel('Coefficient Index')\n",
        "plt.ylabel('Coefficient Value')\n",
        "plt.title('Comparasion of Coefficient')\n",
        "plt.show()\n",
        "\n"
      ],
      "metadata": {
        "id": "Lh9C3xihv3X3",
        "colab": {
          "base_uri": "https://localhost:8080/",
          "height": 344
        },
        "outputId": "a99d3692-2611-48ae-eb1e-e21012075eca"
      },
      "execution_count": null,
      "outputs": [
        {
          "output_type": "display_data",
          "data": {
            "text/plain": [
              "<Figure size 1500x500 with 1 Axes>"
            ],
            "image/png": "[encoded data removed]"
          },
          "metadata": {}
        }
      ]
    },
    {
      "cell_type": "markdown",
      "source": [
        "Get the score value of sklearn regressor on train dataset</br>\n",
        "if you are not familiar with R-squared concept see the link below:\n",
        "[R-squared](https://statisticsbyjim.com/regression/interpret-r-squared-regression/)\n",
        "\n"
      ],
      "metadata": {
        "id": "eTCcA4W8v3f4"
      }
    },
    {
      "cell_type": "code",
      "source": [
        "# TODO: Calculate R² score and MSE on the training dataset\n",
        "train_r_squared = lr.score(X_train, y_train)\n",
        "y_train_pred = lr.predict(X_train)\n",
        "print(\"R-squared on train dataset:\", train_r_squared)\n",
        "\n",
        "train_mse = mean_squared_error(y_train, y_train_pred)\n",
        "print(\"Mean Squared Error on train dataset:\", train_mse)"
      ],
      "metadata": {
        "id": "onAXRIl7v3qJ",
        "colab": {
          "base_uri": "https://localhost:8080/"
        },
        "outputId": "261518a6-973e-474b-ff73-a025bae28c50"
      },
      "execution_count": null,
      "outputs": [
        {
          "output_type": "stream",
          "name": "stdout",
          "text": [
            "R-squared on train dataset: 0.9233615957926449\n",
            "Mean Squared Error on train dataset: 6.65783903781899\n"
          ]
        }
      ]
    },
    {
      "cell_type": "markdown",
      "source": [
        "Predict the value of \"y\" for each \"x\" belonging to the \"testing\" set"
      ],
      "metadata": {
        "id": "RXBvLGMcwpbT"
      }
    },
    {
      "cell_type": "code",
      "source": [
        "print(lr.predict(X_test))"
      ],
      "metadata": {
        "id": "bA_DNqeKwprp",
        "colab": {
          "base_uri": "https://localhost:8080/"
        },
        "outputId": "4c215bfb-d9c7-4eee-93c6-7711f20a6c23"
      },
      "execution_count": null,
      "outputs": [
        {
          "output_type": "stream",
          "name": "stdout",
          "text": [
            "[26.60760472 39.62214268 18.71401934 21.00627478 15.36932115 18.14967249\n",
            " 19.2680689  14.04520907 20.41411804 19.68358046 19.34721612 17.80080883\n",
            "  9.52923494 17.56130221 17.61765281 23.1886407  19.83784911  9.82571722\n",
            " 48.00938013 13.01200313 24.67113881 28.75366122 15.14797668 19.48768303\n",
            " 16.8711114  16.54597743 17.07120558 13.34377675 16.66485127 19.34855953\n",
            " 18.50229727 23.95889069 15.48239335 25.70102382 13.69224402 17.48588361\n",
            " 33.1589375  20.10130817 20.24277819 21.68697931 16.91569466 31.33039866\n",
            " 53.78155342 15.35787882 27.30502419 15.90970181 14.76748839 23.49841731\n",
            " 17.57527936 29.19894908 19.95253249 33.61207695 17.02933983 26.86934524\n",
            " 44.01327048 23.0722288  13.43102214 32.42020215 25.15187612 12.20309801\n",
            " 25.03914004 29.01333968 31.99975955 14.25741358 27.2478974  13.81980117\n",
            " 14.35877776 24.56841459 29.12596225 12.07120755 21.52505912 27.39851469\n",
            "  9.60239834 22.99803726 19.8464662   7.55139317 22.13069349 49.95089019\n",
            " 11.35178549 11.98183645 18.34848076 12.31262512 15.91992994 11.17875652\n",
            " 20.05758709 28.21017905 17.52432039 24.64183624 25.95216955 18.86643395\n",
            " 24.91833318  7.26540165 20.04649013 17.38110339 44.76506329 20.87525411\n",
            " 25.80390969  5.75854824 11.00494177 15.63482602 23.13270522 20.58824762]\n"
          ]
        }
      ]
    },
    {
      "cell_type": "markdown",
      "source": [
        "# Lasso Regularization(L1)"
      ],
      "metadata": {
        "id": "z_aF3pNEFP79"
      }
    },
    {
      "cell_type": "markdown",
      "source": [
        "L1 regularization, also known as Lasso (Least Absolute Shrinkage and Selection Operator) regularization, is a technique used in regression models that encourages simplicity and sparsity in the model coefficients. This is achieved by adding a penalty equal to the absolute value of the magnitude of coefficients to the loss function.\\\n",
        "</br>\n",
        "Train a regression model using L1 regularization."
      ],
      "metadata": {
        "id": "PPMTy_D_wp-X"
      }
    },
    {
      "cell_type": "code",
      "source": [
        "ll = Lasso(alpha=0.5)\n",
        "\n",
        "ll.fit(X_train, y_train)\n",
        "\n",
        "\n"
      ],
      "metadata": {
        "id": "SHr5JR4fwqHO",
        "colab": {
          "base_uri": "https://localhost:8080/",
          "height": 74
        },
        "outputId": "fe71967f-8c34-4e3f-fc98-988ff608df46"
      },
      "execution_count": null,
      "outputs": [
        {
          "output_type": "execute_result",
          "data": {
            "text/plain": [
              "Lasso(alpha=0.5)"
            ],
            "text/html": [
              "<style>#sk-container-id-1 {color: black;background-color: white;}#sk-container-id-1 pre{padding: 0;}#sk-container-id-1 div.sk-toggleable {background-color: white;}#sk-container-id-1 label.sk-toggleable__label {cursor: pointer;display: block;width: 100%;margin-bottom: 0;padding: 0.3em;box-sizing: border-box;text-align: center;}#sk-container-id-1 label.sk-toggleable__label-arrow:before {content: \"▸\";float: left;margin-right: 0.25em;color: #696969;}#sk-container-id-1 label.sk-toggleable__label-arrow:hover:before {color: black;}#sk-container-id-1 div.sk-estimator:hover label.sk-toggleable__label-arrow:before {color: black;}#sk-container-id-1 div.sk-toggleable__content {max-height: 0;max-width: 0;overflow: hidden;text-align: left;background-color: #f0f8ff;}#sk-container-id-1 div.sk-toggleable__content pre {margin: 0.2em;color: black;border-radius: 0.25em;background-color: #f0f8ff;}#sk-container-id-1 input.sk-toggleable__control:checked~div.sk-toggleable__content {max-height: 200px;max-width: 100%;overflow: auto;}#sk-container-id-1 input.sk-toggleable__control:checked~label.sk-toggleable__label-arrow:before {content: \"▾\";}#sk-container-id-1 div.sk-estimator input.sk-toggleable__control:checked~label.sk-toggleable__label {background-color: #d4ebff;}#sk-container-id-1 div.sk-label input.sk-toggleable__control:checked~label.sk-toggleable__label {background-color: #d4ebff;}#sk-container-id-1 input.sk-hidden--visually {border: 0;clip: rect(1px 1px 1px 1px);clip: rect(1px, 1px, 1px, 1px);height: 1px;margin: -1px;overflow: hidden;padding: 0;position: absolute;width: 1px;}#sk-container-id-1 div.sk-estimator {font-family: monospace;background-color: #f0f8ff;border: 1px dotted black;border-radius: 0.25em;box-sizing: border-box;margin-bottom: 0.5em;}#sk-container-id-1 div.sk-estimator:hover {background-color: #d4ebff;}#sk-container-id-1 div.sk-parallel-item::after {content: \"\";width: 100%;border-bottom: 1px solid gray;flex-grow: 1;}#sk-container-id-1 div.sk-label:hover label.sk-toggleable__label {background-color: #d4ebff;}#sk-container-id-1 div.sk-serial::before {content: \"\";position: absolute;border-left: 1px solid gray;box-sizing: border-box;top: 0;bottom: 0;left: 50%;z-index: 0;}#sk-container-id-1 div.sk-serial {display: flex;flex-direction: column;align-items: center;background-color: white;padding-right: 0.2em;padding-left: 0.2em;position: relative;}#sk-container-id-1 div.sk-item {position: relative;z-index: 1;}#sk-container-id-1 div.sk-parallel {display: flex;align-items: stretch;justify-content: center;background-color: white;position: relative;}#sk-container-id-1 div.sk-item::before, #sk-container-id-1 div.sk-parallel-item::before {content: \"\";position: absolute;border-left: 1px solid gray;box-sizing: border-box;top: 0;bottom: 0;left: 50%;z-index: -1;}#sk-container-id-1 div.sk-parallel-item {display: flex;flex-direction: column;z-index: 1;position: relative;background-color: white;}#sk-container-id-1 div.sk-parallel-item:first-child::after {align-self: flex-end;width: 50%;}#sk-container-id-1 div.sk-parallel-item:last-child::after {align-self: flex-start;width: 50%;}#sk-container-id-1 div.sk-parallel-item:only-child::after {width: 0;}#sk-container-id-1 div.sk-dashed-wrapped {border: 1px dashed gray;margin: 0 0.4em 0.5em 0.4em;box-sizing: border-box;padding-bottom: 0.4em;background-color: white;}#sk-container-id-1 div.sk-label label {font-family: monospace;font-weight: bold;display: inline-block;line-height: 1.2em;}#sk-container-id-1 div.sk-label-container {text-align: center;}#sk-container-id-1 div.sk-container {/* jupyter's `normalize.less` sets `[hidden] { display: none; }` but bootstrap.min.css set `[hidden] { display: none !important; }` so we also need the `!important` here to be able to override the default hidden behavior on the sphinx rendered scikit-learn.org. See: https://github.com/scikit-learn/scikit-learn/issues/21755 */display: inline-block !important;position: relative;}#sk-container-id-1 div.sk-text-repr-fallback {display: none;}</style><div id=\"sk-container-id-1\" class=\"sk-top-container\"><div class=\"sk-text-repr-fallback\"><pre>Lasso(alpha=0.5)</pre><b>In a Jupyter environment, please rerun this cell to show the HTML representation or trust the notebook. <br />On GitHub, the HTML representation is unable to render, please try loading this page with nbviewer.org.</b></div><div class=\"sk-container\" hidden><div class=\"sk-item\"><div class=\"sk-estimator sk-toggleable\"><input class=\"sk-toggleable__control sk-hidden--visually\" id=\"sk-estimator-id-1\" type=\"checkbox\" checked><label for=\"sk-estimator-id-1\" class=\"sk-toggleable__label sk-toggleable__label-arrow\">Lasso</label><div class=\"sk-toggleable__content\"><pre>Lasso(alpha=0.5)</pre></div></div></div></div></div>"
            ]
          },
          "metadata": {},
          "execution_count": 14
        }
      ]
    },
    {
      "cell_type": "markdown",
      "source": [
        "Get the coefficients of the variables and visualize it."
      ],
      "metadata": {
        "id": "du892nvjwqPi"
      }
    },
    {
      "cell_type": "code",
      "source": [
        "print(ll.coef_[1:])\n",
        "plt.figure(figsize=(15, 5))\n",
        "plt.bar(range(len(ll.coef_)), ll.coef_)\n",
        "\n",
        "plt.xlabel('Coefficient Index')\n",
        "plt.ylabel('Coefficient Value')\n",
        "plt.show()"
      ],
      "metadata": {
        "id": "W-yiCdq1wqcn",
        "colab": {
          "base_uri": "https://localhost:8080/",
          "height": 591
        },
        "outputId": "36622e18-e2ea-45c6-bf26-8a8c50ba8f06"
      },
      "execution_count": null,
      "outputs": [
        {
          "output_type": "stream",
          "name": "stdout",
          "text": [
            "[-0.          0.         -0.          0.         -0.          2.71044561\n",
            " -0.         -0.         -0.17551806 -0.87919831  0.         -3.61571562\n",
            " -0.09172222  0.         -0.          0.         -0.          0.\n",
            " -0.          0.         -0.         -0.         -0.         -0.\n",
            "  0.          0.          0.          0.          0.         -0.\n",
            " -0.          0.          0.         -0.         -0.          0.\n",
            "  0.         -0.         -0.          0.          0.          0.\n",
            " -0.          0.         -0.          0.21657471 -0.         -0.\n",
            "  0.         -0.          0.09712834  0.          0.         -0.\n",
            " -0.20798319 -0.1485112  -0.          0.         -0.         -0.\n",
            "  0.         -0.          0.7562266  -0.          0.         -0.85199921\n",
            " -0.59720675  0.         -0.          0.          0.         -0.\n",
            " -0.         -0.         -0.         -0.          0.          0.\n",
            " -0.          0.26961623  0.          0.         -0.         -0.8353172\n",
            "  0.         -0.         -0.         -0.24304235 -0.          0.46962857]\n"
          ]
        },
        {
          "output_type": "display_data",
          "data": {
            "text/plain": [
              "<Figure size 1500x500 with 1 Axes>"
            ],
            "image/png": "[encoded data removed]"
          },
          "metadata": {}
        }
      ]
    },
    {
      "cell_type": "markdown",
      "source": [
        "1- What observations can you make about the weight distribution when applying L1 regularization?\n",
        "\n",
        "2- How do different values of the regularization parameter (alpha) affect the sparsity of the model coefficients?"
      ],
      "metadata": {
        "id": "mI3QuD8Wydqc"
      }
    },
    {
      "cell_type": "markdown",
      "source": [
        "    1\n",
        "    اکثر وزن ها صفر (یا نزدیک به آن) شدند و فقط فیچرهای مهم ضریب تاثیرگذارند به این دلیل که فیچرهای کم اهمیت اکنون هزینه دارند.\n",
        "    زیرا در روش کاهش گرادیان در لاسو مقدار آن مستقل از میزان وزن ثابت است ولی در ریج در وزنهای کم این گرادیان به خود مقدار وابسته است و باعث میشود خیلی دیرتر به صفر برسد.\n",
        "\n",
        "    2\n",
        "    ضرایب آلفای بیشتر منجر به منظمتر شدن مدل میشوند و وزن های بیشتری صفر شده و پراکندگی مدل بالاتر میرود که تا حدی خوب است ولی مقدار زیاد آن نیز باعث کاهش دقت مدل میشود (tradeoff)"
      ],
      "metadata": {
        "id": "RREHXw6dydzd"
      }
    },
    {
      "cell_type": "markdown",
      "source": [
        "Get the score value on train *dataset*\n"
      ],
      "metadata": {
        "id": "VWHqbCktz2OD"
      }
    },
    {
      "cell_type": "code",
      "source": [
        "# TODO: Calculate R² score and MSE on the training dataset\n",
        "train_r_squared = ll.score(X_train, y_train)\n",
        "y_train_pred = ll.predict(X_train)\n",
        "print(\"R-squared on train dataset:\", train_r_squared)\n",
        "\n",
        "train_mse = mean_squared_error(y_train, y_train_pred)\n",
        "print(\"Mean Squared Error on train dataset:\", train_mse)"
      ],
      "metadata": {
        "id": "RbHNlgfTz2WI",
        "colab": {
          "base_uri": "https://localhost:8080/"
        },
        "outputId": "bba43a83-0cce-4313-e8c4-45da015f046b"
      },
      "execution_count": null,
      "outputs": [
        {
          "output_type": "stream",
          "name": "stdout",
          "text": [
            "R-squared on train dataset: 0.8171286694481938\n",
            "Mean Squared Error on train dataset: 15.88665494849732\n"
          ]
        }
      ]
    },
    {
      "cell_type": "markdown",
      "source": [
        "Predict the value of \"y\" for each \"x\" belonging to the \"testing\" set"
      ],
      "metadata": {
        "id": "hjI1nMXVz2f2"
      }
    },
    {
      "cell_type": "code",
      "source": [
        "pred = ll.predict(X_test)"
      ],
      "metadata": {
        "id": "KfOWH0oQz2mY"
      },
      "execution_count": null,
      "outputs": []
    },
    {
      "cell_type": "markdown",
      "source": [
        "# Ridge Regularization(L2)"
      ],
      "metadata": {
        "id": "XHpNCGELFZsu"
      }
    },
    {
      "cell_type": "markdown",
      "source": [
        "L2 regularization, also known as Ridge regularization, is a technique used in regression models to prevent overfitting by adding a penalty equivalent to the square of the magnitude of coefficients to the loss function.\n",
        "</br>\n",
        "Train a regression model using L2 regularization."
      ],
      "metadata": {
        "id": "qsVvbx5vy3LP"
      }
    },
    {
      "cell_type": "code",
      "source": [
        "# TODO: Use Ridge from sklearn library\n",
        "from sklearn.linear_model import Ridge\n",
        "rr = Ridge(alpha=10)\n",
        "rr.fit(X_train, y_train)"
      ],
      "metadata": {
        "id": "ww93tqpWwq99",
        "colab": {
          "base_uri": "https://localhost:8080/",
          "height": 74
        },
        "outputId": "4d407732-4c3c-41fc-8844-c3d1c959892d"
      },
      "execution_count": null,
      "outputs": [
        {
          "output_type": "execute_result",
          "data": {
            "text/plain": [
              "Ridge(alpha=10)"
            ],
            "text/html": [
              "<style>#sk-container-id-2 {color: black;background-color: white;}#sk-container-id-2 pre{padding: 0;}#sk-container-id-2 div.sk-toggleable {background-color: white;}#sk-container-id-2 label.sk-toggleable__label {cursor: pointer;display: block;width: 100%;margin-bottom: 0;padding: 0.3em;box-sizing: border-box;text-align: center;}#sk-container-id-2 label.sk-toggleable__label-arrow:before {content: \"▸\";float: left;margin-right: 0.25em;color: #696969;}#sk-container-id-2 label.sk-toggleable__label-arrow:hover:before {color: black;}#sk-container-id-2 div.sk-estimator:hover label.sk-toggleable__label-arrow:before {color: black;}#sk-container-id-2 div.sk-toggleable__content {max-height: 0;max-width: 0;overflow: hidden;text-align: left;background-color: #f0f8ff;}#sk-container-id-2 div.sk-toggleable__content pre {margin: 0.2em;color: black;border-radius: 0.25em;background-color: #f0f8ff;}#sk-container-id-2 input.sk-toggleable__control:checked~div.sk-toggleable__content {max-height: 200px;max-width: 100%;overflow: auto;}#sk-container-id-2 input.sk-toggleable__control:checked~label.sk-toggleable__label-arrow:before {content: \"▾\";}#sk-container-id-2 div.sk-estimator input.sk-toggleable__control:checked~label.sk-toggleable__label {background-color: #d4ebff;}#sk-container-id-2 div.sk-label input.sk-toggleable__control:checked~label.sk-toggleable__label {background-color: #d4ebff;}#sk-container-id-2 input.sk-hidden--visually {border: 0;clip: rect(1px 1px 1px 1px);clip: rect(1px, 1px, 1px, 1px);height: 1px;margin: -1px;overflow: hidden;padding: 0;position: absolute;width: 1px;}#sk-container-id-2 div.sk-estimator {font-family: monospace;background-color: #f0f8ff;border: 1px dotted black;border-radius: 0.25em;box-sizing: border-box;margin-bottom: 0.5em;}#sk-container-id-2 div.sk-estimator:hover {background-color: #d4ebff;}#sk-container-id-2 div.sk-parallel-item::after {content: \"\";width: 100%;border-bottom: 1px solid gray;flex-grow: 1;}#sk-container-id-2 div.sk-label:hover label.sk-toggleable__label {background-color: #d4ebff;}#sk-container-id-2 div.sk-serial::before {content: \"\";position: absolute;border-left: 1px solid gray;box-sizing: border-box;top: 0;bottom: 0;left: 50%;z-index: 0;}#sk-container-id-2 div.sk-serial {display: flex;flex-direction: column;align-items: center;background-color: white;padding-right: 0.2em;padding-left: 0.2em;position: relative;}#sk-container-id-2 div.sk-item {position: relative;z-index: 1;}#sk-container-id-2 div.sk-parallel {display: flex;align-items: stretch;justify-content: center;background-color: white;position: relative;}#sk-container-id-2 div.sk-item::before, #sk-container-id-2 div.sk-parallel-item::before {content: \"\";position: absolute;border-left: 1px solid gray;box-sizing: border-box;top: 0;bottom: 0;left: 50%;z-index: -1;}#sk-container-id-2 div.sk-parallel-item {display: flex;flex-direction: column;z-index: 1;position: relative;background-color: white;}#sk-container-id-2 div.sk-parallel-item:first-child::after {align-self: flex-end;width: 50%;}#sk-container-id-2 div.sk-parallel-item:last-child::after {align-self: flex-start;width: 50%;}#sk-container-id-2 div.sk-parallel-item:only-child::after {width: 0;}#sk-container-id-2 div.sk-dashed-wrapped {border: 1px dashed gray;margin: 0 0.4em 0.5em 0.4em;box-sizing: border-box;padding-bottom: 0.4em;background-color: white;}#sk-container-id-2 div.sk-label label {font-family: monospace;font-weight: bold;display: inline-block;line-height: 1.2em;}#sk-container-id-2 div.sk-label-container {text-align: center;}#sk-container-id-2 div.sk-container {/* jupyter's `normalize.less` sets `[hidden] { display: none; }` but bootstrap.min.css set `[hidden] { display: none !important; }` so we also need the `!important` here to be able to override the default hidden behavior on the sphinx rendered scikit-learn.org. See: https://github.com/scikit-learn/scikit-learn/issues/21755 */display: inline-block !important;position: relative;}#sk-container-id-2 div.sk-text-repr-fallback {display: none;}</style><div id=\"sk-container-id-2\" class=\"sk-top-container\"><div class=\"sk-text-repr-fallback\"><pre>Ridge(alpha=10)</pre><b>In a Jupyter environment, please rerun this cell to show the HTML representation or trust the notebook. <br />On GitHub, the HTML representation is unable to render, please try loading this page with nbviewer.org.</b></div><div class=\"sk-container\" hidden><div class=\"sk-item\"><div class=\"sk-estimator sk-toggleable\"><input class=\"sk-toggleable__control sk-hidden--visually\" id=\"sk-estimator-id-2\" type=\"checkbox\" checked><label for=\"sk-estimator-id-2\" class=\"sk-toggleable__label sk-toggleable__label-arrow\">Ridge</label><div class=\"sk-toggleable__content\"><pre>Ridge(alpha=10)</pre></div></div></div></div></div>"
            ]
          },
          "metadata": {},
          "execution_count": 18
        }
      ]
    },
    {
      "cell_type": "markdown",
      "source": [
        "Get the coefficients of the variables and visualize it."
      ],
      "metadata": {
        "id": "EwXQdOdQ0c4y"
      }
    },
    {
      "cell_type": "code",
      "source": [
        "print(rr.coef_[1:])\n",
        "plt.figure(figsize=(15, 5))\n",
        "plt.bar(range(len(ll.coef_)), rr.coef_)\n",
        "\n",
        "plt.xlabel('Coefficient Index')\n",
        "plt.ylabel('Coefficient Value')\n",
        "plt.show()"
      ],
      "metadata": {
        "id": "CmVqcA6r0dEe",
        "colab": {
          "base_uri": "https://localhost:8080/",
          "height": 589
        },
        "outputId": "bc2f25f7-a3e9-4b09-88f0-e408e74377d5"
      },
      "execution_count": null,
      "outputs": [
        {
          "output_type": "stream",
          "name": "stdout",
          "text": [
            "[ 0.05912156  0.51116396 -0.28467561 -0.32455353 -0.85827735  3.30888276\n",
            " -1.15903729 -1.59593251 -0.53180157 -0.91042787  0.42828162 -2.94077889\n",
            "  0.16087076 -0.2517118   0.62754054  1.60530016 -1.09008989  0.19857273\n",
            " -0.21466179  0.91315274 -0.33329639 -0.37069977 -0.0685445   0.53227529\n",
            "  0.13451302  0.04174477  0.21402759 -0.19753069 -0.13818418  0.11128147\n",
            " -0.41118718  0.69356948 -0.05349153 -0.33153368 -0.6523907   0.65774546\n",
            "  0.00626011  0.17510478  0.56882038  0.84405893  0.75253857 -0.01735362\n",
            " -0.74138428  0.38541275 -0.84892644  0.44774634 -0.95605317 -0.87633987\n",
            " -0.11780543 -0.84245313  0.77371237 -0.05986682 -0.05282303 -0.5612907\n",
            " -0.35054369 -1.10824908 -0.28920456  0.95796985  0.161939   -0.72743981\n",
            " -0.23024552  0.59678367  0.61007814 -0.35547651  0.25507285 -1.39082276\n",
            " -1.30777268 -0.34506817  0.43935663  0.18768566  0.33640313  0.12071674\n",
            "  0.17082987 -0.88889616 -0.93434533  1.1011708  -0.55229718 -0.01954442\n",
            " -0.25679014  0.78714857  0.62433033  1.95275298 -0.76210143 -1.82196645\n",
            " -0.39640046  0.20411156 -0.0280015  -0.3462849   0.03535942  1.27443078]\n"
          ]
        },
        {
          "output_type": "display_data",
          "data": {
            "text/plain": [
              "<Figure size 1500x500 with 1 Axes>"
            ],
            "image/png": "[encoded data removed]"
          },
          "metadata": {}
        }
      ]
    },
    {
      "cell_type": "markdown",
      "source": [
        "Compare the effect on coefficients between L1 and L2 regularization. What are the key differences?\n",
        "\n",
        " How does the regularization parameter influence the magnitude of the coefficients in Ridge Regression?"
      ],
      "metadata": {
        "id": "uc_LYcVZ0dOQ"
      }
    },
    {
      "cell_type": "markdown",
      "source": [
        "    \n",
        "     1\n",
        "     تفاوت آنها در تعداد ضرایب صفر بالای لاسو در\n",
        "       مقایسه با ریج است. در ریج با توجه به توان 2 ضرایب بزرگ معمولا ظاهر نمیشوند ولی مقادیر کوچکتر از 1 چون به توان 2 که میرسند کمتر میشوند (در مقایسه با لاسو)\n",
        "       احتمال حضور بیشتری دارند و همانطور که شکل نشان میدهد تقریبا تمام ضرایب ناصفرند.\n",
        "       با این توضیحات تفسیرپذیری لاسو بالاتر است.\n",
        "       2\n",
        "       هر چه آلفا بیشتر باشد میزان جریمه برای وزن ها بالاتر است. اگر آلفا صفر باشد همان رگرسیون عادی است و اگر آلفا خیلی زیاد باشد عملا نمیتواند به درستی پیش بینی کند زیرا تمام ضرایب را نزدیک صفر میبرد.\n"
      ],
      "metadata": {
        "id": "vz3VZj1H1E5D"
      }
    },
    {
      "cell_type": "markdown",
      "source": [
        "Get the score value on train *dataset*"
      ],
      "metadata": {
        "id": "8-vwV52g1KaB"
      }
    },
    {
      "cell_type": "code",
      "source": [
        "# TODO: Calculate R² score and MSE on the training dataset\n",
        "train_r_squared = rr.score(X_train, y_train)\n",
        "y_train_pred = rr.predict(X_train)\n",
        "print(\"R-squared on train dataset:\", train_r_squared)\n",
        "\n",
        "train_mse = mean_squared_error(y_train, y_train_pred)\n",
        "print(\"Mean Squared Error on train dataset:\", train_mse)"
      ],
      "metadata": {
        "id": "WgrPqaBF0dlc",
        "colab": {
          "base_uri": "https://localhost:8080/"
        },
        "outputId": "3bdc6a3f-307a-4c02-bcc6-35d82988090f"
      },
      "execution_count": null,
      "outputs": [
        {
          "output_type": "stream",
          "name": "stdout",
          "text": [
            "R-squared on train dataset: 0.9143940529441623\n",
            "Mean Squared Error on train dataset: 7.4368800090845655\n"
          ]
        }
      ]
    },
    {
      "cell_type": "markdown",
      "source": [
        "Predict the value of \"y\" for each \"x\" belonging to the \"testing\" set\n",
        "\n"
      ],
      "metadata": {
        "id": "94nftWCR0dtC"
      }
    },
    {
      "cell_type": "code",
      "source": [
        "pred = rr.predict(X_test)"
      ],
      "metadata": {
        "id": "ivsbD08X0d1E"
      },
      "execution_count": null,
      "outputs": []
    },
    {
      "cell_type": "markdown",
      "source": [
        "# Summarization"
      ],
      "metadata": {
        "id": "u6iKDyiwF-2q"
      }
    },
    {
      "cell_type": "markdown",
      "source": [
        "Summarize the performance metrics (e.g., RMSE, R² score) of the basic regression model, Lasso regression, and Ridge regression in a table for easy comparison.(On both test and train data)</br>\n",
        "if you are not familiar with R-squared concept see the link below:\n",
        "[R-squared](https://statisticsbyjim.com/regression/interpret-r-squared-regression/)\n"
      ],
      "metadata": {
        "id": "gY7NOCfB0d9K"
      }
    },
    {
      "cell_type": "code",
      "source": [
        "# HINT: Use DataFrame tools\n",
        "\n",
        "print(\"Basic Regression:\")\n",
        "y_pred_train = lr.predict(X_train)\n",
        "y_pred_test = lr.predict(X_test)\n",
        "\n",
        "mse_train = mean_squared_error(y_train, y_pred_train)\n",
        "mse_test = mean_squared_error(y_test, y_pred_test)\n",
        "r2_train = r2_score(y_train, y_pred_train)\n",
        "r2_test = r2_score(y_test, y_pred_test)\n",
        "print(\"MSE train:\", mse_train)\n",
        "print(\"MSE test: \", mse_test)\n",
        "print(\"R train: \",r2_train)\n",
        "print(\"R test: \",r2_test)\n",
        "print('--------------')\n",
        "print(\"Lasso Regression:\")\n",
        "y_pred_train = ll.predict(X_train)\n",
        "y_pred_test = ll.predict(X_test)\n",
        "\n",
        "mse_train = mean_squared_error(y_train, y_pred_train)\n",
        "mse_test = mean_squared_error(y_test, y_pred_test)\n",
        "r2_train = r2_score(y_train, y_pred_train)\n",
        "r2_test = r2_score(y_test, y_pred_test)\n",
        "print(\"MSE train:\", mse_train)\n",
        "print(\"MSE test: \", mse_test)\n",
        "print(\"R train: \",r2_train)\n",
        "print(\"R test: \",r2_test)\n",
        "print('--------------')\n",
        "print(\"Ridge Regression:\")\n",
        "y_pred_train = rr.predict(X_train)\n",
        "y_pred_test = rr.predict(X_test)\n",
        "\n",
        "mse_train = mean_squared_error(y_train, y_pred_train)\n",
        "mse_test = mean_squared_error(y_test, y_pred_test)\n",
        "r2_train = r2_score(y_train, y_pred_train)\n",
        "r2_test = r2_score(y_test, y_pred_test)\n",
        "print(\"MSE train:\", mse_train)\n",
        "print(\"MSE test: \", mse_test)\n",
        "print(\"R train: \",r2_train)\n",
        "print(\"R test: \",r2_test)"
      ],
      "metadata": {
        "id": "3gI-6r2r0eEx",
        "colab": {
          "base_uri": "https://localhost:8080/"
        },
        "outputId": "ddd5e28e-3f8c-4183-c6a9-8cee16cf204f"
      },
      "execution_count": null,
      "outputs": [
        {
          "output_type": "stream",
          "name": "stdout",
          "text": [
            "Basic Regression:\n",
            "MSE train: 6.65783903781899\n",
            "MSE test:  18.122076674243075\n",
            "R train:  0.9233615957926449\n",
            "R test:  0.752882288445089\n",
            "--------------\n",
            "Lasso Regression:\n",
            "MSE train: 15.88665494849732\n",
            "MSE test:  16.227426678090257\n",
            "R train:  0.8171286694481938\n",
            "R test:  0.778718266278262\n",
            "--------------\n",
            "Ridge Regression:\n",
            "MSE train: 7.4368800090845655\n",
            "MSE test:  15.110036846916527\n",
            "R train:  0.9143940529441623\n",
            "R test:  0.7939553068756479\n"
          ]
        }
      ]
    },
    {
      "cell_type": "markdown",
      "source": [
        " *Which model performed best on the test data?</br>\n",
        "Why the results on train data are different? </br>\n",
        "Discuss why this might be the case.*"
      ],
      "metadata": {
        "id": "dB2x-l231Soo"
      }
    },
    {
      "cell_type": "markdown",
      "source": [
        "مدل ریج روی داده های تست از لحاظ پیشبینی پذیری عملکرد بهتری داشته است که با توجه به در نظر گرفتن تمام فیچرها منطقی است.\n",
        "\n",
        "علت تفاوت نتایج روی داده های آموزش این است که در رگرسیون عادی برای تابع لاس هیچ هزینه ای برای میزان ضرایب در نظر نمیگیریم و این باعث میشود ضرایب آنها برای آنکه به داده اندک آموزش فیت شوند بالا باشد. حال وقتی در ریج و لاسو برای آن نیز ترم منظمساز اضافه میکنیم باعث میشود کمتر به داده آموزش فیت شده و خطا برای آن بالاتر برود.\n",
        "\n",
        "\n",
        "        "
      ],
      "metadata": {
        "id": "dRIs24F91SsH"
      }
    }
  ]
}