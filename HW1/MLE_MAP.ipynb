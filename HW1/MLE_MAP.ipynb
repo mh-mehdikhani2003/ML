{
  "cells": [
    {
      "cell_type": "markdown",
      "metadata": {
        "id": "YhTuYwHYbE_1"
      },
      "source": [
        "## Objective\n",
        "This exercise will help you gain a deeper understanding of, and insights into, Maximum Likelihood Estimation (MLE) and Maximum A Posteriori (MAP) estimation$\\textit{Maximum Likelihood Estimation (MLE) and Maximum A Posteriori (MAP) }$ :) \\\\\n",
        "Let’s say you have a barrel of apples that are all different sizes. You pick an apple at random, and you want to know its weight. Unfortunately, all you have is a broken scale. answer the questions below."
      ]
    },
    {
      "cell_type": "markdown",
      "metadata": {
        "id": "eSaLb6AYa9DJ"
      },
      "source": [
        "1) For the sake of this section, lets imagine a farmer tells you that the scale returns the weight of the object with an error of +/- a standard deviation of 5g. We can describe this mathematically as:\n",
        "$$\n",
        "measurement = weight + \\mathcal{N}(0, 5g)\n",
        "$$\n",
        "You can weigh the apple as many times as you want, so weigh it 100 times.\n",
        "plot its histogram of your 100 measurements. (y axis is the counts and x-axis is the measured weight)"
      ]
    },
    {
      "cell_type": "code",
      "execution_count": 7,
      "metadata": {
        "id": "hPMnHTcia07a",
        "colab": {
          "base_uri": "https://localhost:8080/",
          "height": 449
        },
        "outputId": "ea9a25dd-3c00-4b8b-f9b8-3d674ee9c63d"
      },
      "outputs": [
        {
          "output_type": "display_data",
          "data": {
            "text/plain": [
              "<Figure size 640x480 with 1 Axes>"
            ],
            "image/png": "[encoded data removed]"
          },
          "metadata": {}
        }
      ],
      "source": [
        "import numpy as np\n",
        "import matplotlib.pyplot as plt\n",
        "BARREL = np.random.normal(loc=85, scale=20, size=100)\n",
        "apple = 85\n",
        "np.random.seed(0)\n",
        "data = np.random.normal(loc=apple, scale=5, size=100)\n",
        "plt.hist(data, bins = 10)\n",
        "plt.xlabel(\"Count\")\n",
        "plt.ylabel(\"Measured Weight\")\n",
        "plt.show()"
      ]
    },
    {
      "cell_type": "markdown",
      "metadata": {
        "id": "HD9Mqy-bcPi5"
      },
      "source": [
        "2) Find the average weight of the apple.\n",
        "Is it a good guess? state your reason."
      ]
    },
    {
      "cell_type": "markdown",
      "source": [
        "<div dir=\"rtl\">\n",
        "\n",
        "طبق قضیه حد مرکزی، چون نویزهای تولید شده مستقل و هم توزیع هستند، مجموع و میانگین آن‌ها از توزیع نرمال پیروی می‌کند که در اینجا میانگین صفر دارد. پس خطای جواب در اینجا توزیع نرمال با میانگین صفر است که تخمین مناسبی است. (همانطور که داده‌ها نشان میدهند.)\n",
        "پس میانگین این 100 وزن، حدس خوبی برای وزن واقعی خواهد بود.\n",
        "\n",
        "</div>\n",
        "\n",
        "\n",
        "\n"
      ],
      "metadata": {
        "id": "I_d35VPE-PWG"
      }
    },
    {
      "cell_type": "code",
      "execution_count": 8,
      "metadata": {
        "id": "xlCBTC0lcPKa",
        "colab": {
          "base_uri": "https://localhost:8080/"
        },
        "outputId": "9d75480c-8946-46b2-b260-de042c5b0f5f"
      },
      "outputs": [
        {
          "output_type": "execute_result",
          "data": {
            "text/plain": [
              "85.29904007767243"
            ]
          },
          "metadata": {},
          "execution_count": 8
        }
      ],
      "source": [
        "data.mean()"
      ]
    },
    {
      "cell_type": "markdown",
      "metadata": {
        "id": "y-P9PJuKcrbq"
      },
      "source": [
        "3) we are going to use grid approximation for calculating the MLE. here is the link if you wnat to get more fimilar with this technique:\n",
        "https://www.bayesrulesbook.com/chapter-6\n",
        "\n",
        "Our end goal is to find the weight of the apple, given the data we have. To formulate it in a Bayesian way: We’ll ask what is the probability of the apple having weight, $w$, given the measurements we took, $X$. And, because we're formulating this in a Bayesian way, we use Bayes’ Law to find the answer:\n",
        "\n",
        "$$\n",
        "P(w|X) = \\frac{P(X|w)P(w)}{P(X)}\n",
        "$$\n",
        "\n",
        "If we make no assumptions about the initial weight of our apple, then we can drop $P(w)$. We’ll say all sizes of apples are equally likely (we’ll revisit this assumption in the MAP approximation).\n",
        "\n",
        "Furthermore, we’ll drop $P(X)$ - the probability of seeing our data. This is a normalization constant and will be important if we do want to know the probabilities of apple weights. But, for right now, our end goal is to only to find the most probable weight. $P(X)$ is independent of $w$, so we can drop it if we’re doing relative comparisons.\n",
        "\n",
        "This leaves us with $P(X|w)$, our likelihood, as in, what is the likelihood that we would see the data, $X$, given an apple of weight $w$. If we maximize this, we maximize the probability that we will guess the right weight.\n",
        "\n",
        "The grid approximation is probably the simplest way to do this. Basically, we’ll systematically step through different weight guesses, and compare what it would look like if this hypothetical weight were to generate data. We’ll compare this hypothetical data to our real data and pick the one that matches the best.\n",
        "\n",
        "To formulate this mathematically:\n",
        "\n",
        "For each of these guesses, we’re asking \"what is the probability that the data we have, came from the distribution that our weight guess would generate\". Because each measurement is independent from another, we can break the above equation down into finding the probability on a per measurement basis:\n",
        "\n",
        "$$\n",
        "P(X|w) = \\prod_{i}^{N} p(x_i|w)\n",
        "$$\n",
        "\n",
        "So, if we multiply the probability that we would see each individual data point - given our weight guess - then we can find one number comparing our weight guess to all of our data.\n",
        "\n",
        "The peak in the likelihood is the weight of the apple.\n",
        "\n",
        "To make it computationally easier,\n",
        "\n",
        "$$\n",
        "\\log P(X|w) = \\log \\prod_{i}^{N} p(x_i|w) = \\sum_{i}^{N} \\log p(d_i|w)\n",
        "$$\n",
        "\n",
        "\n",
        "\n",
        "a) Why did we use log likelihood? Is it ok to do so? Yes it's ok because log is an increasing function.\n",
        "\n",
        "b) do the grid approximation and complete the cell below"
      ]
    },
    {
      "cell_type": "markdown",
      "source": [
        "<div dir=\"rtl\">\n",
        "پاسخ a:\n",
        "در مقادیر کوچک احتمال‌ها هنگامی که آن‌ها در در یکدیگر ضرب می‌کنیم ممکن است به مقادیر بسیار کوچک برسیم که  دقت محاسبات را کاهش می‌دهد. استفاده از جمع به جای ضرب ساده‌تر است (از نظر پیچیدگی محاسباتی) و هم پایداری بیشتری دارد.\n",
        "</div>\n"
      ],
      "metadata": {
        "id": "h61J5JtC_zse"
      }
    },
    {
      "cell_type": "code",
      "execution_count": 10,
      "metadata": {
        "id": "9NnWmxzTiRfr",
        "colab": {
          "base_uri": "https://localhost:8080/",
          "height": 122
        },
        "outputId": "5c1c8319-5bf7-463d-9731-5bfc31a0e84b"
      },
      "outputs": [
        {
          "output_type": "stream",
          "name": "stdout",
          "text": [
            "MLE 85.71428571428572\n"
          ]
        },
        {
          "output_type": "execute_result",
          "data": {
            "text/plain": [
              "'\\n# Calculate the maximum likelihood estimate of a parameter in a normal distribution.\\n# First calculate the log likelihoods for a range of weight guesses.\\n# For each weight guess, assume that the data comes from a normal distribution with that mean and a standard deviation of 10.\\n# Then calculate the log of the probability density function (pdf) of the data under this assumption.\\n# The sum of these log pdf values is the total log likelihood for that weight guess.\\n# After calculating the log likelihoods for all weight guesses, find the weight guess with the maximum log likelihood.\\n# This is the maximum likelihood estimate of the weight.\\n'"
            ],
            "application/vnd.google.colaboratory.intrinsic+json": {
              "type": "string"
            }
          },
          "metadata": {},
          "execution_count": 10
        }
      ],
      "source": [
        "from scipy.stats import norm\n",
        "import numpy as np\n",
        "\n",
        "np.random.seed(0)\n",
        "data = np.random.normal(loc = 85, scale = 20, size = 100)\n",
        "\n",
        "weight_grid = np.linspace(0, 100)\n",
        "\n",
        "ans = 0\n",
        "mle_log_likelihood = -np.inf\n",
        "def log_likelihood_normal(data, mu, sigma):\n",
        "    return np.sum(norm.logpdf(data, mu, sigma))\n",
        "\n",
        "\n",
        "for weight in weight_grid:\n",
        "    log_likelihood = log_likelihood_normal(data, weight, 10)\n",
        "    if (log_likelihood > mle_log_likelihood):\n",
        "        mle_log_likelihood = log_likelihood\n",
        "        ans = weight\n",
        "\n",
        "print(\"MLE\", ans)\n",
        "\n",
        "\"\"\"\n",
        "# Calculate the maximum likelihood estimate of a parameter in a normal distribution.\n",
        "# First calculate the log likelihoods for a range of weight guesses.\n",
        "# For each weight guess, assume that the data comes from a normal distribution with that mean and a standard deviation of 10.\n",
        "# Then calculate the log of the probability density function (pdf) of the data under this assumption.\n",
        "# The sum of these log pdf values is the total log likelihood for that weight guess.\n",
        "# After calculating the log likelihoods for all weight guesses, find the weight guess with the maximum log likelihood.\n",
        "# This is the maximum likelihood estimate of the weight.\n",
        "\"\"\""
      ]
    },
    {
      "cell_type": "markdown",
      "metadata": {
        "id": "NN3lt2npcc2S"
      },
      "source": [
        "Play around with the code and try to answer the following questions regarding MLE and MAP. You can draw plots to visualize as well."
      ]
    },
    {
      "cell_type": "code",
      "execution_count": 11,
      "metadata": {
        "id": "ezcWTpNQamCL",
        "colab": {
          "base_uri": "https://localhost:8080/"
        },
        "outputId": "5d205de1-b18e-4a5e-ec01-35a026b9ffba"
      },
      "outputs": [
        {
          "output_type": "stream",
          "name": "stdout",
          "text": [
            "Average measurement: 98.274 g\n",
            "Maximum Likelihood estimate: 97.485 g\n",
            "Maximum A Posterior estimate: 51.253 g\n",
            "The true weight of the apple was: 98.529 g\n"
          ]
        }
      ],
      "source": [
        "import numpy as np\n",
        "from scipy.stats import norm, invgamma\n",
        "\n",
        "\n",
        "# The barrel of apples\n",
        "# The average apples is between 70-100 g\n",
        "BARREL = np.random.normal(loc=85, scale=20, size=100)\n",
        "# Grid\n",
        "WEIGHT_GUESSES = np.linspace(1, 200, 100)\n",
        "ERROR_GUESSES = np.linspace(.1, 50, 100)\n",
        "\n",
        "# NOTE: Try changing the scale error\n",
        "# in practice, you would not know this number\n",
        "SCALE_ERR = 5\n",
        "\n",
        "# NOTE: Try changing the number of measurements taken\n",
        "N_MEASURMENTS = 20\n",
        "\n",
        "# NOTE: Try changing the prior values and distributions\n",
        "PRIOR_WEIGHT = norm(50, 1).logpdf(WEIGHT_GUESSES)\n",
        "PRIOR_ERR = invgamma(4).logpdf(ERROR_GUESSES)\n",
        "\n",
        "LOG_PRIOR_GRID = np.add.outer(PRIOR_ERR, PRIOR_WEIGHT)\n",
        "\n",
        "\n",
        "def read_scale(apple):\n",
        "    return apple + np.random.normal(loc=0, scale=SCALE_ERR)\n",
        "\n",
        "\n",
        "def get_log_likelihood_grid(measurments):\n",
        "    log_liklelihood = [\n",
        "        [\n",
        "            norm(weight_guess, error_guess).logpdf(measurments).sum()\n",
        "            for weight_guess in WEIGHT_GUESSES\n",
        "        ]\n",
        "        for error_guess in ERROR_GUESSES\n",
        "    ]\n",
        "    return np.asarray(log_liklelihood)\n",
        "\n",
        "\n",
        "\n",
        "def get_mle(measurments):\n",
        "    grid = get_log_likelihood_grid(measurments)\n",
        "    max_index = np.unravel_index(grid.argmax(), grid.shape)\n",
        "    return WEIGHT_GUESSES[max_index[1]]\n",
        "\n",
        "    \"\"\"\n",
        "    Calculate the log-likelihood for each measurement in the grid.\n",
        "    Find the index of the maximum log-likelihood in the grid.\n",
        "    Return the weight guess corresponding to the maximum log-likelihood.\n",
        "    \"\"\"\n",
        "\n",
        "\n",
        "def get_map(measurements):\n",
        "    grid = get_log_likelihood_grid(measurements) + LOG_PRIOR_GRID\n",
        "    max_index = np.unravel_index(grid.argmax(), grid.shape)\n",
        "    return WEIGHT_GUESSES[max_index[1]]\n",
        "    \"\"\"\n",
        "    Calculate the log-likelihood for each measurement in the grid.\n",
        "    Add the log prior to the log likelihood to get the log posterior.\n",
        "    Find the index of the maximum log posterior in the grid.\n",
        "    Return the weight guess corresponding to the maximum log posterior.\n",
        "    \"\"\"\n",
        "\n",
        "# Pick an apple at random\n",
        "apple = np.random.choice(BARREL)\n",
        "\n",
        "# weight the apple\n",
        "measurments = np.asarray([read_scale(apple) for _ in range(N_MEASURMENTS)])\n",
        "\n",
        "print(f\"Average measurement: {measurments.mean():.3f} g\")\n",
        "print(f\"Maximum Likelihood estimate: {get_mle(measurments):.3f} g\")\n",
        "print(f\"Maximum A Posterior estimate: {get_map(measurments):.3f} g\")\n",
        "print(f\"The true weight of the apple was: {apple:.3f} g\")"
      ]
    },
    {
      "cell_type": "markdown",
      "metadata": {
        "id": "LI_541TpetKk"
      },
      "source": [
        "<h3><i><i> Questions</h3>\n",
        "1.\n",
        "How sensitive is the MAP measurement to the choice of prior?"
      ]
    },
    {
      "cell_type": "markdown",
      "source": [
        "<div dir=\"rtl\">\n",
        "در اینجا چون تخمین اولیه (50 گرم) فاصله زیادی با توزیعی که وزن سیب از آن انتخاب می‌شود، دارد و همچنین تعداد اندازه‌گیری ها کم است MAP تقریبا جوابی نزدیک به تخمین اولیه خروجی میدهد. در صورتی که تعداد اندازه‌گیری ها را بالا ببریم به جواب واقعی نزدیک میشود ولی به طور کلی این تخمین نسبت به مقدار حدس اولیه حساس است.\n",
        "\n",
        "</div>\n"
      ],
      "metadata": {
        "id": "InnkkvbUDlnd"
      }
    },
    {
      "cell_type": "markdown",
      "metadata": {
        "id": "RMV-wgYXes_O"
      },
      "source": [
        "<h3><i><i></h3>\n",
        "2. How sensitive is the MLE and MAP answer to the grid size?\n",
        "\n"
      ]
    },
    {
      "cell_type": "markdown",
      "source": [
        "<div dir=\"rtl\">\n",
        "تخمین بیشینه درست‌نمایی نسبت به سایز شبکه حساس تر است زیرا اگر چندین بهینه محلی وجود داشته باشد، اندازه شبکه بر اینکه کدام مقدار انتخاب شود تاثیر زیادی دارد ولی در MAP توزیع پیشین مقادیر جواب را به سمت ناحیه های با احتمال رخ دادن بالا هدایت می‌کند.\n",
        "</div>"
      ],
      "metadata": {
        "id": "DKP1YvleFQnG"
      }
    }
  ],
  "metadata": {
    "colab": {
      "provenance": []
    },
    "kernelspec": {
      "display_name": "Python 3",
      "name": "python3"
    },
    "language_info": {
      "codemirror_mode": {
        "name": "ipython",
        "version": 3
      },
      "file_extension": ".py",
      "mimetype": "text/x-python",
      "name": "python",
      "nbconvert_exporter": "python",
      "pygments_lexer": "ipython3",
      "version": "3.11.2"
    }
  },
  "nbformat": 4,
  "nbformat_minor": 0
}