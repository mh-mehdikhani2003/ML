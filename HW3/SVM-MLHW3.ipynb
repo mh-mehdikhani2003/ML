{
  "cells": [
    {
      "cell_type": "markdown",
      "metadata": {
        "id": "aidzsYgZ8YfZ"
      },
      "source": [
        "<img src=\"./sharif.png\" alt=\"SUT logo\" width=300 height=300 align=left class=\"saturate\">\n",
        "\n",
        "<br>\n",
        "<font>\n",
        "<div dir=ltr align=center>\n",
        "<font color=0F5298 size=7>\n",
        "    Machine Learning <br>\n",
        "<font color=2565AE size=5>\n",
        "    Computer Engineering Department <br>\n",
        "    Spring 2024<br>\n",
        "<font color=3C99D size=5>\n",
        "    Practical Assignment 3<br>\n",
        "<font color=696880 size=4>\n",
        "    Ashkan Majidi - Shayan Salehi - Amirhossein Alamdar\n",
        "\n",
        "____"
      ]
    },
    {
      "cell_type": "markdown",
      "metadata": {
        "id": "Odk8iI998Yfs"
      },
      "source": [
        "# Personal Data"
      ]
    },
    {
      "cell_type": "code",
      "execution_count": null,
      "metadata": {
        "id": "V0tjRIg08Yft"
      },
      "outputs": [],
      "source": [
        "student_number = '400102039'\n",
        "first_name = 'Mehdikhani'\n",
        "last_name = 'mohamad Hosein'"
      ]
    },
    {
      "cell_type": "markdown",
      "metadata": {
        "id": "4i27ewaJ8Yfu"
      },
      "source": [
        "# Introduction\n",
        "\n",
        "In this assignment, you will implement SVM (Support Vector Machines) for classification.\n"
      ]
    },
    {
      "cell_type": "markdown",
      "metadata": {
        "id": "PRNN4YO88Yfu"
      },
      "source": [
        "# Data Prepfocessing"
      ]
    },
    {
      "cell_type": "markdown",
      "metadata": {
        "id": "m2-BVadq8Yfu"
      },
      "source": [
        "Import your needed libraries in following cell."
      ]
    },
    {
      "cell_type": "code",
      "execution_count": 37,
      "metadata": {
        "id": "hvK1QARq8Yfv"
      },
      "outputs": [],
      "source": [
        "import pandas as pd\n",
        "import numpy as np\n",
        "import matplotlib.pyplot as plt\n",
        "import seaborn as sns"
      ]
    },
    {
      "cell_type": "markdown",
      "metadata": {
        "id": "fvxcbKnx9tVW"
      },
      "source": []
    },
    {
      "cell_type": "markdown",
      "metadata": {
        "id": "p-nGdyld8Yfv"
      },
      "source": [
        "Load data from ```satimage``` dataset and split data to features and labels. The ```label``` column is our target variable."
      ]
    },
    {
      "cell_type": "code",
      "execution_count": 13,
      "metadata": {
        "colab": {
          "base_uri": "https://localhost:8080/"
        },
        "id": "PYJfCtUY8Yfv",
        "outputId": "1f7ef21e-9edf-44a5-ce2e-21a69aaf17d0"
      },
      "outputs": [
        {
          "name": "stdout",
          "output_type": "stream",
          "text": [
            "Drive already mounted at /content/drive; to attempt to forcibly remount, call drive.mount(\"/content/drive\", force_remount=True).\n"
          ]
        }
      ],
      "source": [
        "from google.colab import drive\n",
        "drive.mount('/content/drive')"
      ]
    },
    {
      "cell_type": "code",
      "execution_count": 38,
      "metadata": {
        "colab": {
          "base_uri": "https://localhost:8080/",
          "height": 350
        },
        "id": "1v-R6mi6-PAo",
        "outputId": "792934ad-003e-4174-989f-c4c0bff6980f"
      },
      "outputs": [
        {
          "data": {
            "application/vnd.google.colaboratory.intrinsic+json": {
              "type": "dataframe"
            },
            "text/html": [
              "\n",
              "  <div id=\"df-d0c0d43a-c154-44d6-9ffb-58dfc36117ee\" class=\"colab-df-container\">\n",
              "    <div>\n",
              "<style scoped>\n",
              "    .dataframe tbody tr th:only-of-type {\n",
              "        vertical-align: middle;\n",
              "    }\n",
              "\n",
              "    .dataframe tbody tr th {\n",
              "        vertical-align: top;\n",
              "    }\n",
              "\n",
              "    .dataframe thead th {\n",
              "        text-align: right;\n",
              "    }\n",
              "</style>\n",
              "<table border=\"1\" class=\"dataframe\">\n",
              "  <thead>\n",
              "    <tr style=\"text-align: right;\">\n",
              "      <th></th>\n",
              "      <th>0</th>\n",
              "      <th>1</th>\n",
              "      <th>2</th>\n",
              "      <th>3</th>\n",
              "      <th>4</th>\n",
              "      <th>5</th>\n",
              "      <th>6</th>\n",
              "      <th>7</th>\n",
              "      <th>8</th>\n",
              "      <th>9</th>\n",
              "      <th>...</th>\n",
              "      <th>27</th>\n",
              "      <th>28</th>\n",
              "      <th>29</th>\n",
              "      <th>30</th>\n",
              "      <th>31</th>\n",
              "      <th>32</th>\n",
              "      <th>33</th>\n",
              "      <th>34</th>\n",
              "      <th>35</th>\n",
              "      <th>label</th>\n",
              "    </tr>\n",
              "  </thead>\n",
              "  <tbody>\n",
              "    <tr>\n",
              "      <th>count</th>\n",
              "      <td>6435.000000</td>\n",
              "      <td>6435.000000</td>\n",
              "      <td>6435.000000</td>\n",
              "      <td>6435.000000</td>\n",
              "      <td>6435.000000</td>\n",
              "      <td>6435.000000</td>\n",
              "      <td>6435.000000</td>\n",
              "      <td>6435.000000</td>\n",
              "      <td>6435.000000</td>\n",
              "      <td>6435.000000</td>\n",
              "      <td>...</td>\n",
              "      <td>6435.000000</td>\n",
              "      <td>6435.000000</td>\n",
              "      <td>6435.000000</td>\n",
              "      <td>6435.000000</td>\n",
              "      <td>6435.000000</td>\n",
              "      <td>6435.000000</td>\n",
              "      <td>6435.000000</td>\n",
              "      <td>6435.000000</td>\n",
              "      <td>6435.000000</td>\n",
              "      <td>6435.000000</td>\n",
              "    </tr>\n",
              "    <tr>\n",
              "      <th>mean</th>\n",
              "      <td>6.850000</td>\n",
              "      <td>5.289977</td>\n",
              "      <td>5.307285</td>\n",
              "      <td>4.737998</td>\n",
              "      <td>2.940331</td>\n",
              "      <td>4.226093</td>\n",
              "      <td>10.339083</td>\n",
              "      <td>3.030711</td>\n",
              "      <td>-0.254356</td>\n",
              "      <td>3.535447</td>\n",
              "      <td>...</td>\n",
              "      <td>-0.188990</td>\n",
              "      <td>-0.078644</td>\n",
              "      <td>0.111794</td>\n",
              "      <td>0.033934</td>\n",
              "      <td>-0.162218</td>\n",
              "      <td>-0.102263</td>\n",
              "      <td>0.084639</td>\n",
              "      <td>0.030022</td>\n",
              "      <td>-0.163979</td>\n",
              "      <td>3.434343</td>\n",
              "    </tr>\n",
              "    <tr>\n",
              "      <th>std</th>\n",
              "      <td>3.401468</td>\n",
              "      <td>4.160406</td>\n",
              "      <td>3.963320</td>\n",
              "      <td>2.186508</td>\n",
              "      <td>0.437458</td>\n",
              "      <td>4.161181</td>\n",
              "      <td>3.508229</td>\n",
              "      <td>3.551423</td>\n",
              "      <td>5.472431</td>\n",
              "      <td>7.990691</td>\n",
              "      <td>...</td>\n",
              "      <td>0.316521</td>\n",
              "      <td>0.415159</td>\n",
              "      <td>0.452420</td>\n",
              "      <td>0.351670</td>\n",
              "      <td>0.297557</td>\n",
              "      <td>0.418800</td>\n",
              "      <td>0.443048</td>\n",
              "      <td>0.351484</td>\n",
              "      <td>0.297723</td>\n",
              "      <td>1.876139</td>\n",
              "    </tr>\n",
              "    <tr>\n",
              "      <th>min</th>\n",
              "      <td>-0.750000</td>\n",
              "      <td>-5.000000</td>\n",
              "      <td>-5.714300</td>\n",
              "      <td>-1.000000</td>\n",
              "      <td>1.967740</td>\n",
              "      <td>-6.000000</td>\n",
              "      <td>0.000000</td>\n",
              "      <td>-7.000000</td>\n",
              "      <td>-12.000000</td>\n",
              "      <td>-16.000000</td>\n",
              "      <td>...</td>\n",
              "      <td>-1.083330</td>\n",
              "      <td>-1.000000</td>\n",
              "      <td>-1.000000</td>\n",
              "      <td>-1.000000</td>\n",
              "      <td>-1.000000</td>\n",
              "      <td>-1.031250</td>\n",
              "      <td>-1.000000</td>\n",
              "      <td>-1.000000</td>\n",
              "      <td>-1.000000</td>\n",
              "      <td>1.000000</td>\n",
              "    </tr>\n",
              "    <tr>\n",
              "      <th>25%</th>\n",
              "      <td>4.500000</td>\n",
              "      <td>3.000000</td>\n",
              "      <td>1.904760</td>\n",
              "      <td>3.165287</td>\n",
              "      <td>2.645161</td>\n",
              "      <td>2.000000</td>\n",
              "      <td>7.368420</td>\n",
              "      <td>0.500000</td>\n",
              "      <td>-3.875000</td>\n",
              "      <td>-0.621358</td>\n",
              "      <td>...</td>\n",
              "      <td>-0.416667</td>\n",
              "      <td>-0.353846</td>\n",
              "      <td>-0.128713</td>\n",
              "      <td>-0.263158</td>\n",
              "      <td>-0.375000</td>\n",
              "      <td>-0.375000</td>\n",
              "      <td>-0.145631</td>\n",
              "      <td>-0.263158</td>\n",
              "      <td>-0.390625</td>\n",
              "      <td>2.000000</td>\n",
              "    </tr>\n",
              "    <tr>\n",
              "      <th>50%</th>\n",
              "      <td>6.500000</td>\n",
              "      <td>5.909091</td>\n",
              "      <td>5.714286</td>\n",
              "      <td>4.553716</td>\n",
              "      <td>2.903226</td>\n",
              "      <td>4.545455</td>\n",
              "      <td>10.736842</td>\n",
              "      <td>2.750000</td>\n",
              "      <td>-1.031250</td>\n",
              "      <td>4.271852</td>\n",
              "      <td>...</td>\n",
              "      <td>-0.216667</td>\n",
              "      <td>-0.107692</td>\n",
              "      <td>0.148515</td>\n",
              "      <td>0.052632</td>\n",
              "      <td>-0.187500</td>\n",
              "      <td>-0.156250</td>\n",
              "      <td>0.106796</td>\n",
              "      <td>0.052632</td>\n",
              "      <td>-0.187500</td>\n",
              "      <td>3.000000</td>\n",
              "    </tr>\n",
              "    <tr>\n",
              "      <th>75%</th>\n",
              "      <td>9.500000</td>\n",
              "      <td>8.818180</td>\n",
              "      <td>8.571430</td>\n",
              "      <td>5.826446</td>\n",
              "      <td>3.290323</td>\n",
              "      <td>7.818180</td>\n",
              "      <td>13.263160</td>\n",
              "      <td>4.812500</td>\n",
              "      <td>3.843750</td>\n",
              "      <td>10.213598</td>\n",
              "      <td>...</td>\n",
              "      <td>-0.033333</td>\n",
              "      <td>0.230769</td>\n",
              "      <td>0.504950</td>\n",
              "      <td>0.326316</td>\n",
              "      <td>-0.015625</td>\n",
              "      <td>0.218750</td>\n",
              "      <td>0.475728</td>\n",
              "      <td>0.326316</td>\n",
              "      <td>-0.015625</td>\n",
              "      <td>5.000000</td>\n",
              "    </tr>\n",
              "    <tr>\n",
              "      <th>max</th>\n",
              "      <td>15.500000</td>\n",
              "      <td>15.000000</td>\n",
              "      <td>15.000000</td>\n",
              "      <td>13.000000</td>\n",
              "      <td>4.064520</td>\n",
              "      <td>14.000000</td>\n",
              "      <td>20.000000</td>\n",
              "      <td>17.000000</td>\n",
              "      <td>14.000000</td>\n",
              "      <td>20.000000</td>\n",
              "      <td>...</td>\n",
              "      <td>1.000000</td>\n",
              "      <td>1.000000</td>\n",
              "      <td>1.039600</td>\n",
              "      <td>1.000000</td>\n",
              "      <td>1.000000</td>\n",
              "      <td>1.000000</td>\n",
              "      <td>1.000000</td>\n",
              "      <td>1.000000</td>\n",
              "      <td>1.000000</td>\n",
              "      <td>6.000000</td>\n",
              "    </tr>\n",
              "  </tbody>\n",
              "</table>\n",
              "<p>8 rows × 37 columns</p>\n",
              "</div>\n",
              "    <div class=\"colab-df-buttons\">\n",
              "\n",
              "  <div class=\"colab-df-container\">\n",
              "    <button class=\"colab-df-convert\" onclick=\"convertToInteractive('df-d0c0d43a-c154-44d6-9ffb-58dfc36117ee')\"\n",
              "            title=\"Convert this dataframe to an interactive table.\"\n",
              "            style=\"display:none;\">\n",
              "\n",
              "  <svg xmlns=\"http://www.w3.org/2000/svg\" height=\"24px\" viewBox=\"0 -960 960 960\">\n",
              "    <path d=\"M120-120v-720h720v720H120Zm60-500h600v-160H180v160Zm220 220h160v-160H400v160Zm0 220h160v-160H400v160ZM180-400h160v-160H180v160Zm440 0h160v-160H620v160ZM180-180h160v-160H180v160Zm440 0h160v-160H620v160Z\"/>\n",
              "  </svg>\n",
              "    </button>\n",
              "\n",
              "  <style>\n",
              "    .colab-df-container {\n",
              "      display:flex;\n",
              "      gap: 12px;\n",
              "    }\n",
              "\n",
              "    .colab-df-convert {\n",
              "      background-color: #E8F0FE;\n",
              "      border: none;\n",
              "      border-radius: 50%;\n",
              "      cursor: pointer;\n",
              "      display: none;\n",
              "      fill: #1967D2;\n",
              "      height: 32px;\n",
              "      padding: 0 0 0 0;\n",
              "      width: 32px;\n",
              "    }\n",
              "\n",
              "    .colab-df-convert:hover {\n",
              "      background-color: #E2EBFA;\n",
              "      box-shadow: 0px 1px 2px rgba(60, 64, 67, 0.3), 0px 1px 3px 1px rgba(60, 64, 67, 0.15);\n",
              "      fill: #174EA6;\n",
              "    }\n",
              "\n",
              "    .colab-df-buttons div {\n",
              "      margin-bottom: 4px;\n",
              "    }\n",
              "\n",
              "    [theme=dark] .colab-df-convert {\n",
              "      background-color: #3B4455;\n",
              "      fill: #D2E3FC;\n",
              "    }\n",
              "\n",
              "    [theme=dark] .colab-df-convert:hover {\n",
              "      background-color: #434B5C;\n",
              "      box-shadow: 0px 1px 3px 1px rgba(0, 0, 0, 0.15);\n",
              "      filter: drop-shadow(0px 1px 2px rgba(0, 0, 0, 0.3));\n",
              "      fill: #FFFFFF;\n",
              "    }\n",
              "  </style>\n",
              "\n",
              "    <script>\n",
              "      const buttonEl =\n",
              "        document.querySelector('#df-d0c0d43a-c154-44d6-9ffb-58dfc36117ee button.colab-df-convert');\n",
              "      buttonEl.style.display =\n",
              "        google.colab.kernel.accessAllowed ? 'block' : 'none';\n",
              "\n",
              "      async function convertToInteractive(key) {\n",
              "        const element = document.querySelector('#df-d0c0d43a-c154-44d6-9ffb-58dfc36117ee');\n",
              "        const dataTable =\n",
              "          await google.colab.kernel.invokeFunction('convertToInteractive',\n",
              "                                                    [key], {});\n",
              "        if (!dataTable) return;\n",
              "\n",
              "        const docLinkHtml = 'Like what you see? Visit the ' +\n",
              "          '<a target=\"_blank\" href=https://colab.research.google.com/notebooks/data_table.ipynb>data table notebook</a>'\n",
              "          + ' to learn more about interactive tables.';\n",
              "        element.innerHTML = '';\n",
              "        dataTable['output_type'] = 'display_data';\n",
              "        await google.colab.output.renderOutput(dataTable, element);\n",
              "        const docLink = document.createElement('div');\n",
              "        docLink.innerHTML = docLinkHtml;\n",
              "        element.appendChild(docLink);\n",
              "      }\n",
              "    </script>\n",
              "  </div>\n",
              "\n",
              "\n",
              "<div id=\"df-14b529c3-768f-4904-90c9-af252fd06560\">\n",
              "  <button class=\"colab-df-quickchart\" onclick=\"quickchart('df-14b529c3-768f-4904-90c9-af252fd06560')\"\n",
              "            title=\"Suggest charts\"\n",
              "            style=\"display:none;\">\n",
              "\n",
              "<svg xmlns=\"http://www.w3.org/2000/svg\" height=\"24px\"viewBox=\"0 0 24 24\"\n",
              "     width=\"24px\">\n",
              "    <g>\n",
              "        <path d=\"M19 3H5c-1.1 0-2 .9-2 2v14c0 1.1.9 2 2 2h14c1.1 0 2-.9 2-2V5c0-1.1-.9-2-2-2zM9 17H7v-7h2v7zm4 0h-2V7h2v10zm4 0h-2v-4h2v4z\"/>\n",
              "    </g>\n",
              "</svg>\n",
              "  </button>\n",
              "\n",
              "<style>\n",
              "  .colab-df-quickchart {\n",
              "      --bg-color: #E8F0FE;\n",
              "      --fill-color: #1967D2;\n",
              "      --hover-bg-color: #E2EBFA;\n",
              "      --hover-fill-color: #174EA6;\n",
              "      --disabled-fill-color: #AAA;\n",
              "      --disabled-bg-color: #DDD;\n",
              "  }\n",
              "\n",
              "  [theme=dark] .colab-df-quickchart {\n",
              "      --bg-color: #3B4455;\n",
              "      --fill-color: #D2E3FC;\n",
              "      --hover-bg-color: #434B5C;\n",
              "      --hover-fill-color: #FFFFFF;\n",
              "      --disabled-bg-color: #3B4455;\n",
              "      --disabled-fill-color: #666;\n",
              "  }\n",
              "\n",
              "  .colab-df-quickchart {\n",
              "    background-color: var(--bg-color);\n",
              "    border: none;\n",
              "    border-radius: 50%;\n",
              "    cursor: pointer;\n",
              "    display: none;\n",
              "    fill: var(--fill-color);\n",
              "    height: 32px;\n",
              "    padding: 0;\n",
              "    width: 32px;\n",
              "  }\n",
              "\n",
              "  .colab-df-quickchart:hover {\n",
              "    background-color: var(--hover-bg-color);\n",
              "    box-shadow: 0 1px 2px rgba(60, 64, 67, 0.3), 0 1px 3px 1px rgba(60, 64, 67, 0.15);\n",
              "    fill: var(--button-hover-fill-color);\n",
              "  }\n",
              "\n",
              "  .colab-df-quickchart-complete:disabled,\n",
              "  .colab-df-quickchart-complete:disabled:hover {\n",
              "    background-color: var(--disabled-bg-color);\n",
              "    fill: var(--disabled-fill-color);\n",
              "    box-shadow: none;\n",
              "  }\n",
              "\n",
              "  .colab-df-spinner {\n",
              "    border: 2px solid var(--fill-color);\n",
              "    border-color: transparent;\n",
              "    border-bottom-color: var(--fill-color);\n",
              "    animation:\n",
              "      spin 1s steps(1) infinite;\n",
              "  }\n",
              "\n",
              "  @keyframes spin {\n",
              "    0% {\n",
              "      border-color: transparent;\n",
              "      border-bottom-color: var(--fill-color);\n",
              "      border-left-color: var(--fill-color);\n",
              "    }\n",
              "    20% {\n",
              "      border-color: transparent;\n",
              "      border-left-color: var(--fill-color);\n",
              "      border-top-color: var(--fill-color);\n",
              "    }\n",
              "    30% {\n",
              "      border-color: transparent;\n",
              "      border-left-color: var(--fill-color);\n",
              "      border-top-color: var(--fill-color);\n",
              "      border-right-color: var(--fill-color);\n",
              "    }\n",
              "    40% {\n",
              "      border-color: transparent;\n",
              "      border-right-color: var(--fill-color);\n",
              "      border-top-color: var(--fill-color);\n",
              "    }\n",
              "    60% {\n",
              "      border-color: transparent;\n",
              "      border-right-color: var(--fill-color);\n",
              "    }\n",
              "    80% {\n",
              "      border-color: transparent;\n",
              "      border-right-color: var(--fill-color);\n",
              "      border-bottom-color: var(--fill-color);\n",
              "    }\n",
              "    90% {\n",
              "      border-color: transparent;\n",
              "      border-bottom-color: var(--fill-color);\n",
              "    }\n",
              "  }\n",
              "</style>\n",
              "\n",
              "  <script>\n",
              "    async function quickchart(key) {\n",
              "      const quickchartButtonEl =\n",
              "        document.querySelector('#' + key + ' button');\n",
              "      quickchartButtonEl.disabled = true;  // To prevent multiple clicks.\n",
              "      quickchartButtonEl.classList.add('colab-df-spinner');\n",
              "      try {\n",
              "        const charts = await google.colab.kernel.invokeFunction(\n",
              "            'suggestCharts', [key], {});\n",
              "      } catch (error) {\n",
              "        console.error('Error during call to suggestCharts:', error);\n",
              "      }\n",
              "      quickchartButtonEl.classList.remove('colab-df-spinner');\n",
              "      quickchartButtonEl.classList.add('colab-df-quickchart-complete');\n",
              "    }\n",
              "    (() => {\n",
              "      let quickchartButtonEl =\n",
              "        document.querySelector('#df-14b529c3-768f-4904-90c9-af252fd06560 button');\n",
              "      quickchartButtonEl.style.display =\n",
              "        google.colab.kernel.accessAllowed ? 'block' : 'none';\n",
              "    })();\n",
              "  </script>\n",
              "</div>\n",
              "    </div>\n",
              "  </div>\n"
            ],
            "text/plain": [
              "                 0            1            2            3            4  \\\n",
              "count  6435.000000  6435.000000  6435.000000  6435.000000  6435.000000   \n",
              "mean      6.850000     5.289977     5.307285     4.737998     2.940331   \n",
              "std       3.401468     4.160406     3.963320     2.186508     0.437458   \n",
              "min      -0.750000    -5.000000    -5.714300    -1.000000     1.967740   \n",
              "25%       4.500000     3.000000     1.904760     3.165287     2.645161   \n",
              "50%       6.500000     5.909091     5.714286     4.553716     2.903226   \n",
              "75%       9.500000     8.818180     8.571430     5.826446     3.290323   \n",
              "max      15.500000    15.000000    15.000000    13.000000     4.064520   \n",
              "\n",
              "                 5            6            7            8            9  ...  \\\n",
              "count  6435.000000  6435.000000  6435.000000  6435.000000  6435.000000  ...   \n",
              "mean      4.226093    10.339083     3.030711    -0.254356     3.535447  ...   \n",
              "std       4.161181     3.508229     3.551423     5.472431     7.990691  ...   \n",
              "min      -6.000000     0.000000    -7.000000   -12.000000   -16.000000  ...   \n",
              "25%       2.000000     7.368420     0.500000    -3.875000    -0.621358  ...   \n",
              "50%       4.545455    10.736842     2.750000    -1.031250     4.271852  ...   \n",
              "75%       7.818180    13.263160     4.812500     3.843750    10.213598  ...   \n",
              "max      14.000000    20.000000    17.000000    14.000000    20.000000  ...   \n",
              "\n",
              "                27           28           29           30           31  \\\n",
              "count  6435.000000  6435.000000  6435.000000  6435.000000  6435.000000   \n",
              "mean     -0.188990    -0.078644     0.111794     0.033934    -0.162218   \n",
              "std       0.316521     0.415159     0.452420     0.351670     0.297557   \n",
              "min      -1.083330    -1.000000    -1.000000    -1.000000    -1.000000   \n",
              "25%      -0.416667    -0.353846    -0.128713    -0.263158    -0.375000   \n",
              "50%      -0.216667    -0.107692     0.148515     0.052632    -0.187500   \n",
              "75%      -0.033333     0.230769     0.504950     0.326316    -0.015625   \n",
              "max       1.000000     1.000000     1.039600     1.000000     1.000000   \n",
              "\n",
              "                32           33           34           35        label  \n",
              "count  6435.000000  6435.000000  6435.000000  6435.000000  6435.000000  \n",
              "mean     -0.102263     0.084639     0.030022    -0.163979     3.434343  \n",
              "std       0.418800     0.443048     0.351484     0.297723     1.876139  \n",
              "min      -1.031250    -1.000000    -1.000000    -1.000000     1.000000  \n",
              "25%      -0.375000    -0.145631    -0.263158    -0.390625     2.000000  \n",
              "50%      -0.156250     0.106796     0.052632    -0.187500     3.000000  \n",
              "75%       0.218750     0.475728     0.326316    -0.015625     5.000000  \n",
              "max       1.000000     1.000000     1.000000     1.000000     6.000000  \n",
              "\n",
              "[8 rows x 37 columns]"
            ]
          },
          "execution_count": 38,
          "metadata": {},
          "output_type": "execute_result"
        }
      ],
      "source": [
        "path = \"/content/satimage.csv\"\n",
        "df = pd.read_csv(path)\n",
        "df.describe()\n"
      ]
    },
    {
      "cell_type": "markdown",
      "metadata": {
        "id": "5VHrxQVA8Yfv"
      },
      "source": [
        "Now split data to train, validation and test parts. 60% of data should be used for train, 15% for validation and 25% for test. After that scale the data to Standard Normal Distribution using ```StandardScaler``` class from ```scikit-learn``` library."
      ]
    },
    {
      "cell_type": "code",
      "execution_count": 43,
      "metadata": {
        "id": "B0qeAkRs8Yfv"
      },
      "outputs": [],
      "source": [
        "from sklearn.preprocessing import StandardScaler\n",
        "from sklearn.model_selection import train_test_split\n",
        "\n",
        "\n",
        "\n",
        "df['label'] = df['label'].replace(4.0, 1000)\n",
        "df['label'] = df['label'].replace(6.0, -1000)\n",
        "\n",
        "\n",
        "\n",
        "df2 = df[(df['label'] == 1000) | (df['label'] == -1000)]\n",
        "df2.loc[df['label'] == 1000, 'label'] = 1.0\n",
        "df2.loc[df['label'] == -1000, 'label'] = -1.0\n",
        "#print(df2.describe())\n",
        "\n",
        "X = df2.drop('label', axis=1)\n",
        "y = df2['label']\n",
        "#print(np.array(y))\n",
        "\n",
        "X_train, X_temp, y_train, y_temp = train_test_split(X, y, test_size=0.4)\n",
        "X_val, X_test, y_val, y_test = train_test_split(X_temp, y_temp, test_size=0.625)\n",
        "\n",
        "\n",
        "scaler = StandardScaler()\n",
        "X_train = scaler.fit_transform(X_train)\n",
        "X_val = scaler.transform(X_val)\n",
        "X_test = scaler.transform(X_test)\n"
      ]
    },
    {
      "cell_type": "markdown",
      "metadata": {
        "id": "Y6__sPkv8Yfw"
      },
      "source": [
        "We want to train Binary SVM model for classification between labels 4 and 6. Choose corresponding datas and convert their lables to 1 and -1 respectively for 4 and 6."
      ]
    },
    {
      "cell_type": "code",
      "execution_count": 16,
      "metadata": {
        "id": "mydDX21P8Yfw"
      },
      "outputs": [],
      "source": [
        "# در سلول بالا انجام شده است."
      ]
    },
    {
      "cell_type": "markdown",
      "metadata": {
        "id": "GeXXslTc8Yfw"
      },
      "source": [
        "# Model (50 points)"
      ]
    },
    {
      "cell_type": "markdown",
      "metadata": {
        "id": "YW9Hg5dx8Yfw"
      },
      "source": [
        "Here is soft margin svm convex optimization formulation.\n",
        "$$\n",
        "\\begin{aligned}\n",
        "\\text { Minimize } & \\frac{1}{2}\\|\\mathbf{w}\\|^2+C \\sum_{i=1}^N \\xi_i \\\\\n",
        "\\text { Subject to } & y_i\\left(\\mathbf{w}^T \\mathbf{x}_i+b\\right) \\geq 1-\\xi_i, \\quad i=1,2, \\ldots, N \\\\\n",
        "& \\xi_i \\geq 0, \\quad i=1,2, \\ldots, N\n",
        "\\end{aligned}\n",
        "$$\n",
        "write dual of the soft margin svm optimization problem below:"
      ]
    },
    {
      "cell_type": "markdown",
      "metadata": {
        "id": "r0X8k8GA5OL-"
      },
      "source": []
    },
    {
      "cell_type": "markdown",
      "metadata": {
        "id": "JIp9hEYl5OFT"
      },
      "source": []
    },
    {
      "cell_type": "markdown",
      "metadata": {
        "id": "4pegrK0P5OAz"
      },
      "source": []
    },
    {
      "cell_type": "markdown",
      "metadata": {
        "id": "CTweJmBl8Yfx"
      },
      "source": [
        "\n",
        "$$\n",
        "\\begin{aligned}\n",
        "\\text { Mazimize } & \\frac{1}{2}\\|\\mathbf{w}\\|^2+C \\sum_{i=1}^N a_n - \\frac{1}{2} \\sum_{i=1}^N \\sum_{j=1}^M a_i*a_j*y_i*y_j* x_i^T*x_j\\\\\n",
        "\\text { Subject to } & \\sum_{i=1}^N a_i = 0\\\\\n",
        "& a_i \\geq 0, \\quad i=1,2, \\ldots, N & c \\geq a_i\n",
        "\\end{aligned}\n",
        "$$\n"
      ]
    },
    {
      "cell_type": "markdown",
      "metadata": {
        "id": "Q5M0QNPu8Yfx"
      },
      "source": [
        "Now you should write this optimization problem in standard Quadratic Program (QP) form and use a QP solver to find optimal answer. Here is General form of a QP:\n",
        "$$\n",
        "\\begin{aligned}\n",
        "\\text { Minimize } & \\frac{1}{2} x^TPx + q^Tx + r \\\\\n",
        "\\text { Subject to } & Gx \\leq h \\\\\n",
        "& Ax = b\n",
        "\\end{aligned}\n",
        "$$\n",
        "\n",
        "\n",
        "Complete functions below and use ```cvxopt``` library which is a common library for solving QPs. Note that you can't use ```scikit-learn``` library.\n"
      ]
    },
    {
      "cell_type": "code",
      "execution_count": 56,
      "metadata": {
        "id": "d6C9A4tu8Yfx"
      },
      "outputs": [],
      "source": [
        "import numpy as np\n",
        "from cvxopt import matrix, solvers\n",
        "def soft_margin_svm(X, y, C):\n",
        "    \"\"\"\n",
        "    input:\n",
        "        X: training data\n",
        "        y: training labels\n",
        "        C: errors weight\n",
        "    output:\n",
        "        support_vectros: data points which are SVs of our model.\n",
        "        support_vector_labels: labels of SVs\n",
        "        support_vector_alphas: alpha coefficient of corresponding SVs\n",
        "    \"\"\"\n",
        "\n",
        "    # TODO: Write your code here\n",
        "    X = np.array(X)\n",
        "    y = np.array(y)\n",
        "    cnt = X.shape[0]\n",
        "\n",
        "\n",
        "    P = matrix(np.dot(y[:, None] * X, (y[:, None] * X).T))\n",
        "    q = matrix(-np.ones(cnt))\n",
        "\n",
        "    G = matrix(np.vstack((-np.eye(cnt), np.eye(cnt))))\n",
        "    h = matrix(np.hstack((np.zeros(cnt), C * np.ones(cnt))))\n",
        "\n",
        "\n",
        "    A = matrix(y.reshape(1, -1))\n",
        "    b = matrix(np.zeros(1))\n",
        "    sol = solvers.qp(P, q, G, h, A, b)\n",
        "    alphas = np.array(sol['x']).flatten()\n",
        "\n",
        "\n",
        "    sv = (alphas > 4e-3)\n",
        "    ind = np.arange(len(alphas))[sv]\n",
        "    support_vectors = X[sv]\n",
        "    support_vector_labels = y[sv]\n",
        "    support_vector_alphas = alphas[sv]\n",
        "\n",
        "    return support_vectors, support_vector_labels, support_vector_alphas"
      ]
    },
    {
      "cell_type": "code",
      "execution_count": 57,
      "metadata": {
        "colab": {
          "base_uri": "https://localhost:8080/"
        },
        "id": "8zMx08MS8Yfx",
        "outputId": "e639d248-5317-4b82-add0-244c6f7c3b13"
      },
      "outputs": [
        {
          "name": "stdout",
          "output_type": "stream",
          "text": [
            "     pcost       dcost       gap    pres   dres\n",
            " 0: -6.3131e+02 -3.4192e+03  2e+04  3e+00  5e-13\n",
            " 1: -4.3476e+02 -2.3299e+03  3e+03  4e-01  4e-13\n",
            " 2: -4.0459e+02 -8.1291e+02  5e+02  3e-02  3e-13\n",
            " 3: -4.4984e+02 -5.8182e+02  1e+02  9e-03  3e-13\n",
            " 4: -4.6660e+02 -5.4559e+02  8e+01  4e-03  3e-13\n",
            " 5: -4.7799e+02 -5.2122e+02  5e+01  2e-03  3e-13\n",
            " 6: -4.8566e+02 -5.0701e+02  2e+01  9e-04  3e-13\n",
            " 7: -4.8958e+02 -4.9998e+02  1e+01  3e-04  3e-13\n",
            " 8: -4.9183e+02 -4.9624e+02  5e+00  1e-04  3e-13\n",
            " 9: -4.9309e+02 -4.9440e+02  1e+00  2e-05  3e-13\n",
            "10: -4.9344e+02 -4.9391e+02  5e-01  5e-06  3e-13\n",
            "11: -4.9360e+02 -4.9371e+02  1e-01  9e-07  3e-13\n",
            "12: -4.9365e+02 -4.9366e+02  1e-02  6e-08  3e-13\n",
            "13: -4.9365e+02 -4.9365e+02  3e-04  1e-09  3e-13\n",
            "Optimal solution found.\n"
          ]
        }
      ],
      "source": [
        "C = 1.0\n",
        "support_vectors, support_vector_labels, support_vector_alphas = soft_margin_svm(X_train, y_train, C)"
      ]
    },
    {
      "cell_type": "code",
      "execution_count": 62,
      "metadata": {
        "id": "XObruCDn8Yfy"
      },
      "outputs": [],
      "source": [
        "def predict_labels(x_test, support_vectors, support_vector_labels, support_vector_alphas):\n",
        "    \"\"\"\n",
        "    input:\n",
        "        x_test: test data\n",
        "        support_vectros: data points which are SVs of our model.\n",
        "        support_vector_labels: labels of SVs\n",
        "        support_vector_alphas: alpha coefficient of corresponding SVs\n",
        "    output:\n",
        "        y_pred: predictoin labels\n",
        "    \"\"\"\n",
        "\n",
        "    y_pred = np.dot(np.dot(x_test, support_vectors.T), support_vector_alphas * support_vector_labels)\n",
        "\n",
        "    y_pred[y_pred > 0] = 1\n",
        "    y_pred[y_pred <= 0] = -1\n",
        "\n",
        "    return y_pred"
      ]
    },
    {
      "cell_type": "code",
      "execution_count": 63,
      "metadata": {
        "id": "wh3vKT0U8Yfy"
      },
      "outputs": [],
      "source": [
        "y_pred = predict_labels(np.array(X_test), support_vectors, support_vector_labels, support_vector_alphas)\n",
        "#print(y_pred)\n",
        "#print(np.array(y_test))"
      ]
    },
    {
      "cell_type": "markdown",
      "metadata": {
        "id": "RLyWY4Kv8Yfz"
      },
      "source": [
        "# Evaluation (20 points)"
      ]
    },
    {
      "cell_type": "markdown",
      "metadata": {
        "id": "p93W_e8U8Yfz"
      },
      "source": [
        "Compute accuracy, balanced accuracy and plot confusion matrix of your trained model using ```Seaborn.heatmap()``` function. Use case of balanced accuracy is when dealing with imbalanced data, i.e. when one of the target classes appears a lot more than the other and it is defined by average of recall of classes. Confusion matrix is a $k\\times k$ (k is number of classes) matrix which cell ij is showing that number of data points labeld i which predicted j. For more detail of evaluation metrics you can see [here](https://neptune.ai/blog/balanced-accuracy).\n",
        "\n",
        "You may use ```scikit-learn``` library to compute these metrics."
      ]
    },
    {
      "cell_type": "code",
      "execution_count": 65,
      "metadata": {
        "colab": {
          "base_uri": "https://localhost:8080/"
        },
        "id": "Ds2inpVO8Yfz",
        "outputId": "cd6b6348-d4f2-421c-fc70-14a7e27c3a65"
      },
      "outputs": [
        {
          "name": "stdout",
          "output_type": "stream",
          "text": [
            "Accuracy: 0.7715355805243446\n",
            "Balanced Accuracy: 0.8230877996229464\n",
            "Confusion Matrix:\n",
            "[[262 114]\n",
            " [  8 150]]\n"
          ]
        }
      ],
      "source": [
        "def evaluate(true, pred):\n",
        "    \"\"\"\n",
        "    in:\n",
        "        true: true labels\n",
        "        pred: predicted labels\n",
        "    out:\n",
        "        acc: accuracy\n",
        "        bal_acc: balanced accuracy\n",
        "        cm: confusion matrix\n",
        "    \"\"\"\n",
        "\n",
        "    c = np.sum(true == pred)\n",
        "    t = len(true)\n",
        "    acc = c / t\n",
        "\n",
        "    u = np.unique(np.concatenate((true, pred)))\n",
        "    r = []\n",
        "    for i in u:\n",
        "\n",
        "        p = np.sum((true == i) & (pred == i))\n",
        "        a = np.sum(true == i)\n",
        "\n",
        "        r.append(p / a)\n",
        "\n",
        "    bal_acc = np.mean(r)\n",
        "    l = np.unique(true)\n",
        "    cm = np.zeros((len(l), len(l)), dtype=int)\n",
        "    for i in range(len(l)):\n",
        "      #print(i, ' 66' )\n",
        "\n",
        "        for j in range(len(l)):\n",
        "\n",
        "            cm[i, j] = np.sum((true == l[i]) & (pred == l[j]))\n",
        "\n",
        "    print(\"Accuracy:\", acc)\n",
        "    print(\"Balanced Accuracy:\", bal_acc)\n",
        "    print(\"Confusion Matrix:\")\n",
        "    print(cm)\n",
        "\n",
        "    return acc, bal_acc, cm\n",
        "\n",
        "a, b, c = evaluate(y_test, y_pred)\n"
      ]
    },
    {
      "cell_type": "code",
      "execution_count": 66,
      "metadata": {
        "colab": {
          "base_uri": "https://localhost:8080/",
          "height": 448
        },
        "id": "4lWkTGGe8Yfz",
        "outputId": "c7bab7f1-c7ac-4941-cc9b-4d16a60cbdf6"
      },
      "outputs": [
        {
          "data": {
            "text/plain": [
              "<Axes: >"
            ]
          },
          "execution_count": 66,
          "metadata": {},
          "output_type": "execute_result"
        },
        {
          "data": {
            "image/png": "[encoded data removed]",
            "text/plain": [
              "<Figure size 640x480 with 2 Axes>"
            ]
          },
          "metadata": {},
          "output_type": "display_data"
        }
      ],
      "source": [
        "cm_matrix = pd.DataFrame(data=confusion_mat, columns=['Predict Negative:-1', 'Predict Positive:1'],\n",
        "                                 index=['Actual Negative:-1', 'Actual Positive:1'])\n",
        "\n",
        "sns.heatmap(cm_matrix, annot=True, fmt='d', cmap='mako')"
      ]
    },
    {
      "cell_type": "markdown",
      "metadata": {
        "id": "u3xjrHMI8Yfz"
      },
      "source": [
        "# Fine-tunning (40 points)"
      ]
    },
    {
      "cell_type": "markdown",
      "metadata": {
        "id": "msvO8Vgp8Yfz"
      },
      "source": [
        "like what you did before, implement Soft Margin SVM but now use rbf kernel. To determine rbf $\\gamma$ parameter use validation datas and find best(best by balanced accuracy) $\\gamma$ between 0.001 , 0.01, 1, 10, 100. Not that you can't use ```scikit-learn``` library here."
      ]
    },
    {
      "cell_type": "code",
      "execution_count": 67,
      "metadata": {
        "id": "bdbBP1hV8Yf0"
      },
      "outputs": [],
      "source": [
        "def rbf(x1, x2, gamma=1):\n",
        "    \"\"\"\n",
        "    input:\n",
        "        x1: first vector\n",
        "        x2: second vector\n",
        "        gamma: rbf kernel parameter with defalt value 1.\n",
        "    output:\n",
        "        ouput: computed rbf of two input vectors\n",
        "    \"\"\"\n",
        "    # TODO: Write your code here\n",
        "    distance = np.linalg.norm(x1 - x2) ** 2\n",
        "    output = np.exp(-gamma * distance)\n",
        "    return output\n",
        "\n",
        "def soft_margin_svm(X, y, C, gamma=1):\n",
        "    \"\"\"\n",
        "    input:\n",
        "        X: training data\n",
        "        y: training labels\n",
        "        C: errors weight\n",
        "        gamma: rbf kernel parameter with defalt value 1.\n",
        "    output:\n",
        "        support_vectros: data points which are SVs of our model.\n",
        "        support_vector_labels: labels of SVs\n",
        "        support_vector_alphas: alpha coefficient of corresponding SVs\n",
        "    \"\"\"\n",
        "\n",
        "    # TODO: Write your code here\n",
        "\n",
        "    X = np.array(X)\n",
        "    y = np.array(y)\n",
        "    cnt = X.shape[0]\n",
        "\n",
        "\n",
        "    K = np.zeros((cnt, cnt))\n",
        "    for i in range(cnt):\n",
        "        for j in range(cnt):\n",
        "\n",
        "            K[i, j] = rbf(X[i], X[j], gamma)\n",
        "\n",
        "\n",
        "    P = matrix(np.outer(y, y) * K)\n",
        "    q = matrix(-np.ones(cnt))\n",
        "    G = matrix(np.vstack((-np.eye(cnt), np.eye(cnt))))\n",
        "    h = matrix(np.hstack((np.zeros(cnt), C * np.ones(cnt))))\n",
        "\n",
        "    A = matrix(y.reshape(1, -1))\n",
        "    b = matrix(np.zeros(1))\n",
        "    sol = solvers.qp(P, q, G, h, A, b)\n",
        "\n",
        "\n",
        "    alphas = np.array(sol['x']).flatten()\n",
        "\n",
        "\n",
        "\n",
        "    sv = (alphas > 4e-3)\n",
        "    support_vectors = X[sv]\n",
        "    support_vector_labels = y[sv]\n",
        "    support_vector_alphas = alphas[sv]\n",
        "\n",
        "    return support_vectors, support_vector_labels, support_vector_alphas\n",
        "\n",
        "\n"
      ]
    },
    {
      "cell_type": "code",
      "execution_count": 76,
      "metadata": {
        "colab": {
          "base_uri": "https://localhost:8080/"
        },
        "id": "ACgxMwqJ8Yf0",
        "outputId": "2e3da612-9a70-4146-a060-b035a17d48cb"
      },
      "outputs": [
        {
          "name": "stdout",
          "output_type": "stream",
          "text": [
            "0.1\n",
            "     pcost       dcost       gap    pres   dres\n",
            " 0: -6.5732e+01 -6.1139e+02  2e+03  2e+00  7e-16\n",
            " 1: -5.4381e+01 -3.3960e+02  3e+02  5e-02  7e-16\n",
            " 2: -6.1842e+01 -1.0334e+02  4e+01  6e-03  6e-16\n",
            " 3: -6.6921e+01 -7.6583e+01  1e+01  1e-03  5e-16\n",
            " 4: -6.8287e+01 -7.1235e+01  3e+00  2e-04  5e-16\n",
            " 5: -6.8795e+01 -6.9469e+01  7e-01  7e-06  6e-16\n",
            " 6: -6.8925e+01 -6.9063e+01  1e-01  8e-07  5e-16\n",
            " 7: -6.8960e+01 -6.8971e+01  1e-02  3e-08  6e-16\n",
            " 8: -6.8963e+01 -6.8964e+01  3e-04  5e-10  5e-16\n",
            " 9: -6.8963e+01 -6.8963e+01  6e-06  7e-12  5e-16\n",
            "Optimal solution found.\n",
            "0.1\n",
            "     pcost       dcost       gap    pres   dres\n",
            " 0: -6.5732e+01 -6.1139e+02  2e+03  2e+00  7e-16\n",
            " 1: -5.4381e+01 -3.3960e+02  3e+02  5e-02  7e-16\n",
            " 2: -6.1842e+01 -1.0334e+02  4e+01  6e-03  6e-16\n",
            " 3: -6.6921e+01 -7.6583e+01  1e+01  1e-03  5e-16\n",
            " 4: -6.8287e+01 -7.1235e+01  3e+00  2e-04  5e-16\n",
            " 5: -6.8795e+01 -6.9469e+01  7e-01  7e-06  6e-16\n",
            " 6: -6.8925e+01 -6.9063e+01  1e-01  8e-07  5e-16\n",
            " 7: -6.8960e+01 -6.8971e+01  1e-02  3e-08  6e-16\n",
            " 8: -6.8963e+01 -6.8964e+01  3e-04  5e-10  5e-16\n",
            " 9: -6.8963e+01 -6.8963e+01  6e-06  7e-12  5e-16\n",
            "Optimal solution found.\n",
            "1\n",
            "     pcost       dcost       gap    pres   dres\n",
            " 0: -1.0755e+02 -5.3170e+02  4e+02  4e-15  6e-16\n",
            " 1: -1.0866e+02 -1.2253e+02  1e+01  4e-16  3e-16\n",
            " 2: -1.0982e+02 -1.1018e+02  4e-01  3e-15  2e-16\n",
            " 3: -1.0986e+02 -1.0986e+02  4e-03  1e-15  2e-16\n",
            " 4: -1.0986e+02 -1.0986e+02  4e-05  5e-15  1e-16\n",
            "Optimal solution found.\n",
            "10\n",
            "     pcost       dcost       gap    pres   dres\n",
            " 0: -1.1180e+02 -5.3560e+02  4e+02  8e-14  3e-16\n",
            " 1: -1.1255e+02 -1.1912e+02  7e+00  7e-15  4e-16\n",
            " 2: -1.1319e+02 -1.1326e+02  7e-02  4e-15  8e-17\n",
            " 3: -1.1320e+02 -1.1320e+02  7e-04  1e-14  1e-16\n",
            " 4: -1.1320e+02 -1.1320e+02  7e-06  4e-15  2e-16\n",
            "Optimal solution found.\n",
            "100\n",
            "     pcost       dcost       gap    pres   dres\n",
            " 0: -1.1180e+02 -5.3560e+02  4e+02  2e-13  2e-16\n",
            " 1: -1.1255e+02 -1.1912e+02  7e+00  3e-14  2e-16\n",
            " 2: -1.1319e+02 -1.1326e+02  7e-02  1e-16  6e-17\n",
            " 3: -1.1320e+02 -1.1320e+02  7e-04  2e-15  7e-17\n",
            " 4: -1.1320e+02 -1.1320e+02  7e-06  1e-16  9e-17\n",
            "Optimal solution found.\n",
            "Best gamma: 0.1\n",
            "Best balance accuracy: 0.8681995690816051\n"
          ]
        }
      ],
      "source": [
        "gammas = [00.1, 0.1, 1, 10, 100]\n",
        "best_gamma = None\n",
        "best_support_vectors = None\n",
        "best_support_vector_labels = None\n",
        "best_support_vector_alphas = None\n",
        "best_balance_accuracy = -1\n",
        "\n",
        "\n",
        "\n",
        "def bal(t, p):\n",
        "    pos = np.sum(t == 1)\n",
        "    neg = np.sum(t == -1)\n",
        "\n",
        "    tp = np.sum((t == 1) & (p == 1))\n",
        "    tn = np.sum((t == -1) & (p == -1))\n",
        "    fp = neg - tn\n",
        "    fn = pos - tp\n",
        "\n",
        "\n",
        "\n",
        "    return (tp/ pos + tn/neg) / 2\n",
        "\n",
        "\n",
        "for g in gammas:\n",
        "    print(g)\n",
        "    sv, svl, sva = soft_margin_svm(X_val, y_val, C, g)\n",
        "    if len(sv) == 0:\n",
        "        continue\n",
        "\n",
        "    p = []\n",
        "    for i in range(len(X_test)):\n",
        "\n",
        "        pred = np.sign(np.sum(sva * svl * [rbf(X_test[i], x, g) for x in sv]))\n",
        "        p.append(pred)\n",
        "\n",
        "    res = bal(y_test, np.array(p))\n",
        "\n",
        "    if res > best_balance_accuracy :\n",
        "        best_balance_accuracy = res\n",
        "        best_gamma = g\n",
        "        best_support_vectors = sv\n",
        "        best_support_vector_labels = svl\n",
        "        best_support_vector_alphas = sva\n",
        "\n",
        "\n",
        "\n",
        "print(\"Best gamma:\", best_gamma)\n",
        "print(\"Best balance accuracy:\", best_balance_accuracy)"
      ]
    },
    {
      "cell_type": "code",
      "execution_count": 77,
      "metadata": {
        "colab": {
          "base_uri": "https://localhost:8080/"
        },
        "id": "CNRmxW7g8Yf0",
        "outputId": "834f0d48-8b96-4602-b510-260e05f35e9e"
      },
      "outputs": [
        {
          "name": "stdout",
          "output_type": "stream",
          "text": [
            "Accuracy: 0.8033707865168539\n",
            "Balanced Accuracy: 0.8383551036897388\n",
            "Confusion Matrix:\n",
            "[[283  93]\n",
            " [ 12 146]]\n"
          ]
        }
      ],
      "source": [
        "y_pred = predict_labels(np.array(X_test), best_support_vectors, best_support_vector_labels, best_support_vector_alphas)\n",
        "_, _, confusion_mat = evaluate(y_test, y_pred)"
      ]
    },
    {
      "cell_type": "markdown",
      "metadata": {
        "id": "teogkHs28Yf0"
      },
      "source": [
        "# Multiclass SVM (30 points + 50 points optional)"
      ]
    },
    {
      "cell_type": "markdown",
      "metadata": {
        "id": "pNXEODKr8Yf0"
      },
      "source": [
        "Now we want implement Multiclass SVM. Use ```SVC``` function with rbf kernel from ```scikit-learn``` package on all train datas (all six classes) and choose best hyperparameters for $C$ and $\\gamma$ between 0.01, 0.1, 1, 10, 100. After that evaluate it with your function.\n",
        "\n",
        "Note that in this example we had enough data to split them in train and validation but in case that we don't have enough data, ```scikit-learn``` has a built-in fast library named ```GridSearchCV()``` which can help us in hyperparameter tunning with cross validation."
      ]
    },
    {
      "cell_type": "code",
      "execution_count": 80,
      "metadata": {
        "colab": {
          "base_uri": "https://localhost:8080/"
        },
        "id": "CuJ-2679yOVM",
        "outputId": "5d0f2163-2ba6-4ad5-90eb-88f2a57c82f6"
      },
      "outputs": [
        {
          "name": "stdout",
          "output_type": "stream",
          "text": [
            "[6. 6. 6. ... 6. 6. 6.]\n"
          ]
        }
      ],
      "source": [
        "path = \"/content/satimage.csv\"\n",
        "df = pd.read_csv(path)\n",
        "X = df.drop('label', axis=1)\n",
        "y = df['label']\n",
        "print(np.array(y))\n",
        "\n",
        "\n",
        "X_train, X_temp, y_train, y_temp = train_test_split(X, y, test_size=0.4)\n",
        "X_val, X_test, y_val, y_test = train_test_split(X_temp, y_temp, test_size=0.625)\n",
        "\n",
        "scaler = StandardScaler()\n",
        "X_train = scaler.fit_transform(X_train)\n",
        "X_val = scaler.transform(X_val)\n",
        "X_test = scaler.transform(X_test)"
      ]
    },
    {
      "cell_type": "code",
      "execution_count": 81,
      "metadata": {
        "colab": {
          "base_uri": "https://localhost:8080/"
        },
        "id": "Py2Bz51l8Yf0",
        "outputId": "a59ab90b-79e4-435d-bc59-61b76b800b48"
      },
      "outputs": [
        {
          "name": "stdout",
          "output_type": "stream",
          "text": [
            "Accuracy: 0.9316062176165804\n",
            "Balanced Accuracy: 0.9123345543101126\n",
            "Confusion Matrix:\n",
            "[[226   1   3   0   1   0]\n",
            " [  0 106   0   0   0   1]\n",
            " [  2   0 210   3   1   1]\n",
            " [  0   2   7  59   0  14]\n",
            " [  2   1   2   0 101   5]\n",
            " [  0   0   6  12   2 197]]\n"
          ]
        }
      ],
      "source": [
        "from sklearn.svm import SVC\n",
        "from sklearn.model_selection import GridSearchCV\n",
        "\n",
        "Cs = [0.01, 0.1, 1, 10, 100]\n",
        "gammas = [0.01, 0.1, 1, 10, 100]\n",
        "p = {'C': Cs, 'gamma': gammas}\n",
        "\n",
        "s = SVC(kernel='rbf')\n",
        "\n",
        "grid_s = GridSearchCV(estimator=s, param_grid=p, cv= 5)\n",
        "grid_s.fit(X_train, y_train)\n",
        "\n",
        "bc = grid_s.best_params_['C']\n",
        "bg = grid_s.best_params_['gamma']\n",
        "bs = SVC(kernel='rbf',  C=bc, gamma=bg)\n",
        "\n",
        "bs.fit(X_train, y_train)\n",
        "\n",
        "t = bs.predict(X_val)\n",
        "\n",
        "acc = evaluate(y_val, t)\n",
        "\n"
      ]
    },
    {
      "cell_type": "code",
      "execution_count": 82,
      "metadata": {
        "colab": {
          "base_uri": "https://localhost:8080/"
        },
        "id": "JErQuHrTDlBP",
        "outputId": "28686f76-a71d-4d6c-d4cd-ffc49946bad6"
      },
      "outputs": [
        {
          "name": "stdout",
          "output_type": "stream",
          "text": [
            "10\n",
            "0.1\n"
          ]
        }
      ],
      "source": [
        "print(bc)\n",
        "print(bg)"
      ]
    },
    {
      "cell_type": "markdown",
      "metadata": {
        "id": "LIw3iZzt8Yf1"
      },
      "source": [
        "Implement Multiclass SVM from scratch without using ready functions (optional)."
      ]
    },
    {
      "cell_type": "code",
      "execution_count": 102,
      "metadata": {
        "colab": {
          "base_uri": "https://localhost:8080/"
        },
        "id": "LL73Hs7o8Yf1",
        "outputId": "1bb3dd5d-6534-4592-c26e-4531874d2e31"
      },
      "outputs": [
        {
          "name": "stdout",
          "output_type": "stream",
          "text": [
            "     pcost       dcost       gap    pres   dres\n",
            " 0:  9.7912e+03 -1.8968e+05  4e+05  4e-01  9e-15\n",
            " 1:  8.2391e+03 -3.2369e+04  4e+04  9e-03  4e-15\n",
            " 2:  1.1309e+03 -5.6271e+03  7e+03  8e-04  7e-15\n",
            " 3: -3.6312e+02 -1.1031e+03  7e+02  4e-13  4e-15\n",
            " 4: -4.9444e+02 -5.6884e+02  7e+01  1e-13  1e-15\n",
            " 5: -5.0503e+02 -5.2294e+02  2e+01  4e-14  6e-16\n",
            " 6: -5.0774e+02 -5.1226e+02  5e+00  2e-15  4e-16\n",
            " 7: -5.0858e+02 -5.0967e+02  1e+00  2e-14  4e-16\n",
            " 8: -5.0879e+02 -5.0899e+02  2e-01  7e-15  3e-16\n",
            " 9: -5.0884e+02 -5.0885e+02  1e-02  4e-14  4e-16\n",
            "10: -5.0884e+02 -5.0884e+02  3e-04  1e-14  3e-16\n",
            "Optimal solution found.\n",
            "     pcost       dcost       gap    pres   dres\n",
            " 0:  5.4422e+03 -1.0562e+05  2e+05  2e-01  9e-15\n",
            " 1:  3.9867e+03 -1.5133e+04  2e+04  1e-02  4e-15\n",
            " 2:  2.3792e+02 -2.5672e+03  3e+03  5e-13  6e-15\n",
            " 3: -3.8016e+02 -6.8585e+02  3e+02  1e-13  3e-15\n",
            " 4: -4.2668e+02 -4.6232e+02  4e+01  4e-14  1e-15\n",
            " 5: -4.3232e+02 -4.3952e+02  7e+00  7e-15  4e-16\n",
            " 6: -4.3360e+02 -4.3599e+02  2e+00  2e-14  2e-16\n",
            " 7: -4.3407e+02 -4.3469e+02  6e-01  7e-15  2e-16\n",
            " 8: -4.3420e+02 -4.3432e+02  1e-01  5e-15  2e-16\n",
            " 9: -4.3423e+02 -4.3424e+02  7e-03  2e-14  2e-16\n",
            "10: -4.3423e+02 -4.3423e+02  2e-04  7e-15  2e-16\n",
            "Optimal solution found.\n",
            "     pcost       dcost       gap    pres   dres\n",
            " 0:  7.1468e+03 -1.8419e+05  4e+05  5e-01  1e-14\n",
            " 1:  6.7969e+03 -3.2836e+04  4e+04  1e-02  4e-15\n",
            " 2:  1.5050e+03 -8.9034e+03  1e+04  2e-03  8e-15\n",
            " 3: -2.4596e+02 -2.4135e+03  2e+03  7e-05  4e-15\n",
            " 4: -5.0843e+02 -9.9136e+02  5e+02  1e-05  2e-15\n",
            " 5: -5.5283e+02 -6.4830e+02  1e+02  7e-07  1e-15\n",
            " 6: -5.6005e+02 -5.7948e+02  2e+01  1e-07  1e-15\n",
            " 7: -5.6160e+02 -5.6668e+02  5e+00  3e-08  9e-16\n",
            " 8: -5.6208e+02 -5.6344e+02  1e+00  5e-09  9e-16\n",
            " 9: -5.6224e+02 -5.6249e+02  3e-01  6e-10  9e-16\n",
            "10: -5.6227e+02 -5.6230e+02  3e-02  4e-11  9e-16\n",
            "11: -5.6228e+02 -5.6228e+02  9e-04  1e-12  8e-16\n",
            "12: -5.6228e+02 -5.6228e+02  2e-05  2e-14  8e-16\n",
            "Optimal solution found.\n",
            "     pcost       dcost       gap    pres   dres\n",
            " 0:  4.2005e+03 -1.1033e+05  2e+05  2e-01  9e-15\n",
            " 1:  3.5847e+03 -1.6465e+04  2e+04  1e-02  4e-15\n",
            " 2:  7.4334e+02 -5.4082e+03  6e+03  3e-03  5e-15\n",
            " 3: -3.0686e+02 -1.5682e+03  1e+03  2e-14  4e-15\n",
            " 4: -4.5617e+02 -6.9799e+02  2e+02  1e-13  2e-15\n",
            " 5: -4.7918e+02 -5.3242e+02  5e+01  8e-14  1e-15\n",
            " 6: -4.8353e+02 -4.9817e+02  1e+01  8e-16  8e-16\n",
            " 7: -4.8462e+02 -4.9106e+02  6e+00  1e-15  7e-16\n",
            " 8: -4.8511e+02 -4.8675e+02  2e+00  5e-15  7e-16\n",
            " 9: -4.8524e+02 -4.8560e+02  4e-01  2e-14  8e-16\n",
            "10: -4.8527e+02 -4.8532e+02  4e-02  2e-14  8e-16\n",
            "11: -4.8528e+02 -4.8528e+02  4e-03  3e-14  7e-16\n",
            "12: -4.8528e+02 -4.8528e+02  1e-04  3e-15  7e-16\n",
            "Optimal solution found.\n",
            "     pcost       dcost       gap    pres   dres\n",
            " 0:  5.6873e+03 -1.0624e+05  2e+05  2e-01  9e-15\n",
            " 1:  4.0457e+03 -1.5074e+04  2e+04  1e-02  4e-15\n",
            " 2:  5.2193e+02 -3.9780e+03  5e+03  2e-03  5e-15\n",
            " 3: -3.4933e+02 -8.7520e+02  5e+02  2e-13  4e-15\n",
            " 4: -4.2457e+02 -5.3651e+02  1e+02  1e-14  1e-15\n",
            " 5: -4.3729e+02 -4.5687e+02  2e+01  7e-16  5e-16\n",
            " 6: -4.3971e+02 -4.4602e+02  6e+00  8e-15  3e-16\n",
            " 7: -4.4038e+02 -4.4232e+02  2e+00  4e-16  2e-16\n",
            " 8: -4.4063e+02 -4.4107e+02  4e-01  2e-14  2e-16\n",
            " 9: -4.4070e+02 -4.4073e+02  3e-02  2e-14  2e-16\n",
            "10: -4.4071e+02 -4.4071e+02  1e-03  5e-15  2e-16\n",
            "11: -4.4071e+02 -4.4071e+02  5e-05  3e-15  2e-16\n",
            "Optimal solution found.\n",
            "     pcost       dcost       gap    pres   dres\n",
            " 0:  7.5465e+03 -1.9093e+05  4e+05  5e-01  9e-15\n",
            " 1:  7.3620e+03 -3.7124e+04  5e+04  2e-02  4e-15\n",
            " 2:  1.6364e+03 -9.2922e+03  1e+04  3e-03  7e-15\n",
            " 3: -2.3726e+02 -2.4673e+03  2e+03  7e-14  4e-15\n",
            " 4: -5.0857e+02 -9.2248e+02  4e+02  2e-14  2e-15\n",
            " 5: -5.4718e+02 -6.3222e+02  9e+01  1e-14  9e-16\n",
            " 6: -5.5412e+02 -5.7700e+02  2e+01  6e-15  6e-16\n",
            " 7: -5.5623e+02 -5.6081e+02  5e+00  5e-15  5e-16\n",
            " 8: -5.5675e+02 -5.5786e+02  1e+00  1e-14  5e-16\n",
            " 9: -5.5689e+02 -5.5708e+02  2e-01  1e-14  5e-16\n",
            "10: -5.5692e+02 -5.5694e+02  2e-02  3e-14  5e-16\n",
            "11: -5.5692e+02 -5.5692e+02  5e-04  5e-14  5e-16\n",
            "Optimal solution found.\n"
          ]
        }
      ],
      "source": [
        "def MSVM(X, y, C=10):\n",
        "\n",
        "    all = []\n",
        "    c = np.unique(y)\n",
        "    for col in c:\n",
        "        #print(c)\n",
        "\n",
        "        tmp = np.where(y == col, 1.0, -1.0)\n",
        "\n",
        "        support_vectors, support_vector_labels, support_vector_alphas = soft_margin_svm(X, tmp, C)\n",
        "        all.append((support_vectors, support_vector_labels, support_vector_alphas))\n",
        "\n",
        "    return all, c\n",
        "\n",
        "all, c = MSVM(X_train, y_train)\n"
      ]
    },
    {
      "cell_type": "code",
      "execution_count": 124,
      "metadata": {
        "id": "OEHx0mMCz8Ju"
      },
      "outputs": [],
      "source": [
        "def predict(ans, c, X):\n",
        "    cnt = X.shape[0]\n",
        "    p = np.zeros((cnt, len(ans)))\n",
        "\n",
        "    for i, (sv, l, al) in enumerate(ans):\n",
        "\n",
        "        p[:, i] = [np.sum(al * l * rbf(x, sv, 0.01)) for x in X]\n",
        "\n",
        "    return [c[np.argmax(i)] for i in p]\n",
        "\n",
        "\n",
        "y_pred = predict(ans, c, X_test)"
      ]
    },
    {
      "cell_type": "markdown",
      "metadata": {
        "id": "HVP26-gb8Yf1"
      },
      "source": [
        "# Different SVM Kernels (40 points)"
      ]
    },
    {
      "cell_type": "markdown",
      "metadata": {
        "id": "v8ZACEC98Yf1"
      },
      "source": [
        "A kernel in SVM is like a tool that helps solve tricky problems. It lets us work in a space with many dimensions, making complex calculations easier. With kernels, we can deal with lots of dimensions, even an endless amount. Kernels are crucial for sorting data into groups and help spot patterns in the data we're looking at. They're especially good at tackling twisty problems with a straightforward approach.\n",
        "\n",
        "Sometimes, finding a straight line or flat surface to divide data isn't possible, especially as we explore more dimensions. That's where different types of SVM kernels come in handy. They transform twisty, complicated data into a simpler form that's easier to separate. In this explanation, we talk about 4 popular types of these kernels. Also in following cells you can use any package.\n",
        "\n",
        "<img src=\"./kernel.jpg\" alt=\"Types of Kernel Functions\"  align=center class=\"saturate\">"
      ]
    },
    {
      "cell_type": "markdown",
      "metadata": {
        "id": "dVz10mJj8Yf1"
      },
      "source": [
        "### Linear Kernel"
      ]
    },
    {
      "cell_type": "markdown",
      "metadata": {
        "id": "IV668MhE8Yf1"
      },
      "source": [
        "This is the simplest kind of kernel, typically working in one dimension. It works best when dealing with a lot of features. Linear kernels are quicker than other types.\n",
        "\n",
        "**Formula:**\n",
        "\n",
        "$$F(x, x_j) = sum(x, x_j)$$\n",
        "\n",
        "Now Implement svc classifier using a linear kernel. Get the prediction and evaluate it by function which you implemented before. Also plot confusion matrix by `Seaborn`."
      ]
    },
    {
      "cell_type": "code",
      "execution_count": 96,
      "metadata": {
        "colab": {
          "base_uri": "https://localhost:8080/",
          "height": 703
        },
        "id": "3RD-2FQy8Yf1",
        "outputId": "f0d16808-ee4c-46a9-c668-aa768ffcacb0"
      },
      "outputs": [
        {
          "name": "stdout",
          "output_type": "stream",
          "text": [
            "Accuracy: 0.8707271597265382\n",
            "Balanced Accuracy: 0.8386772216396241\n",
            "Confusion Matrix:\n",
            "[[354   0   3   0   4   0]\n",
            " [  0 181   0   0  12   0]\n",
            " [  2   1 308  15   0   1]\n",
            " [  0   0  23  74   2  39]\n",
            " [  6   7   1   3 150  18]\n",
            " [  0   0   7  52  12 334]]\n"
          ]
        },
        {
          "data": {
            "image/png": "[encoded data removed]",
            "text/plain": [
              "<Figure size 800x600 with 2 Axes>"
            ]
          },
          "metadata": {},
          "output_type": "display_data"
        }
      ],
      "source": [
        "from sklearn.svm import SVC\n",
        "from sklearn.metrics import confusion_matrix\n",
        "import seaborn as sns\n",
        "import matplotlib.pyplot as plt\n",
        "\n",
        "m = SVC(kernel='linear')\n",
        "m.fit(X_train, y_train)\n",
        "y_pred = m.predict(X_test)\n",
        "acc = evaluate(y_test, y_pred)\n",
        "\n",
        "\n",
        "cm_linear = confusion_matrix(y_test, y_pred)\n",
        "plt.figure(figsize=(8, 6))\n",
        "sns.heatmap(cm_linear, annot=True, fmt='d', cmap='Blues')\n",
        "plt.xlabel('Predicted labels')\n",
        "plt.ylabel('True labels')\n",
        "plt.show()\n"
      ]
    },
    {
      "cell_type": "markdown",
      "metadata": {
        "id": "IZ4GTzzq8Yf2"
      },
      "source": [
        "### Gaussian RBF kernel"
      ]
    },
    {
      "cell_type": "markdown",
      "metadata": {
        "id": "kn-0tO4T8Yf2"
      },
      "source": [
        "This kernel is a favorite choice in SVM, especially for data that doesn't line up straight. It's great for sorting data when you don't know much about it beforehand.\n",
        "\n",
        "**Formula:**\n",
        "\n",
        "$$F(x, x_j) = \\exp{(-\\gamma ||x - xj||^2)}$$\n",
        "\n",
        "Now, configure the SVC classifier with a sigmoid kernel. Get the prediction and evaluate it by function which you implemented before. Also plot confusion matrix as previous part."
      ]
    },
    {
      "cell_type": "code",
      "execution_count": 97,
      "metadata": {
        "colab": {
          "base_uri": "https://localhost:8080/",
          "height": 703
        },
        "id": "UU3AQUOM8Yf2",
        "outputId": "ee72248a-5642-4341-ac1c-63e051276296"
      },
      "outputs": [
        {
          "name": "stdout",
          "output_type": "stream",
          "text": [
            "Accuracy: 0.8980733374766936\n",
            "Balanced Accuracy: 0.872856371903639\n",
            "Confusion Matrix:\n",
            "[[356   1   2   0   2   0]\n",
            " [  0 189   0   0   4   0]\n",
            " [  2   1 316   4   1   3]\n",
            " [  0   0  26  83   3  26]\n",
            " [  6   2   0   3 159  15]\n",
            " [  0   0  15  42   6 342]]\n"
          ]
        },
        {
          "data": {
            "image/png": "[encoded data removed]",
            "text/plain": [
              "<Figure size 800x600 with 2 Axes>"
            ]
          },
          "metadata": {},
          "output_type": "display_data"
        }
      ],
      "source": [
        "import numpy as np\n",
        "from sklearn.svm import SVC\n",
        "from sklearn.metrics import confusion_matrix\n",
        "import seaborn as sns\n",
        "import matplotlib.pyplot as plt\n",
        "\n",
        "\n",
        "m = SVC(kernel='rbf')\n",
        "m.fit(X_train, y_train)\n",
        "y_pred = m.predict(X_test)\n",
        "acc = evaluate(y_test, y_pred)\n",
        "\n",
        "\n",
        "\n",
        "cm_linear = confusion_matrix(y_test, y_pred)\n",
        "plt.figure(figsize=(8, 6))\n",
        "sns.heatmap(cm_linear, annot=True, fmt='d', cmap='Blues')\n",
        "plt.xlabel('Predicted labels')\n",
        "plt.ylabel('True labels')\n",
        "plt.show()\n"
      ]
    },
    {
      "cell_type": "markdown",
      "metadata": {
        "id": "A5ob6_I08Yf2"
      },
      "source": [
        "### Polynomial Kernel"
      ]
    },
    {
      "cell_type": "markdown",
      "metadata": {
        "id": "HHrHPRLc8Yf2"
      },
      "source": [
        "This is a broader version of the linear kernel. It's not as popular because it's not as quick or precise.\n",
        "\n",
        "**Formula:**\n",
        "\n",
        "$$F(x, x_j) = (x.x_j+1)^d$$\n",
        "\n",
        "Now, set up the SVC classifier using a *polynomial* kernel. Get the prediction and evaluate it by function which you implemented before. Also plot confusion matrix as previous parts."
      ]
    },
    {
      "cell_type": "code",
      "execution_count": 98,
      "metadata": {
        "colab": {
          "base_uri": "https://localhost:8080/",
          "height": 703
        },
        "id": "jmd7FgLi8Yf2",
        "outputId": "f6e50c8f-af12-4b1a-e150-ff13624b9a53"
      },
      "outputs": [
        {
          "name": "stdout",
          "output_type": "stream",
          "text": [
            "Accuracy: 0.8508390304536979\n",
            "Balanced Accuracy: 0.8298838068067815\n",
            "Confusion Matrix:\n",
            "[[358   1   2   0   0   0]\n",
            " [  3 184   0   4   1   1]\n",
            " [  5   1 296  22   0   3]\n",
            " [  6   0  16  95   0  21]\n",
            " [ 25   1   0  18 124  17]\n",
            " [  1   0   9  77   6 312]]\n"
          ]
        },
        {
          "data": {
            "image/png": "[encoded data removed]",
            "text/plain": [
              "<Figure size 800x600 with 2 Axes>"
            ]
          },
          "metadata": {},
          "output_type": "display_data"
        }
      ],
      "source": [
        "from sklearn.svm import SVC\n",
        "from sklearn.metrics import confusion_matrix\n",
        "import seaborn as sns\n",
        "import matplotlib.pyplot as plt\n",
        "\n",
        "\n",
        "m = SVC(kernel='poly')\n",
        "m.fit(X_train, y_train)\n",
        "y_pred = m.predict(X_test)\n",
        "acc = evaluate(y_test, y_pred)\n",
        "\n",
        "\n",
        "cm_linear = confusion_matrix(y_test, y_pred)\n",
        "plt.figure(figsize=(8, 6))\n",
        "sns.heatmap(cm_linear, annot=True, fmt='d', cmap='Blues')\n",
        "plt.xlabel('Predicted labels')\n",
        "plt.ylabel('True labels')\n",
        "plt.show()\n"
      ]
    },
    {
      "cell_type": "markdown",
      "metadata": {
        "id": "Vv3LUXG08Yf3"
      },
      "source": [
        "### Sigmoid Kernel"
      ]
    },
    {
      "cell_type": "markdown",
      "metadata": {
        "id": "OPBKfGQH8Yf3"
      },
      "source": [
        "This is mainly chosen for use with neural networks. The kernel function acts like the activation function in a two-layer perceptron neural network model, helping to activate the neurons.\n",
        "\n",
        "**Formula:**\n",
        "\n",
        "$$F(x, x_j) = \\tanh(α x a y + c)$$\n",
        "\n",
        "Now, configure the SVC classifier with a sigmoid kernel. Get the prediction and evaluate it by function which you implemented before. Also plot confusion matrix as previous parts."
      ]
    },
    {
      "cell_type": "code",
      "execution_count": 99,
      "metadata": {
        "colab": {
          "base_uri": "https://localhost:8080/",
          "height": 708
        },
        "id": "QW1mXi4p8Yf3",
        "outputId": "14762bc0-caf7-4aec-c11a-2f2ddcb15537"
      },
      "outputs": [
        {
          "name": "stdout",
          "output_type": "stream",
          "text": [
            "Accuracy: 0.7110006215040398\n",
            "Balanced Accuracy: 0.6637537373498898\n",
            "Confusion Matrix:\n",
            "[[282   8  11   0  60   0]\n",
            " [ 37 152   0   2   2   0]\n",
            " [  2   1 300  22   0   2]\n",
            " [  1   1  27  46  14  49]\n",
            " [ 18  36   2  30  90   9]\n",
            " [  0   0  15  64  52 274]]\n"
          ]
        },
        {
          "data": {
            "image/png": "[encoded data removed]",
            "text/plain": [
              "<Figure size 800x600 with 2 Axes>"
            ]
          },
          "metadata": {},
          "output_type": "display_data"
        }
      ],
      "source": [
        "from sklearn.svm import SVC\n",
        "from sklearn.metrics import confusion_matrix\n",
        "import seaborn as sns\n",
        "import matplotlib.pyplot as plt\n",
        "\n",
        "\n",
        "m = SVC(kernel='sigmoid')\n",
        "m.fit(X_train, y_train)\n",
        "y_pred = m.predict(X_test)\n",
        "acc = evaluate(y_test, y_pred)\n",
        "\n",
        "\n",
        "\n",
        "cm_linear = confusion_matrix(y_test, y_pred)\n",
        "plt.figure(figsize=(8, 6))\n",
        "sns.heatmap(cm_linear, annot=True, fmt='d', cmap='Blues')\n",
        "plt.xlabel('Predicted labels')\n",
        "plt.ylabel('True labels')\n",
        "plt.show()"
      ]
    },
    {
      "cell_type": "markdown",
      "metadata": {
        "id": "WACOEXvJ8Yf3"
      },
      "source": [
        "Compare these four kernel functions with each other. What are the main advantages and disadvantages of each one?"
      ]
    },
    {
      "cell_type": "markdown",
      "metadata": {
        "id": "ZP1QvnVt8Yf3"
      },
      "source": [
        "from top acc:\n",
        "\n",
        "Gaussian RBF >\n",
        "Linear >\n",
        "Polynomial >\n",
        "Sigmoid\n",
        "\n",
        "\n"
      ]
    },
    {
      "cell_type": "code",
      "execution_count": null,
      "metadata": {
        "id": "sEhQyVfmHdp6"
      },
      "outputs": [],
      "source": []
    },
    {
      "cell_type": "markdown",
      "metadata": {
        "id": "GKjb1SGPH8lH"
      },
      "source": [
        "کرنل خطی برای فضاهایی که خطی تفکیک پذیرهستند مناسب است زیرا هم محاسبه سریعی دارد و هم در این فضاها خوب کار میکند ولی نمیتواند الگوهای پیچیده را یاد بگیرد."
      ]
    },
    {
      "cell_type": "markdown",
      "metadata": {
        "id": "LHBc632pINKi"
      },
      "source": [
        "کرنل گاوسی میتواند مدل های پیچیده را هم یاد بگیرد ولی هم هزینه محاسبه آن نسبتا بالا است هم ممکن است بیش از حد فیت شود."
      ]
    },
    {
      "cell_type": "markdown",
      "metadata": {
        "id": "zxOd3779IaxA"
      },
      "source": [
        "از کرنل خطی بهتر میتواند مدل های پیچیده را مدل کند و هزینه محاسبه آن کرنل گاوسی کمتر است ولی نسبتا به داده های نویزی حساس است."
      ]
    },
    {
      "cell_type": "markdown",
      "metadata": {
        "id": "a1Z7gdToIrCX"
      },
      "source": [
        "مدل سیگموید برای داده هایی که الگوهای نامشخصی دارند بهتر از سایرین عمل میکند ولی وابستگی زیادی به هایپرپارامترها دارد."
      ]
    }
  ],
  "metadata": {
    "colab": {
      "provenance": []
    },
    "kernelspec": {
      "display_name": "Python 3",
      "language": "python",
      "name": "python3"
    },
    "language_info": {
      "codemirror_mode": {
        "name": "ipython",
        "version": 3
      },
      "file_extension": ".py",
      "mimetype": "text/x-python",
      "name": "python",
      "nbconvert_exporter": "python",
      "pygments_lexer": "ipython3",
      "version": "3.11.2"
    }
  },
  "nbformat": 4,
  "nbformat_minor": 0
}
